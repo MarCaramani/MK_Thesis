{
 "cells": [
  {
   "cell_type": "markdown",
   "id": "aa489c73-062c-40b2-8403-de3b7cea9903",
   "metadata": {},
   "source": [
    "https://lamini-ai.github.io/"
   ]
  },
  {
   "cell_type": "code",
   "execution_count": null,
   "id": "b2221814-6a7d-4e53-a1fa-2d82418aab72",
   "metadata": {},
   "outputs": [],
   "source": []
  }
 ],
 "metadata": {
  "kernelspec": {
   "display_name": "Python 3 (ipykernel)",
   "language": "python",
   "name": "python3"
  },
  "language_info": {
   "codemirror_mode": {
    "name": "ipython",
    "version": 3
   },
   "file_extension": ".py",
   "mimetype": "text/x-python",
   "name": "python",
   "nbconvert_exporter": "python",
   "pygments_lexer": "ipython3",
   "version": "3.11.5"
  }
 },
 "nbformat": 4,
 "nbformat_minor": 5
}
