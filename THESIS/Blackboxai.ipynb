{
 "cells": [
  {
   "cell_type": "code",
   "execution_count": null,
   "id": "fca57fc5-fbe4-4e95-8d20-e8e2623dc10b",
   "metadata": {},
   "outputs": [],
   "source": [
    "!pip install pyarrow==<15\n",
    "!pip install ibis-framework"
   ]
  },
  {
   "cell_type": "code",
   "execution_count": null,
   "id": "589f817b-e492-47a5-8e1e-5db0760d2b6e",
   "metadata": {},
   "outputs": [],
   "source": [
    "!pip install transformers\n",
    "!pip install transformers[sentencepiece]\n",
    "!pip install datasets\n",
    "!pip install transformers[torch]"
   ]
  },
  {
   "cell_type": "code",
   "execution_count": null,
   "id": "4945d1dd-7ab4-4ed2-9e2c-214388ec6fb2",
   "metadata": {},
   "outputs": [],
   "source": [
    "!pip install accelerate -U\n",
    "!pip install accelerate>=0.20.1"
   ]
  },
  {
   "cell_type": "code",
   "execution_count": null,
   "id": "13d6a910-3c55-4f0e-b567-154d665482e6",
   "metadata": {},
   "outputs": [],
   "source": [
    "!wget https://raw.githubusercontent.com/MarCaramani/MK_Thesis/master/THESIS/Dataset.json\n",
    "!wget https://raw.githubusercontent.com/MarCaramani/MK_Thesis/master/THESIS/Train_Dataset.json"
   ]
  },
  {
   "cell_type": "code",
   "execution_count": null,
   "id": "889a14e5-931f-4a2c-a9e5-237700352e9a",
   "metadata": {},
   "outputs": [],
   "source": [
    "from datasets import load_dataset\n",
    "from transformers import AutoTokenizer, AutoModelForSeq2SeqLM"
   ]
  },
  {
   "cell_type": "code",
   "execution_count": null,
   "id": "b2e9046a-9436-4c0f-b12c-c9a41fe52540",
   "metadata": {},
   "outputs": [],
   "source": [
    "checkpoint =\"facebook/bart-large-cnn\"\n",
    "tokenizer = AutoTokenizer.from_pretrained(checkpoint)\n",
    "model = AutoModelForSeq2SeqLM.from_pretrained(checkpoint)"
   ]
  },
  {
   "cell_type": "code",
   "execution_count": null,
   "id": "9fdae127-7151-49b7-93de-c24577ec84d3",
   "metadata": {},
   "outputs": [],
   "source": [
    "max_input_length = 1042\n",
    "max_target_length = 512\n",
    "\n",
    "def preprocess_function(examples):\n",
    "    model_inputs = tokenizer(\n",
    "        examples[\"TEXT\"],\n",
    "        max_length=max_input_length,\n",
    "        truncation=True,\n",
    "    )\n",
    "    labels = tokenizer(\n",
    "        examples[\"SUMMARIZATION\"], max_length=max_target_length, truncation=True\n",
    "    )\n",
    "    model_inputs[\"labels\"] = labels[\"input_ids\"]\n",
    "    return model_inputs"
   ]
  },
  {
   "cell_type": "code",
   "execution_count": null,
   "id": "b1800eed-57ab-4455-a0bf-bf239ce2beda",
   "metadata": {},
   "outputs": [],
   "source": [
    "my_dataset_test = load_dataset(\"json\", data_files=\"Dataset.json\", field=\"documents\")\n",
    "my_dataset_train = load_dataset(\"json\", data_files=\"Train_Dataset.json\", field=\"documents\")"
   ]
  },
  {
   "cell_type": "code",
   "execution_count": null,
   "id": "5b8e1442-c092-4def-8413-fffa5085c092",
   "metadata": {},
   "outputs": [],
   "source": [
    "my_dataset_test = my_dataset_test.map(preprocess_function, batched=True)\n",
    "my_dataset_train = my_dataset_train.map(preprocess_function, batched=True)"
   ]
  },
  {
   "cell_type": "code",
   "execution_count": null,
   "id": "9a3e5491-ae24-4ef8-8222-7a1a0fd66ef8",
   "metadata": {},
   "outputs": [],
   "source": [
    "from transformers import Trainer"
   ]
  },
  {
   "cell_type": "code",
   "execution_count": null,
   "id": "3715973d-1c7e-4972-a167-da3a7c836237",
   "metadata": {},
   "outputs": [],
   "source": [
    "from transformers import TrainingArguments\n",
    "\n",
    "training_args = TrainingArguments(\n",
    "    output_dir=\"./results\",\n",
    "    num_train_epochs=3,\n",
    "    per_device_train_batch_size=4,\n",
    "    logging_dir=\"./logs\",\n",
    "    logging_steps=10,\n",
    "    save_steps=10_000,\n",
    "    save_total_limit=2\n",
    ")"
   ]
  },
  {
   "cell_type": "code",
   "execution_count": null,
   "id": "c0f20514-7e4a-4031-ac6c-3255890a2931",
   "metadata": {},
   "outputs": [],
   "source": [
    "train_dataset = my_dataset_train\n",
    "eval_dataset = my_dataset_test"
   ]
  },
  {
   "cell_type": "code",
   "execution_count": null,
   "id": "cc5c5ff9-d760-4901-914b-1262444cbd5b",
   "metadata": {},
   "outputs": [],
   "source": [
    "def compute_metrics(eval_pred):\n",
    "    predictions, labels = eval_pred\n",
    "    predictions = np.argmax(predictions, axis=1)\n",
    "    return {\"accuracy\": accuracy_score(labels, predictions)}\n",
    "\n",
    "trainer = Trainer(\n",
    "    model=model,\n",
    "    args=training_args,\n",
    "    train_dataset= train_dataset,\n",
    "    eval_dataset= eval_dataset,\n",
    "    compute_metrics=compute_metrics,\n",
    ")\n",
    "\n",
    "trainer.train()"
   ]
  }
 ],
 "metadata": {
  "kernelspec": {
   "display_name": "Python 3 (ipykernel)",
   "language": "python",
   "name": "python3"
  },
  "language_info": {
   "codemirror_mode": {
    "name": "ipython",
    "version": 3
   },
   "file_extension": ".py",
   "mimetype": "text/x-python",
   "name": "python",
   "nbconvert_exporter": "python",
   "pygments_lexer": "ipython3",
   "version": "3.11.5"
  }
 },
 "nbformat": 4,
 "nbformat_minor": 5
}
