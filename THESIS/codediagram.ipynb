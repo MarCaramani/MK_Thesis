{
 "cells": [
  {
   "cell_type": "markdown",
   "id": "8084de47-1cb7-4205-97ae-77d18fa9607d",
   "metadata": {},
   "source": [
    "<span style=\"font-size: 24px; color:slateblue; text-decoration: underline; font-weight: bold;\">**Code Diagram**</span>\n"
   ]
  },
  {
   "cell_type": "markdown",
   "id": "0078cd2e-1490-4232-8a88-d01cfda014e8",
   "metadata": {},
   "source": [
    "<font color='pink'>1. ΦΟΡΤΩΣΗ DATA SET (DONE) </font>\n"
   ]
  },
  {
   "cell_type": "markdown",
   "id": "8ecd5135-c5a7-4fb9-aeb9-904016292994",
   "metadata": {},
   "source": [
    "EXAMPLE\n",
    "from datasets import load_dataset\n",
    "\n",
    "# Υποθέτοντας ότι το dataset σας ονομάζεται \"my_dataset\"\n",
    "dataset = load_dataset(\"your_dataset_name\")\n"
   ]
  },
  {
   "cell_type": "markdown",
   "id": "a7bd738a-cbcd-44a3-8726-b630d240f28f",
   "metadata": {},
   "source": [
    "<font color='pink'>2.ΔΙΑΧΩΡΙΣΜΟΣ DATA SET ΣΕ TRAIN ΚΑΙ TEST </font>"
   ]
  },
  {
   "cell_type": "code",
   "execution_count": null,
   "id": "85289e9f-be97-4cf4-bf0d-93824c0e4d35",
   "metadata": {},
   "outputs": [],
   "source": [
    "EXAMPLE \n",
    "from sklearn.model_selection import train_test_split\n",
    "\n",
    "# Χωρίστε τα δεδομένα σας\n",
    "train_data, test_data = train_test_split(dataset[\"train\"], test_size=0.2, random_state=42)\n",
    "\n",
    "\n",
    "\n",
    "αυτο είπαμε πως θα το κανεις / θα φτιαξεις ενα ξεχωριστο data set το οποιο θα ειναι το test σου φυσικα θα εχει διαφορετικα δεδομένα \n"
   ]
  },
  {
   "cell_type": "markdown",
   "id": "4aeaf511-1d9d-434e-b7fb-ef018bf626c4",
   "metadata": {},
   "source": [
    "<font color='pink'>3.ΔΗΜΙΟΥΡΓΙΑ ΤΟΥ ΜΟΝΤΕΛΟΥ </font>"
   ]
  },
  {
   "cell_type": "code",
   "execution_count": null,
   "id": "96a2b411-d1e3-4a57-bd0a-217e53263ff0",
   "metadata": {},
   "outputs": [],
   "source": [
    "EXAMPLE \n",
    "from transformers import T5ForConditionalGeneration, T5Tokenizer\n",
    "\n",
    "model_name = \"t5-small\"\n",
    "tokenizer = T5Tokenizer.from_pretrained(model_name)\n",
    "model = T5ForConditionalGeneration.from_pretrained(model_name)\n",
    "\n",
    "πρεπει να βρεις τι μοντελο θα χρησιμοποιησεις / τι χαρακτηριστικά πρεπει ν εχει ?\n",
    "\n"
   ]
  },
  {
   "cell_type": "markdown",
   "id": "63c1c1cf-d833-456d-89f2-a935cce8c267",
   "metadata": {},
   "source": [
    "<font color='pink'>4.ΠΡΟΕΤΟΙΜΑΣΙΑ ΔΕΔΟΜΕΝΩΝ </font>\n",
    "\n"
   ]
  },
  {
   "cell_type": "code",
   "execution_count": null,
   "id": "71efdff3-7d0f-44cc-b834-0fe8a917a293",
   "metadata": {},
   "outputs": [],
   "source": [
    "EXAMPLE \n",
    "def prepare_data(data):\n",
    "    inputs = tokenizer(data[\"input_text\"], return_tensors=\"pt\", truncation=True, padding=True)\n",
    "    outputs = tokenizer(data[\"target_text\"], return_tensors=\"pt\", truncation=True, padding=True)\n",
    "    return {**inputs, **outputs}\n",
    "\n",
    "train_data = train_data.map(prepare_data)\n",
    "test_data = test_data.map(prepare_data)\n",
    "\n",
    "\n",
    "αυτο ισως και να μην χρειαστει να το κανεις πρεπει να το δεις αν χρειαζεται να τα προετοιμασεις μιας και αυτη η διαδικασια γινετε σε data set το οποιο περνεις \n",
    "απο καποια βιβλιοθηκη και οχι ενα data set που φτιαχνεις μονο σου / βεβαι μπορει να χρειαζεται προετοιμασια πρεπει να το δεις "
   ]
  },
  {
   "cell_type": "markdown",
   "id": "1c083374-142c-4382-91ce-08e0fa3e8fed",
   "metadata": {},
   "source": [
    "<font color='pink'>5.ΕΚΠΑΙΔΕΥΣΗ ΤΟΥ ΜΟΝΤΕΛΟΥ</font>"
   ]
  },
  {
   "cell_type": "code",
   "execution_count": null,
   "id": "1222deec-c8ad-430a-b71e-75f22fa72ed1",
   "metadata": {},
   "outputs": [],
   "source": [
    "EXAMPLE \n",
    "from transformers import Trainer, TrainingArguments\n",
    "\n",
    "training_args = TrainingArguments(\n",
    "    output_dir=\"./summarization_model\",\n",
    "    num_train_epochs=3,\n",
    "    per_device_train_batch_size=4,\n",
    "    save_steps=1000,\n",
    "    save_total_limit=2,\n",
    ")\n",
    "\n",
    "trainer = Trainer(\n",
    "    model=model,\n",
    "    args=training_args,\n",
    "    train_dataset=train_data,\n",
    ")\n",
    "\n",
    "trainer.train()\n",
    "\n",
    "\n",
    "ακολουθεις την διαδικασια εκπαιδευσης του μοντέλου απο το hugging face \n",
    "\n",
    "\n"
   ]
  },
  {
   "cell_type": "markdown",
   "id": "63dff735-f7c6-4e27-a5a4-2ee3ae82481c",
   "metadata": {},
   "source": [
    "<font color='red'>! ΥΠΑΡΧΟΥΝ ΠΟΛΛΕΣ ΑΛΛΕΣ ΡΥΘΜΙΣΕΙΣ ΠΟΥ ΠΡΕΠΕΙ ΝΑ ΠΡΟΣΑΡΜΟΣΕΙΣ ΑΝΑΛΟΓΑ </font>"
   ]
  },
  {
   "cell_type": "code",
   "execution_count": null,
   "id": "7b2237e7-9a6b-4755-893e-47055cdebeb3",
   "metadata": {},
   "outputs": [],
   "source": [
    "τα steps που πρεπει να κοιταξεις μετά ειναι \n",
    "1. πως μπορεις να το κανεις να διαβαζει document ? ισωσ σε αυτο βοηθησει αυτο που ειχες δει στο deep learning \n",
    "2. ενα interface στο οποιο μπορεις να τρεχεις το κωδικα σου και να το κανεις πιο ωραιο/ βεβαια αυτο ειναι ενα στεπ παραπανω και δεν ξερεις καν τα βασικα χαζη \n"
   ]
  }
 ],
 "metadata": {
  "kernelspec": {
   "display_name": "Python 3 (ipykernel)",
   "language": "python",
   "name": "python3"
  },
  "language_info": {
   "codemirror_mode": {
    "name": "ipython",
    "version": 3
   },
   "file_extension": ".py",
   "mimetype": "text/x-python",
   "name": "python",
   "nbconvert_exporter": "python",
   "pygments_lexer": "ipython3",
   "version": "3.11.5"
  }
 },
 "nbformat": 4,
 "nbformat_minor": 5
}
