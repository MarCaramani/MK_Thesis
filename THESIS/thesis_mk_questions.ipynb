{
 "cells": [
  {
   "cell_type": "markdown",
   "id": "2c728697-7164-42ef-b5b8-0b8b7a24bd92",
   "metadata": {},
   "source": [
    "<span style=\"font-size: 24px; color:slateblue; text-decoration: underline; font-weight: bold;\">**QUESTIONS**</span>\n"
   ]
  },
  {
   "cell_type": "markdown",
   "id": "a2eb6971-7b99-441e-ba42-c4312a0935ea",
   "metadata": {},
   "source": [
    "Installer: https://lamini-ai.github.io/Start/installer/  <font color=\"lime\">(includes system requirements)</font>\n"
   ]
  },
  {
   "cell_type": "markdown",
   "id": "a521d390-53b5-4d9c-a291-9f2bd0a2fc3d",
   "metadata": {},
   "source": [
    "Installation and Setup  https://lamini-ai.github.io/Start/setup/"
   ]
  },
  {
   "cell_type": "markdown",
   "id": "61f3070a-b52c-4d88-b5d3-7f95c13d4ca7",
   "metadata": {},
   "source": [
    "Authentication https://lamini-ai.github.io/Start/auth/"
   ]
  },
  {
   "cell_type": "markdown",
   "id": "ade02fe8-f5f1-4948-b29f-9f85ff51e289",
   "metadata": {},
   "source": [
    "Basic ModelRunner https://lamini-ai.github.io/runners/basic_model_runner/"
   ]
  },
  {
   "cell_type": "markdown",
   "id": "a5dcab9e-fe6c-418c-9f9a-9a729cdd3a87",
   "metadata": {},
   "source": [
    "ΈΧΕΙ ΠΟΛΥ ΠΛΗΡΟΦΟΡΙΑ ΑΠΟ ΠΟΥ ΝΑ ΞΕΚΙΝΗΣΩ ?????? \n"
   ]
  },
  {
   "cell_type": "markdown",
   "id": "8e236df1-d69e-41ca-b802-8ab9ca77012c",
   "metadata": {},
   "source": [
    "Αρχικά πρέπει να βρεις τρόπο να έχεις προσβαση στο llma 2   \n",
    "https://ai.meta.com/blog/5-steps-to-getting-started-with-llama-2/?fbclid=IwAR26JMo0r91xEZbuB0LIPSHx5EhI_I1pDF8p-H9FI6RGdxnI8tnVm-3rEXM"
   ]
  },
  {
   "cell_type": "code",
   "execution_count": null,
   "id": "5416f542-f238-4a7d-bc53-a967981b100f",
   "metadata": {},
   "outputs": [],
   "source": []
  }
 ],
 "metadata": {
  "kernelspec": {
   "display_name": "Python 3 (ipykernel)",
   "language": "python",
   "name": "python3"
  },
  "language_info": {
   "codemirror_mode": {
    "name": "ipython",
    "version": 3
   },
   "file_extension": ".py",
   "mimetype": "text/x-python",
   "name": "python",
   "nbconvert_exporter": "python",
   "pygments_lexer": "ipython3",
   "version": "3.11.5"
  }
 },
 "nbformat": 4,
 "nbformat_minor": 5
}
