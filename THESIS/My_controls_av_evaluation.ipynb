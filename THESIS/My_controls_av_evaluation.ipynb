{
  "cells": [
    {
      "cell_type": "code",
      "execution_count": null,
      "metadata": {
        "id": "EKEsPifVL4yU"
      },
      "outputs": [],
      "source": [
        "pip install --upgrade tensorflow==2.15 transformers rouge_score datasets accelerate>=0.20.1 evaluate\n"
      ]
    },
    {
      "cell_type": "code",
      "execution_count": null,
      "metadata": {
        "colab": {
          "base_uri": "https://localhost:8080/"
        },
        "id": "MQqsQd3ODV8D",
        "outputId": "b753852d-39be-4a92-bc79-ba0888e8f5f6"
      },
      "outputs": [
        {
          "output_type": "stream",
          "name": "stdout",
          "text": [
            "Requirement already satisfied: tensorflow-probability in /usr/local/lib/python3.10/dist-packages (0.23.0)\n",
            "Collecting tensorflow-probability\n",
            "  Downloading tensorflow_probability-0.24.0-py2.py3-none-any.whl (6.9 MB)\n",
            "\u001b[2K     \u001b[90m━━━━━━━━━━━━━━━━━━━━━━━━━━━━━━━━━━━━━━━━\u001b[0m \u001b[32m6.9/6.9 MB\u001b[0m \u001b[31m19.3 MB/s\u001b[0m eta \u001b[36m0:00:00\u001b[0m\n",
            "\u001b[?25hRequirement already satisfied: absl-py in /usr/local/lib/python3.10/dist-packages (from tensorflow-probability) (1.4.0)\n",
            "Requirement already satisfied: six>=1.10.0 in /usr/local/lib/python3.10/dist-packages (from tensorflow-probability) (1.16.0)\n",
            "Requirement already satisfied: numpy>=1.13.3 in /usr/local/lib/python3.10/dist-packages (from tensorflow-probability) (1.25.2)\n",
            "Requirement already satisfied: decorator in /usr/local/lib/python3.10/dist-packages (from tensorflow-probability) (4.4.2)\n",
            "Requirement already satisfied: cloudpickle>=1.3 in /usr/local/lib/python3.10/dist-packages (from tensorflow-probability) (2.2.1)\n",
            "Requirement already satisfied: gast>=0.3.2 in /usr/local/lib/python3.10/dist-packages (from tensorflow-probability) (0.5.4)\n",
            "Requirement already satisfied: dm-tree in /usr/local/lib/python3.10/dist-packages (from tensorflow-probability) (0.1.8)\n",
            "Installing collected packages: tensorflow-probability\n",
            "  Attempting uninstall: tensorflow-probability\n",
            "    Found existing installation: tensorflow-probability 0.23.0\n",
            "    Uninstalling tensorflow-probability-0.23.0:\n",
            "      Successfully uninstalled tensorflow-probability-0.23.0\n",
            "Successfully installed tensorflow-probability-0.24.0\n"
          ]
        }
      ],
      "source": [
        "pip install --upgrade tensorflow-probability\n"
      ]
    },
    {
      "cell_type": "code",
      "execution_count": null,
      "metadata": {
        "colab": {
          "background_save": true
        },
        "id": "mKCbralNDe0W"
      },
      "outputs": [],
      "source": []
    },
    {
      "cell_type": "markdown",
      "metadata": {
        "id": "aZm_M5yLL-d7"
      },
      "source": [
        "LOAD DATASET"
      ]
    },
    {
      "cell_type": "code",
      "execution_count": null,
      "metadata": {
        "colab": {
          "base_uri": "https://localhost:8080/"
        },
        "id": "H8pvZLv4L9Rt",
        "outputId": "8168c0bb-ba14-4dff-e700-b180a8d659a4"
      },
      "outputs": [
        {
          "output_type": "stream",
          "name": "stdout",
          "text": [
            "--2024-06-04 17:53:50--  https://raw.githubusercontent.com/MarCaramani/MK_Thesis/master/THESIS/Dataset.json\n",
            "Resolving raw.githubusercontent.com (raw.githubusercontent.com)... 185.199.108.133, 185.199.109.133, 185.199.110.133, ...\n",
            "Connecting to raw.githubusercontent.com (raw.githubusercontent.com)|185.199.108.133|:443... connected.\n",
            "HTTP request sent, awaiting response... 200 OK\n",
            "Length: 34667 (34K) [text/plain]\n",
            "Saving to: ‘Dataset.json’\n",
            "\n",
            "Dataset.json        100%[===================>]  33.85K  --.-KB/s    in 0.007s  \n",
            "\n",
            "2024-06-04 17:53:50 (4.98 MB/s) - ‘Dataset.json’ saved [34667/34667]\n",
            "\n"
          ]
        }
      ],
      "source": [
        "!wget https://raw.githubusercontent.com/MarCaramani/MK_Thesis/master/THESIS/Dataset.json"
      ]
    },
    {
      "cell_type": "code",
      "execution_count": null,
      "metadata": {
        "colab": {
          "base_uri": "https://localhost:8080/"
        },
        "id": "6eDPMgwbMCI0",
        "outputId": "6ee63b13-eb82-42ad-bb48-5c948171b8f1"
      },
      "outputs": [
        {
          "output_type": "stream",
          "name": "stdout",
          "text": [
            "--2024-06-04 17:53:52--  https://raw.githubusercontent.com/MarCaramani/MK_Thesis/master/THESIS/Train_Dataset.json\n",
            "Resolving raw.githubusercontent.com (raw.githubusercontent.com)... 185.199.108.133, 185.199.109.133, 185.199.110.133, ...\n",
            "Connecting to raw.githubusercontent.com (raw.githubusercontent.com)|185.199.108.133|:443... connected.\n",
            "HTTP request sent, awaiting response... 200 OK\n",
            "Length: 137567 (134K) [text/plain]\n",
            "Saving to: ‘Train_Dataset.json’\n",
            "\n",
            "Train_Dataset.json  100%[===================>] 134.34K  --.-KB/s    in 0.02s   \n",
            "\n",
            "2024-06-04 17:53:52 (6.20 MB/s) - ‘Train_Dataset.json’ saved [137567/137567]\n",
            "\n"
          ]
        }
      ],
      "source": [
        "!wget https://raw.githubusercontent.com/MarCaramani/MK_Thesis/master/THESIS/Train_Dataset.json"
      ]
    },
    {
      "cell_type": "code",
      "execution_count": null,
      "metadata": {
        "id": "cwzzelJJMDj2"
      },
      "outputs": [],
      "source": [
        "import evaluate\n",
        "import numpy as np\n",
        "from datasets import load_dataset\n",
        "from transformers import (AutoTokenizer, DataCollatorForSeq2Seq,\n",
        "                          AutoModelForSeq2SeqLM, Seq2SeqTrainingArguments, Seq2SeqTrainer)"
      ]
    },
    {
      "cell_type": "code",
      "execution_count": null,
      "metadata": {
        "colab": {
          "referenced_widgets": [
            "a9bc91ea60fe4f15a7c1bd6a0e6c30e9",
            "a500c045bd314cd4b1df820f0649d8af",
            "1c5a62f544e24be7b10c0d99b2fa4f1a",
            "1983849d96ab4472a8771d35f16d7de5",
            "adf2eb02fed142368e87adb1596536a4",
            "3156b3abb57e4bb1baeaf6653d207c1e",
            "da7e49f1895540328ff835e9b2a7fcf3",
            "51bbb2ab02784e39a090ceb59cb9f9e1",
            "8231d62e44d4423f9d67fedc725bc763",
            "951329d381b549f7b67e8fe70cb01d32",
            "5f87564250f94beab28370c781251728"
          ],
          "base_uri": "https://localhost:8080/",
          "height": 49
        },
        "id": "D0YiR6K6MHM0",
        "outputId": "edcd6513-359e-4023-8d12-636410b9ee6e"
      },
      "outputs": [
        {
          "output_type": "display_data",
          "data": {
            "text/plain": [
              "Generating train split: 0 examples [00:00, ? examples/s]"
            ],
            "application/vnd.jupyter.widget-view+json": {
              "version_major": 2,
              "version_minor": 0,
              "model_id": "a9bc91ea60fe4f15a7c1bd6a0e6c30e9"
            }
          },
          "metadata": {}
        }
      ],
      "source": [
        "my_dataset_test = load_dataset(\"json\", data_files=\"Dataset.json\", field=\"documents\")"
      ]
    },
    {
      "cell_type": "code",
      "execution_count": null,
      "metadata": {
        "colab": {
          "referenced_widgets": [
            "3233be315e22491f9b767b4df85a857d",
            "d7d43929aa55487192b97c3a6ed74422",
            "c858d4ed2dc94b889981af21670cd723",
            "deeed83c54fd4a479f4ff76c3441422f",
            "c3d96b31e3a64d899ce0f276684775ef",
            "91f4de1725b843bcbfd34521eba326e3",
            "ebe23f1af3fc45c18316058b8d328e9f",
            "a02b24c2b5e74ef9b956ff501bfaa701",
            "f274f0236f694288bb7755be2521ea81",
            "db9bf9cf048f4e14b48cf649b82d1133",
            "40a3469ae10248b7be8d0f6910c993fe"
          ],
          "base_uri": "https://localhost:8080/",
          "height": 49
        },
        "id": "pME5fmwaMHY3",
        "outputId": "7f3e49d6-6cd9-4549-c267-ff5f573ea6c0"
      },
      "outputs": [
        {
          "output_type": "display_data",
          "data": {
            "text/plain": [
              "Generating train split: 0 examples [00:00, ? examples/s]"
            ],
            "application/vnd.jupyter.widget-view+json": {
              "version_major": 2,
              "version_minor": 0,
              "model_id": "3233be315e22491f9b767b4df85a857d"
            }
          },
          "metadata": {}
        }
      ],
      "source": [
        "my_dataset_train = load_dataset(\"json\", data_files=\"Train_Dataset.json\", field=\"documents\")"
      ]
    },
    {
      "cell_type": "code",
      "execution_count": null,
      "metadata": {
        "colab": {
          "base_uri": "https://localhost:8080/"
        },
        "id": "45x7X8pnMIJD",
        "outputId": "56f6768c-f76a-4cf8-e754-3957149fe7b2"
      },
      "outputs": [
        {
          "output_type": "execute_result",
          "data": {
            "text/plain": [
              "DatasetDict({\n",
              "    train: Dataset({\n",
              "        features: ['TEXT', 'SUMMARIZATION'],\n",
              "        num_rows: 95\n",
              "    })\n",
              "})"
            ]
          },
          "metadata": {},
          "execution_count": 9
        }
      ],
      "source": [
        "my_dataset_train"
      ]
    },
    {
      "cell_type": "markdown",
      "metadata": {
        "id": "6yDSym34MO_n"
      },
      "source": [
        "PREPROCESS"
      ]
    },
    {
      "cell_type": "code",
      "execution_count": null,
      "metadata": {
        "id": "JQsOIulOMNIC"
      },
      "outputs": [],
      "source": [
        "checkpoint = \"facebook/bart-large-cnn\""
      ]
    },
    {
      "cell_type": "code",
      "execution_count": null,
      "metadata": {
        "id": "TdPJCRccMTVW",
        "colab": {
          "base_uri": "https://localhost:8080/",
          "height": 304,
          "referenced_widgets": [
            "ee2c90b148014104a30acabae4a50cd9",
            "935e08a5eff04ab1a1317a8151af19f9",
            "0faafc3ea9d7483990f9adc918a43794",
            "ac0f3da06934404b981ff4da736602db",
            "10b7ecc42bfc4534bbfac97d95197c1a",
            "609cd33493c94311b72de288f21f6659",
            "4055b0ab5d694ce496af8503d4120363",
            "7d2e498b56b44821b78cc7cf6bea7260",
            "dff0202790034685a561fc4e2c976d0a",
            "ab0b0a16f92344a7bdf9d71c28c9369b",
            "d0c481d570be40b5a8d7aff9882ab9e5",
            "b499c4c905244a80bbf187eb091dc654",
            "11929fd0040840ceb938a91b915182b2",
            "f6230d36c06f4c3381c00ee0a2cb7381",
            "b91a7dbaf6dc4d75a99d0bdd51ae68c8",
            "2ddfa2a4d0a1481aad5d43727cd889f8",
            "060f9092687c4ced81c98b2b1e455674",
            "37590fe5014f4bf588e20b7af9fe956c",
            "04948ad81796434690ed229f66c41161",
            "712bd274729144568bf78e5ed3e48db8",
            "2fac2bc597d64d1ca64b16bbe75673f8",
            "e8f592b9807848abb9f16af60ce1581e",
            "f81bc75cf7884e6385bb3bd176b76a54",
            "bce996e789e342d1b90c2242b7deaa2e",
            "e73c510edf07435e97c4e877546a4b1d",
            "6e2fe4b703d44c218fd272da7587f215",
            "876ee46b89f14399aa8b1577e1111e86",
            "588f847634d4446bbc8dbb1b10ba3b67",
            "c3f7409abf0744b98487e2192df7f755",
            "6e192bffb7604764b62019690429afbf",
            "a2c431e6a52f49999f8b75574fdb3602",
            "0a91f4aea0bb41aaa2371366d13be29b",
            "701e77fb44c34988b8012533baa43536",
            "f4f557edb60a48f4ae62f055b09dc569",
            "3a92d3a09dba48a08fe943e6c38fd2b5",
            "2fdadef03dff4095a0aba549da1e8fb8",
            "f7301f2594434fb6957354d20d6761af",
            "3c7e5818f4be4225b21ee2dd0868fd92",
            "8fe4651668b1472dab7d6a63559f4f8c",
            "cd532e33d7cf4308a96d70230b263c3d",
            "0f94da603a874e6aa4d996a4b5d17c29",
            "c912b82bd7f54256a520112fb5b205c9",
            "78a97e0769554f9d952353bad91d5334",
            "87e6fcb9ac844c8ab2fc67153d1ca69f"
          ]
        },
        "outputId": "cbfe4ad4-5715-41a9-da3b-b94183dc9dd4"
      },
      "outputs": [
        {
          "output_type": "stream",
          "name": "stderr",
          "text": [
            "/usr/local/lib/python3.10/dist-packages/huggingface_hub/utils/_token.py:89: UserWarning: \n",
            "The secret `HF_TOKEN` does not exist in your Colab secrets.\n",
            "To authenticate with the Hugging Face Hub, create a token in your settings tab (https://huggingface.co/settings/tokens), set it as secret in your Google Colab and restart your session.\n",
            "You will be able to reuse this secret in all of your notebooks.\n",
            "Please note that authentication is recommended but still optional to access public models or datasets.\n",
            "  warnings.warn(\n",
            "/usr/local/lib/python3.10/dist-packages/huggingface_hub/file_download.py:1132: FutureWarning: `resume_download` is deprecated and will be removed in version 1.0.0. Downloads always resume when possible. If you want to force a new download, use `force_download=True`.\n",
            "  warnings.warn(\n"
          ]
        },
        {
          "output_type": "display_data",
          "data": {
            "text/plain": [
              "config.json:   0%|          | 0.00/1.58k [00:00<?, ?B/s]"
            ],
            "application/vnd.jupyter.widget-view+json": {
              "version_major": 2,
              "version_minor": 0,
              "model_id": "ee2c90b148014104a30acabae4a50cd9"
            }
          },
          "metadata": {}
        },
        {
          "output_type": "display_data",
          "data": {
            "text/plain": [
              "vocab.json:   0%|          | 0.00/899k [00:00<?, ?B/s]"
            ],
            "application/vnd.jupyter.widget-view+json": {
              "version_major": 2,
              "version_minor": 0,
              "model_id": "b499c4c905244a80bbf187eb091dc654"
            }
          },
          "metadata": {}
        },
        {
          "output_type": "display_data",
          "data": {
            "text/plain": [
              "merges.txt:   0%|          | 0.00/456k [00:00<?, ?B/s]"
            ],
            "application/vnd.jupyter.widget-view+json": {
              "version_major": 2,
              "version_minor": 0,
              "model_id": "f81bc75cf7884e6385bb3bd176b76a54"
            }
          },
          "metadata": {}
        },
        {
          "output_type": "display_data",
          "data": {
            "text/plain": [
              "tokenizer.json:   0%|          | 0.00/1.36M [00:00<?, ?B/s]"
            ],
            "application/vnd.jupyter.widget-view+json": {
              "version_major": 2,
              "version_minor": 0,
              "model_id": "f4f557edb60a48f4ae62f055b09dc569"
            }
          },
          "metadata": {}
        }
      ],
      "source": [
        "tokenizer = AutoTokenizer.from_pretrained(checkpoint)"
      ]
    },
    {
      "cell_type": "code",
      "execution_count": null,
      "metadata": {
        "id": "Jcq3aOVSMVgs"
      },
      "outputs": [],
      "source": [
        "prefix = \"summarize: \"\n",
        "\n",
        "\n",
        "def preprocess_function(examples):\n",
        "    inputs = [prefix + doc for doc in examples[\"TEXT\"]]\n",
        "    #model_inputs = tokenizer(inputs, padding=\"max_length\", truncation=True, return_tensors=\"pt\")\n",
        "    model_inputs = tokenizer(inputs, max_length=1024, truncation=True)\n",
        "\n",
        "    #labels = tokenizer(examples[\"SUMMARIZATION\"], padding=\"max_length\", truncation=True, return_tensors=\"pt\")\n",
        "    labels = tokenizer(text_target=examples[\"SUMMARIZATION\"], max_length=128, truncation=True)\n",
        "    model_inputs[\"labels\"] = labels[\"input_ids\"]\n",
        "    return model_inputs"
      ]
    },
    {
      "cell_type": "code",
      "execution_count": null,
      "metadata": {
        "id": "JdmW7NiWMXKj",
        "colab": {
          "base_uri": "https://localhost:8080/",
          "height": 49,
          "referenced_widgets": [
            "8b1ea384f70b47f795d7d68d58387b68",
            "e50e75cb9a1b47a5a594fbdaa128ce86",
            "954d94a3ede04508a2aed433ce42a6d2",
            "2468828e3f41465b830c026692eff1e8",
            "3ab84651208242e28b1622c45adc528e",
            "0b7f003c627446ebb10b9f1116f05e64",
            "ab98df20e9164005941a6975bf5341ae",
            "dc1fc224ed0946a18a0940750d974283",
            "aef8898db8174f05acd9e1d6cec39235",
            "e5f9019f011345dea65f8e3e24cc698f",
            "302db2b8d8754ffeb056b500797e34f1"
          ]
        },
        "outputId": "33789d9f-2927-41a6-c4db-6a24b99e63d4"
      },
      "outputs": [
        {
          "output_type": "display_data",
          "data": {
            "text/plain": [
              "Map:   0%|          | 0/25 [00:00<?, ? examples/s]"
            ],
            "application/vnd.jupyter.widget-view+json": {
              "version_major": 2,
              "version_minor": 0,
              "model_id": "8b1ea384f70b47f795d7d68d58387b68"
            }
          },
          "metadata": {}
        }
      ],
      "source": [
        "my_dataset_test = my_dataset_test.map(preprocess_function, batched=True)"
      ]
    },
    {
      "cell_type": "code",
      "execution_count": null,
      "metadata": {
        "id": "OT--I0kvMYti",
        "colab": {
          "base_uri": "https://localhost:8080/"
        },
        "outputId": "962610e6-9a63-448c-861f-b3504bddfcfa"
      },
      "outputs": [
        {
          "output_type": "execute_result",
          "data": {
            "text/plain": [
              "DatasetDict({\n",
              "    train: Dataset({\n",
              "        features: ['TEXT', 'SUMMARIZATION', 'input_ids', 'attention_mask', 'labels'],\n",
              "        num_rows: 25\n",
              "    })\n",
              "})"
            ]
          },
          "metadata": {},
          "execution_count": 14
        }
      ],
      "source": [
        "my_dataset_test"
      ]
    },
    {
      "cell_type": "code",
      "execution_count": null,
      "metadata": {
        "id": "9T5VOQJ2MaIV",
        "colab": {
          "base_uri": "https://localhost:8080/",
          "height": 49,
          "referenced_widgets": [
            "a4fe097db02745efb1114c796b69cd82",
            "3d2f74bb95cf4403a80d5be16e33ab1e",
            "f1e03d099bcf4d08a2472f529156098a",
            "88890bfb3e5d47d7b0324f5aacb93baa",
            "bec36a252a674543b88192c62e9e090f",
            "d53f72a5c90842a58d650a8023b09261",
            "1f297e2b4efd444890633c9dd77fbf7b",
            "785e98b750ca4654b25d11e6684e422a",
            "4d804729bd304b97abb02dd8930193d5",
            "278be749f33244b4801712b8b3b38ec2",
            "f8182f6ac58d4fb19f06dd5d873f8383"
          ]
        },
        "outputId": "912020d5-edb8-4941-f79b-b2ca16b06330"
      },
      "outputs": [
        {
          "output_type": "display_data",
          "data": {
            "text/plain": [
              "Map:   0%|          | 0/95 [00:00<?, ? examples/s]"
            ],
            "application/vnd.jupyter.widget-view+json": {
              "version_major": 2,
              "version_minor": 0,
              "model_id": "a4fe097db02745efb1114c796b69cd82"
            }
          },
          "metadata": {}
        }
      ],
      "source": [
        "my_dataset_train = my_dataset_train.map(preprocess_function, batched=True)"
      ]
    },
    {
      "cell_type": "markdown",
      "metadata": {
        "id": "AF7HFjxeMd9K"
      },
      "source": [
        "CREATING BATCHING"
      ]
    },
    {
      "cell_type": "code",
      "execution_count": null,
      "metadata": {
        "id": "Iv6gSYF8MhyW"
      },
      "outputs": [],
      "source": [
        "data_collator = DataCollatorForSeq2Seq(tokenizer=tokenizer, model=checkpoint)"
      ]
    },
    {
      "cell_type": "markdown",
      "metadata": {
        "id": "__1_MdicMljc"
      },
      "source": [
        "TRAIN"
      ]
    },
    {
      "cell_type": "code",
      "execution_count": null,
      "metadata": {
        "id": "GPzsAqLfhox7",
        "colab": {
          "base_uri": "https://localhost:8080/",
          "height": 81,
          "referenced_widgets": [
            "71b9f5956cfc4aabba2dfbc09f8076c4",
            "d8cfde76142b4cdcbabba7e89290b06b",
            "f3ce278e54c4488ab78ffd30e9882691",
            "c4a33045db454ee9a9033994b74007aa",
            "d1317e6bf5664822a974ff889e193b11",
            "11bea58d27474ceb9f5b34087901ab92",
            "ebdcfd4f347742998f90cff9f62ab04a",
            "8fc714944ac449f9b08069862392b845",
            "17160bc3cc7049689ff7eb24551e883e",
            "65002b1ea426478281dd63f6d289a3fa",
            "d80104765b8647e0a94a2948e57eb0d8",
            "e8d8111c7863430e87728b579e7ee222",
            "37d41c5e34d04784bc96181791ca1fa9",
            "045ca5df2ec3421d8d97df2a1d5cf547",
            "4b324ff5a35b4cf6bd9d6e89162ef71f",
            "385ac7f39f9a414899adb99ce123c207",
            "6bf36a911a154660bc2f7f40142c7e69",
            "397748cf507b479d980f1ab9ce6e89d4",
            "377e0fcde1dd4ea7b710d0d3530445bc",
            "ca23b7d14f8e4337a22f1c9d2f59527f",
            "6af05b5fb58e4473a79dd6579f6a7af1",
            "801c3d06cdd042dfa2d2ae15b6817d80"
          ]
        },
        "outputId": "2a9a521e-18ac-4bc8-f379-bbc9c998b7a7"
      },
      "outputs": [
        {
          "output_type": "display_data",
          "data": {
            "text/plain": [
              "model.safetensors:   0%|          | 0.00/1.63G [00:00<?, ?B/s]"
            ],
            "application/vnd.jupyter.widget-view+json": {
              "version_major": 2,
              "version_minor": 0,
              "model_id": "71b9f5956cfc4aabba2dfbc09f8076c4"
            }
          },
          "metadata": {}
        },
        {
          "output_type": "display_data",
          "data": {
            "text/plain": [
              "generation_config.json:   0%|          | 0.00/363 [00:00<?, ?B/s]"
            ],
            "application/vnd.jupyter.widget-view+json": {
              "version_major": 2,
              "version_minor": 0,
              "model_id": "e8d8111c7863430e87728b579e7ee222"
            }
          },
          "metadata": {}
        }
      ],
      "source": [
        "model = AutoModelForSeq2SeqLM.from_pretrained(checkpoint)"
      ]
    },
    {
      "cell_type": "code",
      "execution_count": null,
      "metadata": {
        "id": "jtxcLCQ2Mkt6",
        "colab": {
          "base_uri": "https://localhost:8080/"
        },
        "outputId": "dacd67f2-24aa-425c-c23b-4650690a2899"
      },
      "outputs": [
        {
          "output_type": "stream",
          "name": "stderr",
          "text": [
            "/usr/local/lib/python3.10/dist-packages/transformers/training_args.py:1474: FutureWarning: `evaluation_strategy` is deprecated and will be removed in version 4.46 of 🤗 Transformers. Use `eval_strategy` instead\n",
            "  warnings.warn(\n"
          ]
        }
      ],
      "source": [
        "training_args = Seq2SeqTrainingArguments(\n",
        "    output_dir=\"my_controls\",\n",
        "    evaluation_strategy=\"epoch\",\n",
        "    learning_rate=2e-5,\n",
        "    per_device_train_batch_size=1,\n",
        "    per_device_eval_batch_size=1,\n",
        "    weight_decay=0.01,\n",
        "    save_total_limit=1,\n",
        "    num_train_epochs=3,\n",
        "    predict_with_generate= False,\n",
        "    fp16=False,\n",
        "    push_to_hub=False,\n",
        ")"
      ]
    },
    {
      "cell_type": "code",
      "execution_count": null,
      "metadata": {
        "id": "eTZOyxfHMpg8"
      },
      "outputs": [],
      "source": [
        "trainer = Seq2SeqTrainer(\n",
        "    model=model,\n",
        "    args=training_args,\n",
        "    train_dataset=my_dataset_train[\"train\"],\n",
        "    eval_dataset=my_dataset_test[\"train\"],\n",
        "    tokenizer=tokenizer,\n",
        "    data_collator=data_collator,\n",
        "    # compute_metrics=compute_metrics,\n",
        ")"
      ]
    },
    {
      "cell_type": "code",
      "execution_count": null,
      "metadata": {
        "id": "gZAiqS7EMtEm",
        "colab": {
          "base_uri": "https://localhost:8080/",
          "height": 187
        },
        "outputId": "75e4e1e9-1554-491f-c719-0d0a4de225fd"
      },
      "outputs": [
        {
          "output_type": "display_data",
          "data": {
            "text/plain": [
              "<IPython.core.display.HTML object>"
            ],
            "text/html": [
              "\n",
              "    <div>\n",
              "      \n",
              "      <progress value='285' max='285' style='width:300px; height:20px; vertical-align: middle;'></progress>\n",
              "      [285/285 00:41, Epoch 3/3]\n",
              "    </div>\n",
              "    <table border=\"1\" class=\"dataframe\">\n",
              "  <thead>\n",
              " <tr style=\"text-align: left;\">\n",
              "      <th>Epoch</th>\n",
              "      <th>Training Loss</th>\n",
              "      <th>Validation Loss</th>\n",
              "    </tr>\n",
              "  </thead>\n",
              "  <tbody>\n",
              "    <tr>\n",
              "      <td>1</td>\n",
              "      <td>No log</td>\n",
              "      <td>2.153084</td>\n",
              "    </tr>\n",
              "    <tr>\n",
              "      <td>2</td>\n",
              "      <td>No log</td>\n",
              "      <td>2.067945</td>\n",
              "    </tr>\n",
              "    <tr>\n",
              "      <td>3</td>\n",
              "      <td>No log</td>\n",
              "      <td>2.436864</td>\n",
              "    </tr>\n",
              "  </tbody>\n",
              "</table><p>"
            ]
          },
          "metadata": {}
        },
        {
          "output_type": "execute_result",
          "data": {
            "text/plain": [
              "TrainOutput(global_step=285, training_loss=0.8435953776041667, metrics={'train_runtime': 43.0413, 'train_samples_per_second': 6.622, 'train_steps_per_second': 6.622, 'total_flos': 140590911062016.0, 'train_loss': 0.8435953776041667, 'epoch': 3.0})"
            ]
          },
          "metadata": {},
          "execution_count": 19
        }
      ],
      "source": [
        "trainer.train()"
      ]
    },
    {
      "cell_type": "markdown",
      "metadata": {
        "id": "C3y3TJopJW0E"
      },
      "source": [
        "TrainOutput(global_step=285, training_loss=0.8559526945415296, metrics={'train_runtime': 37.8825, 'train_samples_per_second': 7.523, 'train_steps_per_second': 7.523, 'total_flos': 140590911062016.0, 'train_loss': 0.8559526945415296, 'epoch': 3.0})"
      ]
    },
    {
      "cell_type": "markdown",
      "metadata": {
        "id": "ea2fXSynMzVw"
      },
      "source": [
        "SAVE MODEL"
      ]
    },
    {
      "cell_type": "code",
      "execution_count": null,
      "metadata": {
        "id": "iPCTCTUbMwEj",
        "colab": {
          "base_uri": "https://localhost:8080/"
        },
        "outputId": "04509513-14f2-4b10-f3ee-5c1dbb42d821"
      },
      "outputs": [
        {
          "output_type": "stream",
          "name": "stderr",
          "text": [
            "Some non-default generation parameters are set in the model config. These should go into a GenerationConfig file (https://huggingface.co/docs/transformers/generation_strategies#save-a-custom-decoding-strategy-with-your-model) instead. This warning will be raised to an exception in v4.41.\n",
            "Non-default generation parameters: {'max_length': 142, 'min_length': 56, 'early_stopping': True, 'num_beams': 4, 'length_penalty': 2.0, 'no_repeat_ngram_size': 3, 'forced_bos_token_id': 0, 'forced_eos_token_id': 2}\n"
          ]
        }
      ],
      "source": [
        "model.save_pretrained(\"my_controls\")"
      ]
    },
    {
      "cell_type": "code",
      "execution_count": null,
      "metadata": {
        "id": "tKx4_aU_MwMN",
        "colab": {
          "base_uri": "https://localhost:8080/"
        },
        "outputId": "a90ec3b3-ca3b-439d-89c0-b21fe16d5162"
      },
      "outputs": [
        {
          "output_type": "execute_result",
          "data": {
            "text/plain": [
              "('my_controls/tokenizer_config.json',\n",
              " 'my_controls/special_tokens_map.json',\n",
              " 'my_controls/vocab.json',\n",
              " 'my_controls/merges.txt',\n",
              " 'my_controls/added_tokens.json',\n",
              " 'my_controls/tokenizer.json')"
            ]
          },
          "metadata": {},
          "execution_count": 21
        }
      ],
      "source": [
        "tokenizer.save_pretrained(\"my_controls\")"
      ]
    },
    {
      "cell_type": "markdown",
      "metadata": {
        "id": "-cmzAlh3M2lw"
      },
      "source": [
        "INFERENCE"
      ]
    },
    {
      "cell_type": "markdown",
      "metadata": {
        "id": "bq-bobaaM4TV"
      },
      "source": [
        "1 WAY"
      ]
    },
    {
      "cell_type": "code",
      "execution_count": null,
      "metadata": {
        "id": "L9D-hQTFM_Qh"
      },
      "outputs": [],
      "source": [
        "text = \"summarize: A Standard Change is created from preapproved Standard change templates that have satisfied specific criteria (see Appendix A) and been added to the Standard Change Template Catalog in the Enterprise Ticketing System: the change is repeatable, frequently implemented, is considered low risk and low impact according to the SIA, and has a proven history of success (completed the Normal change lifecycle process at least 3-5 times with no issues). Standard changes that are approved by Division Directors and CAB Co-Chairs are added to the catalog and considered pre-authorized, following a shorter ChM lifecycle outside of the CAB approval process (subject to dual authorization). CRs can request new Standard change templates or use an existing template from the catalog to create a new Standard change request.A Normal Change is one that meets the defined lead time for testing and validation and is assigned a SIA level of no, low, medium, or high. A Normal change is an RFC that is not a Standard, Expedited or Emergency change, and is subject to the full ChM review process, including review and authorization by the CAB.An Expedited Change does not meet the lead time requirement for a Normal change, but is not an Emergency Change. Service is at risk, although service might not be down, and the RFC needs to be authorized because of a client request that has been validated by SME/ technical expert or a Director, who has determined that that the change needs to go in without waiting for the recommended lead-time. The same ‘Normal’ Change request information is provided in the Enterprise Ticketing System to implement the change, including the reason for expediting the RFC (SIA, back-out plans, scheduled time and downtime required), but lead times are much shorter. Authorization by a CAB Co-Chair is required and Expedited Changes are subject to retroactive review by CAB. Emergency Change is one that must be implemented as soon as possible to correct, or prevent, a high priority incident, or that must be introduced as soon as possible due to likely negative service impacts or situations where the impact to a service is imminent if action is not taken. These changes do not follow the complete lifecycle of a Normal change due to the speed with which they must be implemented and authorized. All emergency changes are authorized by E-CAB and documented and entered into the Enterprise Ticketing System prior to implementation, or as soon as possible after the change has been implemented depending on the nature of the emergency.Emergency changes are subject to a Post Implementation Review (PIR) process by CAB.\"\n"
      ]
    },
    {
      "cell_type": "code",
      "execution_count": null,
      "metadata": {
        "id": "FY3KljpmNDMp"
      },
      "outputs": [],
      "source": [
        "text_prompt =\"\"\"A Standard Change is created from preapproved Standard change templates that have satisfied specific criteria (see Appendix A) and been added to the Standard Change Template Catalog in the Enterprise Ticketing System: the change is repeatable, frequently implemented, is considered low risk and low impact according to the SIA, and has a proven history of success (completed the Normal change lifecycle process at least 3-5 times with no issues). Standard changes that are approved by Division Directors and CAB Co-Chairs are added to the catalog and considered pre-authorized, following a shorter ChM lifecycle outside of the CAB approval process (subject to dual authorization). CRs can request new Standard change templates or use an existing template from the catalog to create a new Standard change request.A Normal Change is one that meets the defined lead time for testing and validation and is assigned a SIA level of no, low, medium, or high. A Normal change is an RFC that is not a Standard, Expedited or Emergency change, and is subject to the full ChM review process, including review and authorization by the CAB.An Expedited Change does not meet the lead time requirement for a Normal change, but is not an Emergency Change. Service is at risk, although service might not be down, and the RFC needs to be authorized because of a client request that has been validated by SME/ technical expert or a Director, who has determined that that the change needs to go in without waiting for the recommended lead-time. The same ‘Normal’ Change request information is provided in the Enterprise Ticketing System to implement the change, including the reason for expediting the RFC (SIA, back-out plans, scheduled time and downtime required), but lead times are much shorter. Authorization by a CAB Co-Chair is required and Expedited Changes are subject to retroactive review by CAB. Emergency Change is one that must be implemented as soon as possible to correct, or prevent, a high priority incident, or that must be introduced as soon as possible due to likely negative service impacts or situations where the impact to a service is imminent if action is not taken. These changes do not follow the complete lifecycle of a Normal change due to the speed with which they must be implemented and authorized. All emergency changes are authorized by E-CAB and documented and entered into the Enterprise Ticketing System prior to implementation, or as soon as possible after the change has been implemented depending on the nature of the emergency.Emergency changes are subject to a Post Implementation Review (PIR) process by CAB.\n",
        "Review by this\n",
        "Summary:\n",
        "\"\"\""
      ]
    },
    {
      "cell_type": "code",
      "execution_count": null,
      "metadata": {
        "id": "SVd1kzCMNE77",
        "colab": {
          "base_uri": "https://localhost:8080/"
        },
        "outputId": "e715ba22-e2f8-4ce3-fbed-a6cf4b51acae"
      },
      "outputs": [
        {
          "output_type": "execute_result",
          "data": {
            "text/plain": [
              "[{'summary_text': 'A Normal Change is one that meets the defined lead time for testing and validation and is assigned a SIA level of no, low, medium, or high. An Expedited Change does not meet the lead time requirement for a Normal change, but is not an Emergency Change. Emergency changes are subject to a Post Implementation Review (PIR) process by CAB.'}]"
            ]
          },
          "metadata": {},
          "execution_count": 24
        }
      ],
      "source": [
        "from transformers import pipeline\n",
        "\n",
        "summarizer = pipeline(\"summarization\", model=\"my_controls\")\n",
        "summarizer(text)"
      ]
    },
    {
      "cell_type": "code",
      "execution_count": null,
      "metadata": {
        "id": "ypBO4QLpNFCC",
        "colab": {
          "base_uri": "https://localhost:8080/"
        },
        "outputId": "8ed6588e-c0c1-4fc8-b7f0-cd7259a1532c"
      },
      "outputs": [
        {
          "output_type": "execute_result",
          "data": {
            "text/plain": [
              "[{'summary_text': 'A Normal Change is one that meets the defined lead time for testing and validation and is assigned a SIA level of no, low, medium, or high. A Normal change is an RFC that is not a Standard, Expedited or Emergency change, and is subject to the full ChM review process, including review and authorization by the CAB.'}]"
            ]
          },
          "metadata": {},
          "execution_count": 91
        }
      ],
      "source": [
        "from transformers import pipeline\n",
        "\n",
        "summarizer = pipeline(\"summarization\", model=\"my_controls\")\n",
        "summarizer(text_prompt)"
      ]
    },
    {
      "cell_type": "markdown",
      "metadata": {
        "id": "cyNdV8oFNIN-"
      },
      "source": [
        "2 WAY\n"
      ]
    },
    {
      "cell_type": "code",
      "execution_count": null,
      "metadata": {
        "id": "q40mpl4ANK7x",
        "colab": {
          "base_uri": "https://localhost:8080/",
          "height": 53
        },
        "outputId": "5861d6bb-aa28-42c7-bbab-bf2ba13691e7"
      },
      "outputs": [
        {
          "output_type": "execute_result",
          "data": {
            "text/plain": [
              "'A Normal Change is one that meets the defined lead time for testing and validation and is assigned a SIA level of no, low, medium, or high. An Expedited Change does not meet the lead time requirement for a Normal change, but is not an Emergency Change. All emergency changes are authorized by E-CAB and documented and entered into the Enterprise Ticketing System prior to implementation.'"
            ],
            "application/vnd.google.colaboratory.intrinsic+json": {
              "type": "string"
            }
          },
          "metadata": {},
          "execution_count": 26
        }
      ],
      "source": [
        "from transformers import AutoTokenizer\n",
        "\n",
        "tokenizer = AutoTokenizer.from_pretrained(\"my_controls\")\n",
        "inputs = tokenizer(text, return_tensors=\"pt\").input_ids\n",
        "\n",
        "from transformers import AutoModelForSeq2SeqLM\n",
        "\n",
        "model = AutoModelForSeq2SeqLM.from_pretrained(\"my_controls\")\n",
        "outputs = model.generate(inputs, max_new_tokens=100, do_sample=False)\n",
        "\n",
        "tokenizer.decode(outputs[0], skip_special_tokens=True)"
      ]
    },
    {
      "cell_type": "code",
      "execution_count": null,
      "metadata": {
        "id": "ZWcAh4GwNLFJ",
        "colab": {
          "base_uri": "https://localhost:8080/",
          "height": 53
        },
        "outputId": "f2f9f03d-7943-45a6-8b6e-b536c9471a0a"
      },
      "outputs": [
        {
          "output_type": "execute_result",
          "data": {
            "text/plain": [
              "'A Normal Change is one that meets the defined lead time for testing and validation and is assigned a SIA level of no, low, medium, or high. A Normal change is an RFC that is not a Standard, Expedited or Emergency change, and is subject to the full ChM review process, including review and authorization by the CAB.'"
            ],
            "application/vnd.google.colaboratory.intrinsic+json": {
              "type": "string"
            }
          },
          "metadata": {},
          "execution_count": 87
        }
      ],
      "source": [
        "from transformers import AutoTokenizer\n",
        "\n",
        "tokenizer = AutoTokenizer.from_pretrained(\"my_controls\")\n",
        "inputs = tokenizer(text_prompt, return_tensors=\"pt\").input_ids\n",
        "\n",
        "from transformers import AutoModelForSeq2SeqLM\n",
        "\n",
        "model = AutoModelForSeq2SeqLM.from_pretrained(\"my_controls\")\n",
        "outputs = model.generate(inputs, max_new_tokens=100, do_sample=False)\n",
        "\n",
        "tokenizer.decode(outputs[0], skip_special_tokens=True)"
      ]
    },
    {
      "cell_type": "markdown",
      "metadata": {
        "id": "zf45ozrka_D7"
      },
      "source": [
        "ΔΗΜΙΟΥΡΓΙΑ ΛΙΣΤΑΣ ΜΕ ΑΠΟΤΕΛΕΣΜΑΤΑ ΤΟΥ ΜΟΝΤΕΛΟΥ MY_CONTROLS ΑΠΟ ΠΡΟΣΠΕΛΑΣΗ ΤΟΥ DATASET TEST"
      ]
    },
    {
      "cell_type": "code",
      "execution_count": null,
      "metadata": {
        "id": "SLQkmV-TnDjt",
        "colab": {
          "base_uri": "https://localhost:8080/"
        },
        "outputId": "4003fd19-3595-45d8-9207-cec5877d416c"
      },
      "outputs": [
        {
          "output_type": "stream",
          "name": "stdout",
          "text": [
            "--2024-06-04 19:14:10--  https://raw.githubusercontent.com/MarCaramani/MK_Thesis/master/THESIS/Dataset.json\n",
            "Resolving raw.githubusercontent.com (raw.githubusercontent.com)... 185.199.108.133, 185.199.111.133, 185.199.110.133, ...\n",
            "Connecting to raw.githubusercontent.com (raw.githubusercontent.com)|185.199.108.133|:443... connected.\n",
            "HTTP request sent, awaiting response... 200 OK\n",
            "Length: 34667 (34K) [text/plain]\n",
            "Saving to: ‘Dataset.json.13’\n",
            "\n",
            "\rDataset.json.13       0%[                    ]       0  --.-KB/s               \rDataset.json.13     100%[===================>]  33.85K  --.-KB/s    in 0.008s  \n",
            "\n",
            "2024-06-04 19:14:10 (4.28 MB/s) - ‘Dataset.json.13’ saved [34667/34667]\n",
            "\n"
          ]
        },
        {
          "output_type": "stream",
          "name": "stderr",
          "text": [
            "Your max_length is set to 142, but your input_length is only 105. Since this is a summarization task, where outputs shorter than the input are typically wanted, you might consider decreasing max_length manually, e.g. summarizer('...', max_length=52)\n",
            "Your max_length is set to 142, but your input_length is only 100. Since this is a summarization task, where outputs shorter than the input are typically wanted, you might consider decreasing max_length manually, e.g. summarizer('...', max_length=50)\n",
            "Your max_length is set to 142, but your input_length is only 109. Since this is a summarization task, where outputs shorter than the input are typically wanted, you might consider decreasing max_length manually, e.g. summarizer('...', max_length=54)\n",
            "Your max_length is set to 142, but your input_length is only 109. Since this is a summarization task, where outputs shorter than the input are typically wanted, you might consider decreasing max_length manually, e.g. summarizer('...', max_length=54)\n",
            "Your max_length is set to 142, but your input_length is only 108. Since this is a summarization task, where outputs shorter than the input are typically wanted, you might consider decreasing max_length manually, e.g. summarizer('...', max_length=54)\n",
            "Your max_length is set to 142, but your input_length is only 108. Since this is a summarization task, where outputs shorter than the input are typically wanted, you might consider decreasing max_length manually, e.g. summarizer('...', max_length=54)\n",
            "Your max_length is set to 142, but your input_length is only 108. Since this is a summarization task, where outputs shorter than the input are typically wanted, you might consider decreasing max_length manually, e.g. summarizer('...', max_length=54)\n",
            "Your max_length is set to 142, but your input_length is only 109. Since this is a summarization task, where outputs shorter than the input are typically wanted, you might consider decreasing max_length manually, e.g. summarizer('...', max_length=54)\n",
            "Your max_length is set to 142, but your input_length is only 109. Since this is a summarization task, where outputs shorter than the input are typically wanted, you might consider decreasing max_length manually, e.g. summarizer('...', max_length=54)\n",
            "Your max_length is set to 142, but your input_length is only 137. Since this is a summarization task, where outputs shorter than the input are typically wanted, you might consider decreasing max_length manually, e.g. summarizer('...', max_length=68)\n"
          ]
        },
        {
          "output_type": "stream",
          "name": "stdout",
          "text": [
            "{0: [{'summary_text': 'Data is to be given appropriate levels of access control and security. This means that it should be safeguarded by means of lockable cabinets and password and/or encryption protection. Handling and exchange of information must in addition comply with the Access to Health Records Act 1990. Only those with a professional or contractual duty of confidentiality are permitted access.'}], 1: [{'summary_text': 'Data is to be given appropriate levels of access control and security. This means that it should be safeguarded by means of lockable cabinets and password and/or encryption protection. Handling and exchange of information must in addition comply with the Access to Health Records Act 1990. Only those with a professional or contractual duty of confidentiality are permitted access.'}], 2: [{'summary_text': 'All members of the EUI community and visitors to the campus have a collective responsibility for adhering to the security procedures and measures in place. Heads of academic and administrative units are responsible for overseeing that the IAM Policy and associated procedures are being respected in their Units.'}], 3: [{'summary_text': 'All members of the EUI community and visitors to the campus have a collective responsibility for adhering to the security procedures and measures in place. Heads of academic and administrative units are responsible for overseeing that the IAM Policy and associated procedures are being respected in their Units.'}], 4: [{'summary_text': 'Creating a new identity may entitle the assignment of a new computing account, a new email address and a new EUI card. The access rights assigned depend on the role and type of affiliation within the EUI. After creating a digital identity, a Computing account and\\\\or an Email address (and an associated mailbox) are issued.'}], 5: [{'summary_text': 'Creating a new identity may entitle the assignment of a new computing account, a new email address and a new EUI card. The access rights assigned depend on the role and type of affiliation within the EUI. After creating a digital identity, a Computing account and\\\\or an Email address (and an associated mailbox) are issued.'}], 6: [{'summary_text': 'Creating a new identity for a person joining the EUI may entitle the assignment of a new computing account, a new email address and a new EUI card. After creating a digital identity, a Computing account and\\\\or an Email address (and an associated mailbox) are issued. The access rights assigned depend on the role and type of affiliation.'}], 7: [{'summary_text': 'Creating a new identity for a person joining the EUI may entitle the assignment of a new computing account, a new email address and a new EUI card. After creating a digital identity, a Computing account and\\\\or an Email address (and an associated mailbox) are issued. The access rights assigned depend on the role and type of affiliation.'}], 8: [{'summary_text': 'Creating a new identity for a person joining the EUI may entitle the assignment of a new computing account, a new email address and a new EUI card. After creating a digital identity, a Computing account and\\\\or an Email address (and an associated mailbox) are issued. The access rights assigned depend on the role and type of affiliation.'}], 9: [{'summary_text': 'Creating a new identity may entitle the assignment of a new computing account, a new email address and a new EUI card. The access rights assigned depend on the role and type of affiliation within the EUI. After creating a digital identity, a Computing account and\\\\or an Email address (and an associated mailbox) are issued.'}], 10: [{'summary_text': 'Creating a new identity may entitle the assignment of a new computing account, a new email address and a new EUI card. The access rights assigned depend on the role and type of affiliation within the EUI. After creating a digital identity, a Computing account and\\\\or an Email address (and an associated mailbox) are issued.'}], 11: [{'summary_text': 'Risk unit owners in consultation with OIC at a plant/unit will assess the risk by determining its probability of occurrence and its impact with an objective of reporting key risks to the Site Level Risk Steering Committee. Key responsibilities of the Risk unit owners include:Identification of new risks, reviewing and discussing significant risk issues and ensuring horizontal collaboration.'}], 12: [{'summary_text': 'Risk Management Committee is chaired by the President’s nominee. Responsibilities of the Risk Management Committee are detailed in its Terms of Reference and shall include:Periodic review and recommendation of updates to the risk management policy and framework. Reviewing and making recommendations in relation to the Risk Appetite Statement and the University Risk Register.'}], 13: [{'summary_text': 'Risk is generally understood to be the impact (both positive and negative) of the uncertainty regarding the achievement of the objectives or of reasonable business expectations. For the purposes of this policy, risk factors are considered to be any risk that a potential event, action or omission will negatively impact these objectives or expectations.'}], 14: [{'summary_text': 'The purpose of risk identification is to determine a comprehensive list of risks which may affect the Departments objectives and priorities. The risk management process should establish the context in which the sources that create risks and opportunities can be understood. At the Department level, the Chief Risk Officer will facilitate the risk identification and assessment process with the PD and TCO Executive.'}], 15: [{'summary_text': 'The main bodies and areas involved in risk control and management and their responsibilities are as follows. Board of Diretors Ensures the implementation of the Internal Control and Risk Management System and monitors the internal reporting and risk control systems. The risk Coordination unit, supports the correct functioning of the Risk Control and Management System, ensuring its identification,assessment, quantification and monitoring.'}], 16: [{'summary_text': 'The Chief Risk Officer must design, implement and be responsible for the continuous improvement of the risk management Policy. The Deputy Secretaries, Chief Digital and Information Officer, and Chief Financial and Operations Officer are set and communicate good risk management practices and culture. The risk owners are Responsible for ensuring that risks are managed, monitored and reported, without taking away the ultimate responsibility of the Secretary.'}], 17: [{'summary_text': 'CAB reviews and confirms critical elements to include proper Description, Impact Analysis,Testing Plan, Roll-Back procedures and any required Technical review by system owners. An intentional approach should be taken whenscheduling the change. Efforts should be made to schedule high risk/impact changes outsideof normal organization hours or in test environments if available.'}], 18: [{'summary_text': 'A Normal Change is one that meets the defined lead time for testing and validation and is assigned a SIA level of no, low, medium, or high. An Expedited Change does not meet the lead time requirement for a Normal change, but is not an Emergency Change. Emergency changes are authorized by E-CAB and documented and entered into the Enterprise Ticketing System prior to implementation.'}], 19: [{'summary_text': 'Minor changes may be implemented without recourse to formal procedures. While formal consultation is not required for minor change, staff will still be consulted about changes that have an impact on them. In major exercises that represent a potential change to staff terms and conditions, there is a requirement to formally consult. It is good practice to inform the relevant trades unions of even minor changes.'}], 20: [{'summary_text': 'The Emergency Change can be executed once a minimum of one (1) Service Owner has approved, or CIO/Deputy CIO have approved. If no verbal or written approval is received within 30 minutes, the Service Owner will provide approval to proceed. An email to the entire organization will be sent notifying them of any outage or service disruption.'}], 21: [{'summary_text': 'All employee account creation requests are to be submitted via a Help Desk ticket. The request must contain the employee’s full name, company/division, department, job title, manager, and any special authorizations. If the request requires any application or special group access, the Help Desk will forward the ticket to the appropriate Business Administrator.'}], 22: [{'summary_text': 'Programs under development or maintenance should not be held in operational program source libraries. A program librarian should be nominated for each application. Maintenance and copying of programs should be subject to strict change control procedures. An audit log should be maintained of all accesses to program sources.'}], 23: [{'summary_text': 'NIST 800-63b standards will be followed when managing passwords. Minimum of eight (8) characters in length. English uppercase characters (A through Z) English lowercase characters (a through z) Base 10 digits (0 through 9) 2.2. Non-alphabetic characters (e.g., !, $, #, %) is recommended.'}], 24: [{'summary_text': 'Passwords history shall be kept for the previous six (6) passwords and passwords shall be unique across the password history. NIST 800-63b does not required periodic password resets. Maximum password age should be ninety (90) days. Set first-time passwords to a unique value for each user and change immediately after the first use.'}]}\n"
          ]
        }
      ],
      "source": [
        "i=0\n",
        "results_dict = {}\n",
        "!wget https://raw.githubusercontent.com/MarCaramani/MK_Thesis/master/THESIS/Dataset.json\n",
        "my_dataset_test = load_dataset(\"json\", data_files=\"Dataset.json\", field=\"documents\")\n",
        "\n",
        "\n",
        "summarizer = pipeline(\"summarization\", model=\"my_controls\")\n",
        "\n",
        "for i in range(len(my_dataset_test[\"train\"])):\n",
        "\n",
        "  data_item = my_dataset_test[\"train\"][i]\n",
        "  text = data_item.get(\"TEXT\")\n",
        "  text_with_prompt = \"Review by this\" + text\n",
        "\n",
        "  answer = summarizer(text_with_prompt)\n",
        "\n",
        "\n",
        "  results_dict[i] = answer\n",
        "\n",
        "print(results_dict)"
      ]
    },
    {
      "cell_type": "markdown",
      "metadata": {
        "id": "w79Kl4C9bRly"
      },
      "source": [
        "ΔΗΜΙΟΥΡΓΙΑ ΛΙΣΤΑΣ ΜΕ ΑΠΟΤΕΛΕΣΜΑΤΑ ROUGE"
      ]
    },
    {
      "cell_type": "code",
      "execution_count": null,
      "metadata": {
        "id": "7st3UF0g96E_",
        "colab": {
          "base_uri": "https://localhost:8080/"
        },
        "outputId": "31af85f6-3cc1-47bf-f85f-fa8d0d73e287"
      },
      "outputs": [
        {
          "output_type": "stream",
          "name": "stdout",
          "text": [
            "Αποτέλεσμα για το ζεύγος 1: {'rouge1': Score(precision=0.3125, recall=0.08333333333333333, fmeasure=0.13157894736842105), 'rouge2': Score(precision=0.06666666666666667, recall=0.01694915254237288, fmeasure=0.02702702702702703), 'rougeL': Score(precision=0.25, recall=0.06666666666666667, fmeasure=0.10526315789473685)}\n",
            "Αποτέλεσμα για το ζεύγος 2: {'rouge1': Score(precision=0.375, recall=0.1, fmeasure=0.15789473684210528), 'rouge2': Score(precision=0.0, recall=0.0, fmeasure=0.0), 'rougeL': Score(precision=0.1875, recall=0.05, fmeasure=0.07894736842105264)}\n",
            "Αποτέλεσμα για το ζεύγος 3: {'rouge1': Score(precision=0.48, recall=0.25, fmeasure=0.3287671232876712), 'rouge2': Score(precision=0.041666666666666664, recall=0.02127659574468085, fmeasure=0.028169014084507043), 'rougeL': Score(precision=0.24, recall=0.125, fmeasure=0.1643835616438356)}\n",
            "Αποτέλεσμα για το ζεύγος 4: {'rouge1': Score(precision=0.3870967741935484, recall=0.25, fmeasure=0.3037974683544304), 'rouge2': Score(precision=0.03333333333333333, recall=0.02127659574468085, fmeasure=0.025974025974025972), 'rougeL': Score(precision=0.22580645161290322, recall=0.14583333333333334, fmeasure=0.17721518987341772)}\n",
            "Αποτέλεσμα για το ζεύγος 5: {'rouge1': Score(precision=0.30434782608695654, recall=0.125, fmeasure=0.17721518987341772), 'rouge2': Score(precision=0.0, recall=0.0, fmeasure=0.0), 'rougeL': Score(precision=0.30434782608695654, recall=0.125, fmeasure=0.17721518987341772)}\n",
            "Αποτέλεσμα για το ζεύγος 6: {'rouge1': Score(precision=0.4166666666666667, recall=0.17857142857142858, fmeasure=0.25), 'rouge2': Score(precision=0.13043478260869565, recall=0.05454545454545454, fmeasure=0.07692307692307693), 'rougeL': Score(precision=0.3333333333333333, recall=0.14285714285714285, fmeasure=0.2)}\n",
            "Αποτέλεσμα για το ζεύγος 7: {'rouge1': Score(precision=0.18181818181818182, recall=0.03389830508474576, fmeasure=0.05714285714285715), 'rouge2': Score(precision=0.0, recall=0.0, fmeasure=0.0), 'rougeL': Score(precision=0.18181818181818182, recall=0.03389830508474576, fmeasure=0.05714285714285715)}\n",
            "Αποτέλεσμα για το ζεύγος 8: {'rouge1': Score(precision=0.3103448275862069, recall=0.15254237288135594, fmeasure=0.20454545454545459), 'rouge2': Score(precision=0.07142857142857142, recall=0.034482758620689655, fmeasure=0.046511627906976744), 'rougeL': Score(precision=0.2413793103448276, recall=0.11864406779661017, fmeasure=0.15909090909090912)}\n",
            "Αποτέλεσμα για το ζεύγος 9: {'rouge1': Score(precision=0.2857142857142857, recall=0.13559322033898305, fmeasure=0.1839080459770115), 'rouge2': Score(precision=0.0, recall=0.0, fmeasure=0.0), 'rougeL': Score(precision=0.21428571428571427, recall=0.1016949152542373, fmeasure=0.13793103448275865)}\n",
            "Αποτέλεσμα για το ζεύγος 10: {'rouge1': Score(precision=0.3076923076923077, recall=0.07142857142857142, fmeasure=0.11594202898550726), 'rouge2': Score(precision=0.0, recall=0.0, fmeasure=0.0), 'rougeL': Score(precision=0.3076923076923077, recall=0.07142857142857142, fmeasure=0.11594202898550726)}\n",
            "Αποτέλεσμα για το ζεύγος 11: {'rouge1': Score(precision=0.37037037037037035, recall=0.17857142857142858, fmeasure=0.24096385542168672), 'rouge2': Score(precision=0.0, recall=0.0, fmeasure=0.0), 'rougeL': Score(precision=0.2962962962962963, recall=0.14285714285714285, fmeasure=0.1927710843373494)}\n",
            "Αποτέλεσμα για το ζεύγος 12: {'rouge1': Score(precision=0.39285714285714285, recall=0.18333333333333332, fmeasure=0.25), 'rouge2': Score(precision=0.037037037037037035, recall=0.01694915254237288, fmeasure=0.023255813953488372), 'rougeL': Score(precision=0.32142857142857145, recall=0.15, fmeasure=0.20454545454545456)}\n",
            "Αποτέλεσμα για το ζεύγος 13: {'rouge1': Score(precision=0.5, recall=0.2545454545454545, fmeasure=0.3373493975903614), 'rouge2': Score(precision=0.14814814814814814, recall=0.07407407407407407, fmeasure=0.09876543209876543), 'rougeL': Score(precision=0.32142857142857145, recall=0.16363636363636364, fmeasure=0.21686746987951808)}\n",
            "Αποτέλεσμα για το ζεύγος 14: {'rouge1': Score(precision=0.2777777777777778, recall=0.09259259259259259, fmeasure=0.1388888888888889), 'rouge2': Score(precision=0.0, recall=0.0, fmeasure=0.0), 'rougeL': Score(precision=0.2222222222222222, recall=0.07407407407407407, fmeasure=0.1111111111111111)}\n",
            "Αποτέλεσμα για το ζεύγος 15: {'rouge1': Score(precision=0.2777777777777778, recall=0.07936507936507936, fmeasure=0.12345679012345678), 'rouge2': Score(precision=0.0, recall=0.0, fmeasure=0.0), 'rougeL': Score(precision=0.2777777777777778, recall=0.07936507936507936, fmeasure=0.12345679012345678)}\n",
            "Αποτέλεσμα για το ζεύγος 16: {'rouge1': Score(precision=0.34782608695652173, recall=0.12903225806451613, fmeasure=0.18823529411764706), 'rouge2': Score(precision=0.045454545454545456, recall=0.01639344262295082, fmeasure=0.024096385542168676), 'rougeL': Score(precision=0.30434782608695654, recall=0.11290322580645161, fmeasure=0.16470588235294115)}\n",
            "Αποτέλεσμα για το ζεύγος 17: {'rouge1': Score(precision=0.43478260869565216, recall=0.15151515151515152, fmeasure=0.2247191011235955), 'rouge2': Score(precision=0.09090909090909091, recall=0.03076923076923077, fmeasure=0.04597701149425288), 'rougeL': Score(precision=0.391304347826087, recall=0.13636363636363635, fmeasure=0.20224719101123592)}\n",
            "Αποτέλεσμα για το ζεύγος 18: {'rouge1': Score(precision=0.35714285714285715, recall=0.18518518518518517, fmeasure=0.24390243902439024), 'rouge2': Score(precision=0.0, recall=0.0, fmeasure=0.0), 'rougeL': Score(precision=0.2857142857142857, recall=0.14814814814814814, fmeasure=0.1951219512195122)}\n",
            "Αποτέλεσμα για το ζεύγος 19: {'rouge1': Score(precision=0.42857142857142855, recall=0.18181818181818182, fmeasure=0.2553191489361702), 'rouge2': Score(precision=0.0, recall=0.0, fmeasure=0.0), 'rougeL': Score(precision=0.2857142857142857, recall=0.12121212121212122, fmeasure=0.1702127659574468)}\n",
            "Αποτέλεσμα για το ζεύγος 20: {'rouge1': Score(precision=0.375, recall=0.045454545454545456, fmeasure=0.08108108108108107), 'rouge2': Score(precision=0.0, recall=0.0, fmeasure=0.0), 'rougeL': Score(precision=0.25, recall=0.030303030303030304, fmeasure=0.054054054054054064)}\n",
            "Αποτέλεσμα για το ζεύγος 21: {'rouge1': Score(precision=0.38461538461538464, recall=0.08620689655172414, fmeasure=0.14084507042253522), 'rouge2': Score(precision=0.0, recall=0.0, fmeasure=0.0), 'rougeL': Score(precision=0.23076923076923078, recall=0.05172413793103448, fmeasure=0.08450704225352113)}\n",
            "Αποτέλεσμα για το ζεύγος 22: {'rouge1': Score(precision=0.35714285714285715, recall=0.09090909090909091, fmeasure=0.1449275362318841), 'rouge2': Score(precision=0.07692307692307693, recall=0.018518518518518517, fmeasure=0.029850746268656716), 'rougeL': Score(precision=0.2857142857142857, recall=0.07272727272727272, fmeasure=0.11594202898550722)}\n",
            "Αποτέλεσμα για το ζεύγος 23: {'rouge1': Score(precision=0.2857142857142857, recall=0.08333333333333333, fmeasure=0.12903225806451613), 'rouge2': Score(precision=0.07692307692307693, recall=0.02127659574468085, fmeasure=0.03333333333333333), 'rougeL': Score(precision=0.14285714285714285, recall=0.041666666666666664, fmeasure=0.06451612903225806)}\n",
            "Αποτέλεσμα για το ζεύγος 24: {'rouge1': Score(precision=0.3181818181818182, recall=0.1590909090909091, fmeasure=0.2121212121212121), 'rouge2': Score(precision=0.0, recall=0.0, fmeasure=0.0), 'rougeL': Score(precision=0.2727272727272727, recall=0.13636363636363635, fmeasure=0.1818181818181818)}\n",
            "Αποτέλεσμα για το ζεύγος 25: {'rouge1': Score(precision=0.625, recall=0.18181818181818182, fmeasure=0.28169014084507044), 'rouge2': Score(precision=0.13333333333333333, recall=0.037037037037037035, fmeasure=0.057971014492753624), 'rougeL': Score(precision=0.4375, recall=0.12727272727272726, fmeasure=0.1971830985915493)}\n"
          ]
        }
      ],
      "source": [
        "pip install rouge-score\n",
        "!wget https://raw.githubusercontent.com/MarCaramani/MK_Thesis/master/THESIS/Dataset.json\n",
        "my_dataset = load_dataset(\"json\", data_files=\"Dataset.json\", field=\"documents\")\n",
        "my_dataset_test = my_dataset['train']\n",
        "len(my_dataset_test)\n",
        "\n",
        "from rouge_score import rouge_scorer\n",
        "i=0\n",
        "\n",
        "rouge_scores = []\n",
        "\n",
        "scorer = rouge_scorer.RougeScorer(['rouge1', 'rouge2', 'rougeL'], use_stemmer=True)\n",
        "\n",
        "for i in range(len(results_dict)):\n",
        "    hypothesis = my_dataset_test['SUMMARIZATION'][i]\n",
        "\n",
        "    reference = results_dict[i][0]['summary_text']\n",
        "    if isinstance(hypothesis, str):\n",
        "     hypothesis = hypothesis.lower()\n",
        "\n",
        "    if isinstance(reference, str):\n",
        "     reference = reference.lower()\n",
        "\n",
        "    score = scorer.score(reference, hypothesis)\n",
        "\n",
        "    rouge_scores.append(score)\n",
        "\n",
        "for idx, score in enumerate(rouge_scores):\n",
        "    print(f\"Αποτέλεσμα για το ζεύγος {idx+1}: {score}\")\n",
        "\n"
      ]
    },
    {
      "cell_type": "code",
      "execution_count": null,
      "metadata": {
        "id": "UiV0KmVS7xyK",
        "colab": {
          "base_uri": "https://localhost:8080/"
        },
        "outputId": "fc6960cb-753d-4f27-dc02-6d581ff0b009"
      },
      "outputs": [
        {
          "output_type": "stream",
          "name": "stdout",
          "text": [
            "{'rouge1': Score(precision=0.375, recall=0.1, fmeasure=0.15789473684210528), 'rouge2': Score(precision=0.0, recall=0.0, fmeasure=0.0), 'rougeL': Score(precision=0.1875, recall=0.05, fmeasure=0.07894736842105264)}\n"
          ]
        }
      ],
      "source": [
        "print(rouge_scores[1])"
      ]
    },
    {
      "cell_type": "code",
      "execution_count": null,
      "metadata": {
        "id": "8h0FsbfH7x7D",
        "colab": {
          "base_uri": "https://localhost:8080/"
        },
        "outputId": "211810d6-09a8-459a-bb56-504a6ccffaee"
      },
      "outputs": [
        {
          "output_type": "execute_result",
          "data": {
            "text/plain": [
              "25"
            ]
          },
          "metadata": {},
          "execution_count": 116
        }
      ],
      "source": [
        "len(rouge_scores)"
      ]
    },
    {
      "cell_type": "markdown",
      "metadata": {
        "id": "lxZb6vx_bXGe"
      },
      "source": [
        "ΜΕΣΟΣ ΟΡΟΣ ΑΠΟ ΤΗΝ ΛΙΣΤΑ ROUGE_SCORES"
      ]
    },
    {
      "cell_type": "code",
      "execution_count": null,
      "metadata": {
        "id": "qwjVWu6V7x9Q",
        "colab": {
          "base_uri": "https://localhost:8080/"
        },
        "outputId": "0da1f224-c356-493a-8d42-a2ab7e1ec0d6"
      },
      "outputs": [
        {
          "output_type": "stream",
          "name": "stdout",
          "text": [
            "{'rouge1': [], 'rouge2': [], 'rougeL': []}\n",
            "3\n",
            "{'rouge1': [Score(precision=0.3125, recall=0.08333333333333333, fmeasure=0.13157894736842105), Score(precision=0.375, recall=0.1, fmeasure=0.15789473684210528), Score(precision=0.48, recall=0.25, fmeasure=0.3287671232876712), Score(precision=0.3870967741935484, recall=0.25, fmeasure=0.3037974683544304), Score(precision=0.30434782608695654, recall=0.125, fmeasure=0.17721518987341772), Score(precision=0.4166666666666667, recall=0.17857142857142858, fmeasure=0.25), Score(precision=0.18181818181818182, recall=0.03389830508474576, fmeasure=0.05714285714285715), Score(precision=0.3103448275862069, recall=0.15254237288135594, fmeasure=0.20454545454545459), Score(precision=0.2857142857142857, recall=0.13559322033898305, fmeasure=0.1839080459770115), Score(precision=0.3076923076923077, recall=0.07142857142857142, fmeasure=0.11594202898550726), Score(precision=0.37037037037037035, recall=0.17857142857142858, fmeasure=0.24096385542168672), Score(precision=0.39285714285714285, recall=0.18333333333333332, fmeasure=0.25), Score(precision=0.5, recall=0.2545454545454545, fmeasure=0.3373493975903614), Score(precision=0.2777777777777778, recall=0.09259259259259259, fmeasure=0.1388888888888889), Score(precision=0.2777777777777778, recall=0.07936507936507936, fmeasure=0.12345679012345678), Score(precision=0.34782608695652173, recall=0.12903225806451613, fmeasure=0.18823529411764706), Score(precision=0.43478260869565216, recall=0.15151515151515152, fmeasure=0.2247191011235955), Score(precision=0.35714285714285715, recall=0.18518518518518517, fmeasure=0.24390243902439024), Score(precision=0.42857142857142855, recall=0.18181818181818182, fmeasure=0.2553191489361702), Score(precision=0.375, recall=0.045454545454545456, fmeasure=0.08108108108108107), Score(precision=0.38461538461538464, recall=0.08620689655172414, fmeasure=0.14084507042253522), Score(precision=0.35714285714285715, recall=0.09090909090909091, fmeasure=0.1449275362318841), Score(precision=0.2857142857142857, recall=0.08333333333333333, fmeasure=0.12903225806451613), Score(precision=0.3181818181818182, recall=0.1590909090909091, fmeasure=0.2121212121212121), Score(precision=0.625, recall=0.18181818181818182, fmeasure=0.28169014084507044)], 'rouge2': [Score(precision=0.06666666666666667, recall=0.01694915254237288, fmeasure=0.02702702702702703), Score(precision=0.0, recall=0.0, fmeasure=0.0), Score(precision=0.041666666666666664, recall=0.02127659574468085, fmeasure=0.028169014084507043), Score(precision=0.03333333333333333, recall=0.02127659574468085, fmeasure=0.025974025974025972), Score(precision=0.0, recall=0.0, fmeasure=0.0), Score(precision=0.13043478260869565, recall=0.05454545454545454, fmeasure=0.07692307692307693), Score(precision=0.0, recall=0.0, fmeasure=0.0), Score(precision=0.07142857142857142, recall=0.034482758620689655, fmeasure=0.046511627906976744), Score(precision=0.0, recall=0.0, fmeasure=0.0), Score(precision=0.0, recall=0.0, fmeasure=0.0), Score(precision=0.0, recall=0.0, fmeasure=0.0), Score(precision=0.037037037037037035, recall=0.01694915254237288, fmeasure=0.023255813953488372), Score(precision=0.14814814814814814, recall=0.07407407407407407, fmeasure=0.09876543209876543), Score(precision=0.0, recall=0.0, fmeasure=0.0), Score(precision=0.0, recall=0.0, fmeasure=0.0), Score(precision=0.045454545454545456, recall=0.01639344262295082, fmeasure=0.024096385542168676), Score(precision=0.09090909090909091, recall=0.03076923076923077, fmeasure=0.04597701149425288), Score(precision=0.0, recall=0.0, fmeasure=0.0), Score(precision=0.0, recall=0.0, fmeasure=0.0), Score(precision=0.0, recall=0.0, fmeasure=0.0), Score(precision=0.0, recall=0.0, fmeasure=0.0), Score(precision=0.07692307692307693, recall=0.018518518518518517, fmeasure=0.029850746268656716), Score(precision=0.07692307692307693, recall=0.02127659574468085, fmeasure=0.03333333333333333), Score(precision=0.0, recall=0.0, fmeasure=0.0), Score(precision=0.13333333333333333, recall=0.037037037037037035, fmeasure=0.057971014492753624)], 'rougeL': [Score(precision=0.25, recall=0.06666666666666667, fmeasure=0.10526315789473685), Score(precision=0.1875, recall=0.05, fmeasure=0.07894736842105264), Score(precision=0.24, recall=0.125, fmeasure=0.1643835616438356), Score(precision=0.22580645161290322, recall=0.14583333333333334, fmeasure=0.17721518987341772), Score(precision=0.30434782608695654, recall=0.125, fmeasure=0.17721518987341772), Score(precision=0.3333333333333333, recall=0.14285714285714285, fmeasure=0.2), Score(precision=0.18181818181818182, recall=0.03389830508474576, fmeasure=0.05714285714285715), Score(precision=0.2413793103448276, recall=0.11864406779661017, fmeasure=0.15909090909090912), Score(precision=0.21428571428571427, recall=0.1016949152542373, fmeasure=0.13793103448275865), Score(precision=0.3076923076923077, recall=0.07142857142857142, fmeasure=0.11594202898550726), Score(precision=0.2962962962962963, recall=0.14285714285714285, fmeasure=0.1927710843373494), Score(precision=0.32142857142857145, recall=0.15, fmeasure=0.20454545454545456), Score(precision=0.32142857142857145, recall=0.16363636363636364, fmeasure=0.21686746987951808), Score(precision=0.2222222222222222, recall=0.07407407407407407, fmeasure=0.1111111111111111), Score(precision=0.2777777777777778, recall=0.07936507936507936, fmeasure=0.12345679012345678), Score(precision=0.30434782608695654, recall=0.11290322580645161, fmeasure=0.16470588235294115), Score(precision=0.391304347826087, recall=0.13636363636363635, fmeasure=0.20224719101123592), Score(precision=0.2857142857142857, recall=0.14814814814814814, fmeasure=0.1951219512195122), Score(precision=0.2857142857142857, recall=0.12121212121212122, fmeasure=0.1702127659574468), Score(precision=0.25, recall=0.030303030303030304, fmeasure=0.054054054054054064), Score(precision=0.23076923076923078, recall=0.05172413793103448, fmeasure=0.08450704225352113), Score(precision=0.2857142857142857, recall=0.07272727272727272, fmeasure=0.11594202898550722), Score(precision=0.14285714285714285, recall=0.041666666666666664, fmeasure=0.06451612903225806), Score(precision=0.2727272727272727, recall=0.13636363636363635, fmeasure=0.1818181818181818), Score(precision=0.4375, recall=0.12727272727272726, fmeasure=0.1971830985915493)]}\n",
            "3\n",
            "Μέσος όρος ROUGE1: Precision = 0.3638, Recall = 0.1385, F-measure = 0.1961\n",
            "Μέσος όρος ROUGE2: Precision = 0.0381, Recall = 0.0145, F-measure = 0.0207\n",
            "Μέσος όρος ROUGE-L: Precision = 0.2725, Recall = 0.1028, F-measure = 0.1461\n"
          ]
        }
      ],
      "source": [
        "import numpy as np\n",
        "\n",
        "all_rouge_scores = {'rouge1': [], 'rouge2': [], 'rougeL': []}\n",
        "\n",
        "print(all_rouge_scores)\n",
        "print(len(all_rouge_scores))\n",
        "\n",
        "for score in rouge_scores:\n",
        "    all_rouge_scores['rouge1'].append(score['rouge1'])\n",
        "    all_rouge_scores['rouge2'].append(score['rouge2'])\n",
        "    all_rouge_scores['rougeL'].append(score['rougeL'])\n",
        "\n",
        "print(all_rouge_scores)\n",
        "print(len(all_rouge_scores))\n",
        "\n",
        "# Υπολογισμός Μ.Ο για το ROUGE-1\n",
        "rouge1_array = np.array([[metric.precision, metric.recall, metric.fmeasure] for metric in all_rouge_scores['rouge1']])\n",
        "rouge1_means = np.mean(rouge1_array, axis=0)\n",
        "print(\"Μέσος όρος ROUGE1: Precision = {:.4f}, Recall = {:.4f}, F-measure = {:.4f}\".format(rouge1_means[0], rouge1_means[1], rouge1_means[2]))\n",
        "\n",
        "# Υπολογισμός Μ.Ο για το ROUGE-2\n",
        "rouge2_array = np.array([[metric.precision, metric.recall, metric.fmeasure] for metric in all_rouge_scores['rouge2']])\n",
        "rouge2_means = np.mean(rouge2_array, axis=0)\n",
        "print(\"Μέσος όρος ROUGE2: Precision = {:.4f}, Recall = {:.4f}, F-measure = {:.4f}\".format(rouge2_means[0], rouge2_means[1], rouge2_means[2]))\n",
        "\n",
        "# Υπολογισμός Μ.Ο για το ROUGE-L\n",
        "rougeL_array = np.array([[metric.precision, metric.recall, metric.fmeasure] for metric in all_rouge_scores['rougeL']])\n",
        "rougeL_means = np.mean(rougeL_array, axis=0)\n",
        "print(\"Μέσος όρος ROUGE-L: Precision = {:.4f}, Recall = {:.4f}, F-measure = {:.4f}\".format(rougeL_means[0], rougeL_means[1], rougeL_means[2]))\n"
      ]
    },
    {
      "cell_type": "code",
      "execution_count": null,
      "metadata": {
        "id": "Y8749fbJ7x_4"
      },
      "outputs": [],
      "source": []
    },
    {
      "cell_type": "code",
      "execution_count": null,
      "metadata": {
        "id": "8qG4RRNx7yF7"
      },
      "outputs": [],
      "source": []
    },
    {
      "cell_type": "code",
      "execution_count": null,
      "metadata": {
        "id": "0p7ym1jUDxTt",
        "colab": {
          "base_uri": "https://localhost:8080/"
        },
        "outputId": "576ed8bc-111e-472b-9fa9-79565eb65995"
      },
      "outputs": [
        {
          "output_type": "stream",
          "name": "stdout",
          "text": [
            "--2024-06-04 19:13:42--  https://raw.githubusercontent.com/MarCaramani/MK_Thesis/master/THESIS/Dataset.json\n",
            "Resolving raw.githubusercontent.com (raw.githubusercontent.com)... 185.199.110.133, 185.199.111.133, 185.199.108.133, ...\n",
            "Connecting to raw.githubusercontent.com (raw.githubusercontent.com)|185.199.110.133|:443... connected.\n",
            "HTTP request sent, awaiting response... 200 OK\n",
            "Length: 34667 (34K) [text/plain]\n",
            "Saving to: ‘Dataset.json.11’\n",
            "\n",
            "\rDataset.json.11       0%[                    ]       0  --.-KB/s               \rDataset.json.11     100%[===================>]  33.85K  --.-KB/s    in 0.007s  \n",
            "\n",
            "2024-06-04 19:13:42 (4.69 MB/s) - ‘Dataset.json.11’ saved [34667/34667]\n",
            "\n",
            "+----------------------------------------------------------------------------------+----------------------------------------------------------------------------------+----------------------------------------------------------------------------------+\n",
            "| Column1                                                                          | Column2                                                                          | Column3                                                                          |\n",
            "+==================================================================================+==================================================================================+==================================================================================+\n",
            "| Appropriate security measures must be taken when processing data. Personal data  | [{'summary_text': 'Data is to be given appropriate levels of access control and  | Test the mechanisms that company use if the pervent the unauthorized access to   |\n",
            "| should be marked with an appropriate classification as per DG09 – Information    | security. This means that it should be safeguarded by means of lockable cabinets | the personal data                                                                |\n",
            "| Classification Policy and stored and handled (and disposed of) as determined by  | and password and/or encryption protection. Handling and exchange of information  |                                                                                  |\n",
            "| these. Data is to be given appropriate levels of access control and security.    | must in addition comply with the Access to Health Records Act 1990. Only those   |                                                                                  |\n",
            "| This means that it should be safeguarded by means of lockable cabinets and       | with a professional or contractual duty of confidentiality are permitted         |                                                                                  |\n",
            "| password and/or encryption protection, depending on format. Handling and         | access.'}]                                                                       |                                                                                  |\n",
            "| exchange of patient information must in addition comply with the Access to       |                                                                                  |                                                                                  |\n",
            "| Health Records Act 1990 and the Caldicott principles where only those with a     |                                                                                  |                                                                                  |\n",
            "| professional or contractual duty of confidentiality are permitted access to      |                                                                                  |                                                                                  |\n",
            "| patient information. Please also see the Records Management Procedures. - What   |                                                                                  |                                                                                  |\n",
            "| to do Make sure you use passwords which are strong and hard to guess. Never      |                                                                                  |                                                                                  |\n",
            "| share or write passwords down and keep a log of who has access to secure areas.  |                                                                                  |                                                                                  |\n",
            "| Secure personal information physically by restricting access to only those who   |                                                                                  |                                                                                  |\n",
            "| need it for the performance of their duties and lock cabinets, rooms and         |                                                                                  |                                                                                  |\n",
            "| computers when the information and device is not in use. Use confidential waste  |                                                                                  |                                                                                  |\n",
            "| facilities/shredding.                                                            |                                                                                  |                                                                                  |\n",
            "+----------------------------------------------------------------------------------+----------------------------------------------------------------------------------+----------------------------------------------------------------------------------+\n",
            "| Appropriate security measures must be taken when processing data. Personal data  | [{'summary_text': 'Data is to be given appropriate levels of access control and  | Review the physical secure measures for data protection ( card access, locked    |\n",
            "| should be marked with an appropriate classification as per DG09 – Information    | security. This means that it should be safeguarded by means of lockable cabinets | doors, cctv cameras and more)                                                    |\n",
            "| Classification Policy and stored and handled (and disposed of) as determined by  | and password and/or encryption protection. Handling and exchange of information  |                                                                                  |\n",
            "| these. Data is to be given appropriate levels of access control and security.    | must in addition comply with the Access to Health Records Act 1990. Only those   |                                                                                  |\n",
            "| This means that it should be safeguarded by means of lockable cabinets and       | with a professional or contractual duty of confidentiality are permitted         |                                                                                  |\n",
            "| password and/or encryption protection, depending on format. Handling and         | access.'}]                                                                       |                                                                                  |\n",
            "| exchange of patient information must in addition comply with the Access to       |                                                                                  |                                                                                  |\n",
            "| Health Records Act 1990 and the Caldicott principles where only those with a     |                                                                                  |                                                                                  |\n",
            "| professional or contractual duty of confidentiality are permitted access to      |                                                                                  |                                                                                  |\n",
            "| patient information. Please also see the Records Management Procedures. - What   |                                                                                  |                                                                                  |\n",
            "| to do Make sure you use passwords which are strong and hard to guess. Never      |                                                                                  |                                                                                  |\n",
            "| share or write passwords down and keep a log of who has access to secure areas.  |                                                                                  |                                                                                  |\n",
            "| Secure personal information physically by restricting access to only those who   |                                                                                  |                                                                                  |\n",
            "| need it for the performance of their duties and lock cabinets, rooms and         |                                                                                  |                                                                                  |\n",
            "| computers when the information and device is not in use. Use confidential waste  |                                                                                  |                                                                                  |\n",
            "| facilities/shredding.                                                            |                                                                                  |                                                                                  |\n",
            "+----------------------------------------------------------------------------------+----------------------------------------------------------------------------------+----------------------------------------------------------------------------------+\n",
            "| All members of the EUI community and visitors to the campus have a collective    | [{'summary_text': 'All members of the EUI community and visitors to the campus   | Review if the employees are fulfilling their responsibility according to IAM     |\n",
            "| responsibility for adhering to the security procedures and measures in place and | have a collective responsibility for adhering to the security procedures and     | policy, additionaly verify if the designated authorites are effectively          |\n",
            "| reporting unidentified risks, compromises of accounts and/or mailboxes or        | measures in place. Heads of academic and administrative units are responsible    | monitoring and enforcing security measures                                       |\n",
            "| security breaches. Heads of academic and administrative units are responsible    | for overseeing that the IAM Policy and associated procedures are being respected |                                                                                  |\n",
            "| for overseeing that the IAM Policy and associated procedures are being respected | in their Units.'}]                                                               |                                                                                  |\n",
            "| in their Units, according to the President’s Decision No. 12/2021 regarding the  |                                                                                  |                                                                                  |\n",
            "| administrative organisation of the European University Institute.                |                                                                                  |                                                                                  |\n",
            "+----------------------------------------------------------------------------------+----------------------------------------------------------------------------------+----------------------------------------------------------------------------------+\n",
            "| All members of the EUI community and visitors to the campus have a collective    | [{'summary_text': 'All members of the EUI community and visitors to the campus   | Evaluate the effectiveness of the reporting mechanisms according to identifying  |\n",
            "| responsibility for adhering to the security procedures and measures in place and | have a collective responsibility for adhering to the security procedures and     | and addressing security risks, compromises, or breaches. Additionally review if  |\n",
            "| reporting unidentified risks, compromises of accounts and/or mailboxes or        | measures in place. Heads of academic and administrative units are responsible    | the policy includes procedures for reporting incidents and initiating            |\n",
            "| security breaches. Heads of academic and administrative units are responsible    | for overseeing that the IAM Policy and associated procedures are being respected | appropriate responses.                                                           |\n",
            "| for overseeing that the IAM Policy and associated procedures are being respected | in their Units.'}]                                                               |                                                                                  |\n",
            "| in their Units, according to the President’s Decision No. 12/2021 regarding the  |                                                                                  |                                                                                  |\n",
            "| administrative organisation of the European University Institute.                |                                                                                  |                                                                                  |\n",
            "+----------------------------------------------------------------------------------+----------------------------------------------------------------------------------+----------------------------------------------------------------------------------+\n",
            "| Creating a new identity for a person joining the EUI may entitle the assignment  | [{'summary_text': 'Creating a new identity may entitle the assignment of a new   | Assess the process for creating new user according the policy and the controls   |\n",
            "| of a new computing account, a new email address and a new EUI card. The access   | computing account, a new email address and a new EUI card. The access rights     | in place to verify if the company follow the process.                            |\n",
            "| rights assigned depend on the role and type of affiliation within the EUI. After | assigned depend on the role and type of affiliation within the EUI. After        |                                                                                  |\n",
            "| creating a digital identity, a Computing account and\\or an Email address (and an | creating a digital identity, a Computing account and\\\\or an Email address (and   |                                                                                  |\n",
            "| associated mailbox) are issued. The Computing account and\\or an Email address    | an associated mailbox) are issued.'}]                                            |                                                                                  |\n",
            "| is/are delivered directly to Academic users, and they are handed to              |                                                                                  |                                                                                  |\n",
            "| Administrative users and External collaborators.                                 |                                                                                  |                                                                                  |\n",
            "+----------------------------------------------------------------------------------+----------------------------------------------------------------------------------+----------------------------------------------------------------------------------+\n",
            "| Creating a new identity for a person joining the EUI may entitle the assignment  | [{'summary_text': 'Creating a new identity may entitle the assignment of a new   | Review the access rights of the users and their roles and evaluate if the        |\n",
            "| of a new computing account, a new email address and a new EUI card. The access   | computing account, a new email address and a new EUI card. The access rights     | mechanisms uses are determine appropriate access level for different users.      |\n",
            "| rights assigned depend on the role and type of affiliation within the EUI. After | assigned depend on the role and type of affiliation within the EUI. After        |                                                                                  |\n",
            "| creating a digital identity, a Computing account and\\or an Email address (and an | creating a digital identity, a Computing account and\\\\or an Email address (and   |                                                                                  |\n",
            "| associated mailbox) are issued. The Computing account and\\or an Email address    | an associated mailbox) are issued.'}]                                            |                                                                                  |\n",
            "| is/are delivered directly to Academic users, and they are handed to              |                                                                                  |                                                                                  |\n",
            "| Administrative users and External collaborators.                                 |                                                                                  |                                                                                  |\n",
            "+----------------------------------------------------------------------------------+----------------------------------------------------------------------------------+----------------------------------------------------------------------------------+\n",
            "| Creating a new identity for a person joining the EUI may entitle the assignment  | [{'summary_text': 'Creating a new identity for a person joining the EUI may      | Ensure that access is granted accordance with organizational policies and        |\n",
            "| of a new computing account, a new email address and a new EUI card. The access   | entitle the assignment of a new computing account, a new email address and a new | procedures                                                                       |\n",
            "| rights assigned depend on the role and type of affiliation within the EUI. After | EUI card. After creating a digital identity, a Computing account and\\\\or an      |                                                                                  |\n",
            "| creating a digital identity, a Computing account and\\or an Email address (and an | Email address (and an associated mailbox) are issued. The access rights assigned |                                                                                  |\n",
            "| associated mailbox) are issued. The Computing account and\\or an Email address    | depend on the role and type of affiliation.'}]                                   |                                                                                  |\n",
            "| is/are delivered directly to Academic users, and they are handed to              |                                                                                  |                                                                                  |\n",
            "| Administrative users and External collaborators.                                 |                                                                                  |                                                                                  |\n",
            "+----------------------------------------------------------------------------------+----------------------------------------------------------------------------------+----------------------------------------------------------------------------------+\n",
            "| Creating a new identity for a person joining the EUI may entitle the assignment  | [{'summary_text': 'Creating a new identity for a person joining the EUI may      | Verify the accurancy of the information provided, ensuring that appropriate      |\n",
            "| of a new computing account, a new email address and a new EUI card. The access   | entitle the assignment of a new computing account, a new email address and a new | authentication measures are in place and the controls are in place preventing    |\n",
            "| rights assigned depend on the role and type of affiliation within the EUI. After | EUI card. After creating a digital identity, a Computing account and\\\\or an      | unauthorized access by examining the access rights.                              |\n",
            "| creating a digital identity, a Computing account and\\or an Email address (and an | Email address (and an associated mailbox) are issued. The access rights assigned |                                                                                  |\n",
            "| associated mailbox) are issued. The Computing account and\\or an Email address    | depend on the role and type of affiliation.'}]                                   |                                                                                  |\n",
            "| is/are delivered directly to Academic users, and they are handed to              |                                                                                  |                                                                                  |\n",
            "| Administrative users and External collaborators.                                 |                                                                                  |                                                                                  |\n",
            "+----------------------------------------------------------------------------------+----------------------------------------------------------------------------------+----------------------------------------------------------------------------------+\n",
            "| Creating a new identity for a person joining the EUI may entitle the assignment  | [{'summary_text': 'Creating a new identity for a person joining the EUI may      | Evaluate the security measures in place to protect sensitive information during  |\n",
            "| of a new computing account, a new email address and a new EUI card. The access   | entitle the assignment of a new computing account, a new email address and a new | transit and ensure that accounts are created in correct timely manner and        |\n",
            "| rights assigned depend on the role and type of affiliation within the EUI. After | EUI card. After creating a digital identity, a Computing account and\\\\or an      | provided in the right user                                                       |\n",
            "| creating a digital identity, a Computing account and\\or an Email address (and an | Email address (and an associated mailbox) are issued. The access rights assigned |                                                                                  |\n",
            "| associated mailbox) are issued. The Computing account and\\or an Email address    | depend on the role and type of affiliation.'}]                                   |                                                                                  |\n",
            "| is/are delivered directly to Academic users, and they are handed to              |                                                                                  |                                                                                  |\n",
            "| Administrative users and External collaborators.                                 |                                                                                  |                                                                                  |\n",
            "+----------------------------------------------------------------------------------+----------------------------------------------------------------------------------+----------------------------------------------------------------------------------+\n",
            "| Creating a new identity for a person joining the EUI may entitle the assignment  | [{'summary_text': 'Creating a new identity may entitle the assignment of a new   | Ensure that user account use the appropriate authentication and authorization    |\n",
            "| of a new computing account, a new email address and a new EUI card. The access   | computing account, a new email address and a new EUI card. The access rights     | measures are applied.                                                            |\n",
            "| rights assigned depend on the role and type of affiliation within the EUI. After | assigned depend on the role and type of affiliation within the EUI. After        |                                                                                  |\n",
            "| creating a digital identity, a Computing account and\\or an Email address (and an | creating a digital identity, a Computing account and\\\\or an Email address (and   |                                                                                  |\n",
            "| associated mailbox) are issued. The Computing account and\\or an Email address    | an associated mailbox) are issued.'}]                                            |                                                                                  |\n",
            "| is/are delivered directly to Academic users, and they are handed to              |                                                                                  |                                                                                  |\n",
            "| Administrative users and External collaborators.                                 |                                                                                  |                                                                                  |\n",
            "+----------------------------------------------------------------------------------+----------------------------------------------------------------------------------+----------------------------------------------------------------------------------+\n",
            "| Creating a new identity for a person joining the EUI may entitle the assignment  | [{'summary_text': 'Creating a new identity may entitle the assignment of a new   | Examine the documentation and records that company keeps related to the creation |\n",
            "| of a new computing account, a new email address and a new EUI card. The access   | computing account, a new email address and a new EUI card. The access rights     | of the new user accounts. Review the emails, AD logs and HR list for             |\n",
            "| rights assigned depend on the role and type of affiliation within the EUI. After | assigned depend on the role and type of affiliation within the EUI. After        | diffrencies.                                                                     |\n",
            "| creating a digital identity, a Computing account and\\or an Email address (and an | creating a digital identity, a Computing account and\\\\or an Email address (and   |                                                                                  |\n",
            "| associated mailbox) are issued. The Computing account and\\or an Email address    | an associated mailbox) are issued.'}]                                            |                                                                                  |\n",
            "| is/are delivered directly to Academic users, and they are handed to              |                                                                                  |                                                                                  |\n",
            "| Administrative users and External collaborators.                                 |                                                                                  |                                                                                  |\n",
            "+----------------------------------------------------------------------------------+----------------------------------------------------------------------------------+----------------------------------------------------------------------------------+\n",
            "| Risk unit owners in consultation with OIC at a plant/unit will assess the risk   | [{'summary_text': 'Risk unit owners in consultation with OIC at a plant/unit     | Review whether the company has trained its employees to recognize and manage     |\n",
            "| by determining its probability of occurrence and its impact with an objective of | will assess the risk by determining its probability of occurrence and its impact | risks. Also, verify that they provide awareness of the implementation of risk    |\n",
            "| reporting key risks to the Site Level Risk Steering Committee.Key                | with an objective of reporting key risks to the Site Level Risk Steering         | management policies and procedures.                                              |\n",
            "| responsibilities of the Risk unit owners include:Identification of new risks ,   | Committee. Key responsibilities of the Risk unit owners include:Identification   |                                                                                  |\n",
            "| Reviewing and discussing significant risk issues and ensuring horizontal         | of new risks, reviewing and discussing significant risk issues and ensuring      |                                                                                  |\n",
            "| collaboration in the development of mitigation strategies and the establishment  | horizontal collaboration.'}]                                                     |                                                                                  |\n",
            "| of corporate priorities in resource allocation, Reporting new risks or failures  |                                                                                  |                                                                                  |\n",
            "| of existing control measures with remedial action to Site Level Risk Steering    |                                                                                  |                                                                                  |\n",
            "| Committee, Keeping the risk registers and related action plans updated,          |                                                                                  |                                                                                  |\n",
            "| Consolidating the quarterly and annual risk register and database review reports |                                                                                  |                                                                                  |\n",
            "| and timely reporting to the Office of CRO, Submission of the quarterly risk      |                                                                                  |                                                                                  |\n",
            "| register review report by the 10th day following the quarter end to the office   |                                                                                  |                                                                                  |\n",
            "| of CRO, Submission of the annual risk database review report by the 45th day     |                                                                                  |                                                                                  |\n",
            "| after the financial yearend, to the office of CRO, Educating employees dealing   |                                                                                  |                                                                                  |\n",
            "| with key activities in their unit of the risk management process, Facilitating   |                                                                                  |                                                                                  |\n",
            "| segment level and corporate level steering committee meetings, Ensuring          |                                                                                  |                                                                                  |\n",
            "| Management Action Plans developed in response to audit and evaluation            |                                                                                  |                                                                                  |\n",
            "| recommendations adequately address the risks identified, Providing management    |                                                                                  |                                                                                  |\n",
            "| with information about the organization's controls and determining which         |                                                                                  |                                                                                  |\n",
            "| controls should be in place to adequately lower the overall risk profile of      |                                                                                  |                                                                                  |\n",
            "| various critical processes.                                                      |                                                                                  |                                                                                  |\n",
            "+----------------------------------------------------------------------------------+----------------------------------------------------------------------------------+----------------------------------------------------------------------------------+\n",
            "| The Risk Management Committee is chaired by the President’s                      | [{'summary_text': 'Risk Management Committee is chaired by the President’s       | Review whether the company has trained its employees to recognize and manage     |\n",
            "| nominee.Responsibilities of the Risk Management Committee are detailed in its    | nominee. Responsibilities of the Risk Management Committee are detailed in its   | risks. Also, verify that they provide awareness of the implementation of risk    |\n",
            "| Terms of Reference and shall include:Periodic review and recommendation of       | Terms of Reference and shall include:Periodic review and recommendation of       | management policies and procedures.                                              |\n",
            "| updates to the Risk Management Policy and Framework for review by the University | updates to the risk management policy and framework. Reviewing and making        |                                                                                  |\n",
            "| Executive Team (UET), Audit and Risk Committee and approval by Governing Body.   | recommendations in relation to the Risk Appetite Statement and the University    |                                                                                  |\n",
            "| Reviewing and making recommendations in relation to the Risk Appetite Statement  | Risk Register.'}]                                                                |                                                                                  |\n",
            "| and the University Risk Register,and seeking external/expert advice as necessary |                                                                                  |                                                                                  |\n",
            "| to ensure that University Risk Management is in line with best practice and fit  |                                                                                  |                                                                                  |\n",
            "| for purpose. Ensuring that risks, which impact the achievement of the            |                                                                                  |                                                                                  |\n",
            "| University’s strategic objectives, are identified, assessed and included in the  |                                                                                  |                                                                                  |\n",
            "| University Risk Register.Compiling the University Risk Register each semester    |                                                                                  |                                                                                  |\n",
            "| comprising the top 15 University risks which the Risk Management Committee       |                                                                                  |                                                                                  |\n",
            "| decides most impact the achievement of the University’s strategic objectives,    |                                                                                  |                                                                                  |\n",
            "| and recommending this to the UET for review, and following feedback, then        |                                                                                  |                                                                                  |\n",
            "| recommending it to the Audit and Risk Committee for consideration and decision   |                                                                                  |                                                                                  |\n",
            "| by the Governing Body, where appropriate.Receiving and reviewing                 |                                                                                  |                                                                                  |\n",
            "| Functional/Operational Risk Registers to ensure that any risks are escalated as  |                                                                                  |                                                                                  |\n",
            "| required.Receiving and reviewing Functional/Operational Risk Registers to ensure |                                                                                  |                                                                                  |\n",
            "| that any risks are escalated as required.                                        |                                                                                  |                                                                                  |\n",
            "+----------------------------------------------------------------------------------+----------------------------------------------------------------------------------+----------------------------------------------------------------------------------+\n",
            "| Risk is generally understood to be the impact (both positive and negative) of    | [{'summary_text': 'Risk is generally understood to be the impact (both positive  | Review whether the company conducts systematic risk analysis to identify         |\n",
            "| the uncertainty regarding the achievement of the objectives or of reasonable     | and negative) of the uncertainty regarding the achievement of the objectives or  | potential threats and categorizes them by severity levels.                       |\n",
            "| business expectations. For the purposes of this policy, risk factors are         | of reasonable business expectations. For the purposes of this policy, risk       |                                                                                  |\n",
            "| considered to be any risk that a potential event, action or omission will        | factors are considered to be any risk that a potential event, action or omission |                                                                                  |\n",
            "| negatively impact these objectives or expectations of the Indra Group.           | will negatively impact these objectives or expectations.'}]                      |                                                                                  |\n",
            "| Opportunities are considered to be the positive impact of uncertainty regarding  |                                                                                  |                                                                                  |\n",
            "| the objectives. While conducting its business activities, the Indra Group        |                                                                                  |                                                                                  |\n",
            "| identifies various risks inherent to the various regions and businesses in which |                                                                                  |                                                                                  |\n",
            "| it operates, including the following:  Strategic risks arising from the Indra    |                                                                                  |                                                                                  |\n",
            "| Group's strategic position in the environment in which it carries out its        |                                                                                  |                                                                                  |\n",
            "| activities, relations with third parties, the portfolio of products and          |                                                                                  |                                                                                  |\n",
            "| services, as well as planning and organization, which may result in difficulties |                                                                                  |                                                                                  |\n",
            "| in meeting the objectives defined in its Strategic Plan. Operational risks       |                                                                                  |                                                                                  |\n",
            "| relating to direct or indirect economic losses caused by inadequate internal     |                                                                                  |                                                                                  |\n",
            "| processes, technological failures, human errors or as a consequence of certain   |                                                                                  |                                                                                  |\n",
            "| external events, specifically including risks associated with project            |                                                                                  |                                                                                  |\n",
            "| management, human capital and information technology. Among these, special       |                                                                                  |                                                                                  |\n",
            "| mention must be given to risks deriving from possible risks associated with      |                                                                                  |                                                                                  |\n",
            "| projects and services that require proactive actions by project managers to      |                                                                                  |                                                                                  |\n",
            "| mitigate their possible effects, from the point of view of preparing bids and    |                                                                                  |                                                                                  |\n",
            "| negotiating contracts, as well as execution and delivery. Financial risks        |                                                                                  |                                                                                  |\n",
            "| associated with changes in the financial and/or goods and services markets that  |                                                                                  |                                                                                  |\n",
            "| affect the costs and revenues of the activity, including areas related to the    |                                                                                  |                                                                                  |\n",
            "| management of exchange rates, liquidity or interest rate risk, and credit risk   |                                                                                  |                                                                                  |\n",
            "| related to the possibility that a counterparty fails to comply with its          |                                                                                  |                                                                                  |\n",
            "| contractual obligations and produces an economic or financial loss for the Indra |                                                                                  |                                                                                  |\n",
            "| Group. Compliance risks associated with non-compliance with legal provisions,    |                                                                                  |                                                                                  |\n",
            "| regulations in general, standards adopted, and codes of conduct applicable to    |                                                                                  |                                                                                  |\n",
            "| the activity, in all markets in which the Indra Group carries out its            |                                                                                  |                                                                                  |\n",
            "| activities, and which may entail sanctions and/or damage to its reputation,      |                                                                                  |                                                                                  |\n",
            "| consequently causing an adverse impact on its results and/or capital, and/or on  |                                                                                  |                                                                                  |\n",
            "| the expectations as to the growth and performance of the businesses. Compliance  |                                                                                  |                                                                                  |\n",
            "| risks fundamentally include those relating to the areas of crime prevention of   |                                                                                  |                                                                                  |\n",
            "| legal entities, fraud, and legal obligations arising from the activities of the  |                                                                                  |                                                                                  |\n",
            "| Indra Group.  Tax risks associated with decision-making in the tax area, whether |                                                                                  |                                                                                  |\n",
            "| by the Indra Group or by tax or legal authorities, which could have a negative   |                                                                                  |                                                                                  |\n",
            "| impact on the financial statements or reputation of the Indra Group.             |                                                                                  |                                                                                  |\n",
            "+----------------------------------------------------------------------------------+----------------------------------------------------------------------------------+----------------------------------------------------------------------------------+\n",
            "| The purpose of risk identification is to determine a comprehensive list of risks | [{'summary_text': 'The purpose of risk identification is to determine a          | Review whether the company conducts systematic risk analysis to identify         |\n",
            "| which may affect the Departments objectives and priorities. Consideration will   | comprehensive list of risks which may affect the Departments objectives and      | potential threats and categorizes them by severity levels.                       |\n",
            "| be given to the source of the risk, the event that could trigger the risk and    | priorities. The risk management process should establish the context in which    |                                                                                  |\n",
            "| the impact on the Departments objectives. Comprehensive risk identification      | the sources that create risks and opportunities can be understood. At the        |                                                                                  |\n",
            "| should include risks whether or not they are under the control of the            | Department level, the Chief Risk Officer will facilitate the risk identification |                                                                                  |\n",
            "| Departments.The Departments identifies and manages risks at different levels     | and assessment process with the PD and TCO Executive.'}]                         |                                                                                  |\n",
            "| throughout the organisation by Department level, Group level, Branch level,      |                                                                                  |                                                                                  |\n",
            "| Project level.At the Department level, the Chief Risk Officer will facilitate    |                                                                                  |                                                                                  |\n",
            "| the risk identification and assessment process with the PD and TCO Executive to  |                                                                                  |                                                                                  |\n",
            "| identify and assess the key strategic risks. This information will be captured   |                                                                                  |                                                                                  |\n",
            "| in a risk register format. This Enterprise Risk Register will be sent to the     |                                                                                  |                                                                                  |\n",
            "| Audit and Risk Committee for endorsement on a quarterly basis.The risk           |                                                                                  |                                                                                  |\n",
            "| management process should establish the context in which the sources that create |                                                                                  |                                                                                  |\n",
            "| risks and opportunities for the Departments can be understood. This means        |                                                                                  |                                                                                  |\n",
            "| establishing the strategic, organisational and risk management context in which  |                                                                                  |                                                                                  |\n",
            "| the rest of the process will take place. Now that the context of the identified  |                                                                                  |                                                                                  |\n",
            "| risk event has been defined, and the range of potential causes and consequences  |                                                                                  |                                                                                  |\n",
            "| analysed, evaluation of the risk event should be performed and documented.The    |                                                                                  |                                                                                  |\n",
            "| evaluation of the identified risks is performed at the residual risk level i.e., |                                                                                  |                                                                                  |\n",
            "| the risk that remains once all existing controls are taken into                  |                                                                                  |                                                                                  |\n",
            "| account.Evaluation involves combining the overall residual risk likelihood and   |                                                                                  |                                                                                  |\n",
            "| consequence to produce an residual risk rating (i.e., low, moderate, significant |                                                                                  |                                                                                  |\n",
            "| or high) using the Risk Matrix at Appendix One. This Risk Matrix defines the     |                                                                                  |                                                                                  |\n",
            "| likelihood and consequence criteria and overall risk rating used by the          |                                                                                  |                                                                                  |\n",
            "| Departments to evaluate the identified risks, and subsequently monitor and treat |                                                                                  |                                                                                  |\n",
            "| higher rated risks.The residual risk rating is used to assist the Departments in |                                                                                  |                                                                                  |\n",
            "| prioritising the effort, resources, monitoring and reporting of its risks.       |                                                                                  |                                                                                  |\n",
            "+----------------------------------------------------------------------------------+----------------------------------------------------------------------------------+----------------------------------------------------------------------------------+\n",
            "| Within its Risk Control and Management System, the Indra Group has defined the   | [{'summary_text': 'The main bodies and areas involved in risk control and        | Review whether the company has assigned responsible individuals or teams for     |\n",
            "| appropriate organization and responsibilities for achieving its objectives. The  | management and their responsibilities are as follows. Board of Diretors Ensures  | implementing risk management procedures, ensuring that they understand their     |\n",
            "| main bodies and areas involved in risk control and management and their          | the implementation of the Internal Control and Risk Management System and        | roles and responsibilities.                                                      |\n",
            "| responsibilities are as follows, Board of Diretors Ensures the implementation of | monitors the internal reporting and risk control systems. The risk Coordination  |                                                                                  |\n",
            "| the Internal Control and Risk Management System and monitors the internal        | unit, supports the correct functioning of the Risk Control and Management        |                                                                                  |\n",
            "| reporting and risk control systems.Approves the risk control and management      | System, ensuring its identification,assessment, quantification and               |                                                                                  |\n",
            "| policies that define the basic management principles and guidelines for          | monitoring.'}]                                                                   |                                                                                  |\n",
            "| mitigating these risks. Audit and Compliance Unit, Reviews the Internal Control  |                                                                                  |                                                                                  |\n",
            "| and Risk Management System, presenting recommendations and proposals regarding   |                                                                                  |                                                                                  |\n",
            "| these areas to the Board of Directors. The Senior Management and Management      |                                                                                  |                                                                                  |\n",
            "| Team, Provides sufficient resources for developing Risk Management and Control   |                                                                                  |                                                                                  |\n",
            "| activities, in addition to defining the functions and responsibilities of these  |                                                                                  |                                                                                  |\n",
            "| activities.Validates the Risk Control and Management Policies,Validates the risk |                                                                                  |                                                                                  |\n",
            "| appetite recommendations and monitors breaches of established tolerance          |                                                                                  |                                                                                  |\n",
            "| thresholds,Approves the Global Risks Map and the response plans defined for its  |                                                                                  |                                                                                  |\n",
            "| mitigation and approves the specific risk management criteria. The risk          |                                                                                  |                                                                                  |\n",
            "| Coordination unit, supports the correct functioning of the Risk Control and      |                                                                                  |                                                                                  |\n",
            "| Management System, ensuring its identification,assessment, quantification and    |                                                                                  |                                                                                  |\n",
            "| monitoring, the  definition of the risk appetite and monitors risks that exceed  |                                                                                  |                                                                                  |\n",
            "| established tolerance levels, the  definition of risk monitoring criteria and    |                                                                                  |                                                                                  |\n",
            "| validates the Global Risk Map and mitigation measures. The risk owners monitor   |                                                                                  |                                                                                  |\n",
            "| the risks under their responsibility in accordance with the methods and tools    |                                                                                  |                                                                                  |\n",
            "| defined in the Risk Control and Management System. Participate in the deisgn of  |                                                                                  |                                                                                  |\n",
            "| risk controls and management procedures policies. Recommend the risk appetite,   |                                                                                  |                                                                                  |\n",
            "| thresholds and corrective actions for breaches of tolerance and inform Senior    |                                                                                  |                                                                                  |\n",
            "| Management and Management Team.                                                  |                                                                                  |                                                                                  |\n",
            "+----------------------------------------------------------------------------------+----------------------------------------------------------------------------------+----------------------------------------------------------------------------------+\n",
            "| The TCO and PD Secretaries ultimately responsible for ensuring that appropriate  | [{'summary_text': 'The Chief Risk Officer must design, implement and be          | Review whether the company has assigned responsible individuals or teams for     |\n",
            "| risk management responsibilities are delegated and carried out within the        | responsible for the continuous improvement of the risk management Policy. The    | implementing risk management procedures, ensuring that they understand their     |\n",
            "| Departments.All the employees, must Be familiar with the Risk Management Policy, | Deputy Secretaries, Chief Digital and Information Officer, and Chief Financial   | roles and responsibilities.                                                      |\n",
            "| Ensure day to day identification and management of risk in their role, including | and Operations Officer are set and communicate good risk management practices    |                                                                                  |\n",
            "| carrying out their roles and responsibilities in accordance with relevant        | and culture. The risk owners are Responsible for ensuring that risks are         |                                                                                  |\n",
            "| policies an procedures and appropriate, report and escalate risks and concerns   | managed, monitored and reported, without taking away the ultimate responsibility |                                                                                  |\n",
            "| to the appropriate level of management within the remit of their position. The   | of the Secretary.'}]                                                             |                                                                                  |\n",
            "| Chief Risk Officer must design, implement and be responsible for the continuous  |                                                                                  |                                                                                  |\n",
            "| improvement of the risk management Policy so it is dynamic to the internal and   |                                                                                  |                                                                                  |\n",
            "| external environment within which the Departments operate, Manage and coordinate |                                                                                  |                                                                                  |\n",
            "| the Departments risk management reporting process, and reporting on strategic    |                                                                                  |                                                                                  |\n",
            "| and emerging risks, Administer and establish the Risk Management Policy, Support |                                                                                  |                                                                                  |\n",
            "| the Secretary in articulating and embedding the risk appetite statement,         |                                                                                  |                                                                                  |\n",
            "| Challenge the completeness and accuracy of risk information.Ensure that the risk |                                                                                  |                                                                                  |\n",
            "| assessment process is consistently applied across all branches of the            |                                                                                  |                                                                                  |\n",
            "| Departments and build risk management capabilities throughout the Department.    |                                                                                  |                                                                                  |\n",
            "| The risk owners are Responsible for ensuring that risks are managed, monitored   |                                                                                  |                                                                                  |\n",
            "| and reported, without taking away the ultimate responsibility of the Secretary.  |                                                                                  |                                                                                  |\n",
            "| Consider the risks assigned to them,Identify, assess and manage risks relating   |                                                                                  |                                                                                  |\n",
            "| to their respective area or project and communicate these to the relevant        |                                                                                  |                                                                                  |\n",
            "| Director, Executive Director and/or Executive member, Devise and implement       |                                                                                  |                                                                                  |\n",
            "| appropriate risk management plans, Review progress of implementing management    |                                                                                  |                                                                                  |\n",
            "| strategies and updating the Enterprise Risk Register for significant and high    |                                                                                  |                                                                                  |\n",
            "| risks, and maintaining a Local Risk Register for other operational and project   |                                                                                  |                                                                                  |\n",
            "| risks, Design and implement appropriate risk treatments (risk mitigation plans)  |                                                                                  |                                                                                  |\n",
            "| to manage the risk within the boundaries of the Departments Risk Appetite and    |                                                                                  |                                                                                  |\n",
            "| have a designated responsibility for monitoring the risk(s) on an ongoing basis. |                                                                                  |                                                                                  |\n",
            "| Report and escalate as appropriate any identified risks that cannot be properly  |                                                                                  |                                                                                  |\n",
            "| managed consistently within the Risk Management Policy. The Deputy Secretaries,  |                                                                                  |                                                                                  |\n",
            "| Chief Digital and Information Officer, and Chief Financial and Operations        |                                                                                  |                                                                                  |\n",
            "| Officer are set and communicate good risk management practices and               |                                                                                  |                                                                                  |\n",
            "| culture,Ensure risk capability is developed and maintained within their          |                                                                                  |                                                                                  |\n",
            "| respective areas to enable effective risk management, Ensure their respective    |                                                                                  |                                                                                  |\n",
            "| areas manage risk in line with the Risk Management Policy,Oversee the allocation |                                                                                  |                                                                                  |\n",
            "| of resources to enable effective risk management and reportt on key risks and    |                                                                                  |                                                                                  |\n",
            "| their managemenent to the Risk and Goverance Committee, Audit and Risk Commitee  |                                                                                  |                                                                                  |\n",
            "| and PD and TCO Executive.                                                        |                                                                                  |                                                                                  |\n",
            "+----------------------------------------------------------------------------------+----------------------------------------------------------------------------------+----------------------------------------------------------------------------------+\n",
            "| Change is identified and entered into the tracking system. Change form should be | [{'summary_text': 'CAB reviews and confirms critical elements to include proper  | Review the implementation of a formal process and verify that it includes the    |\n",
            "| used or elements necessary to fill out change form should be included in the     | Description, Impact Analysis,Testing Plan, Roll-Back procedures and any required | submission of change requests, approval of changes, and testing before           |\n",
            "| tracking system. Change management form is completed (Sample Form Below).Change  | Technical review by system owners. An intentional approach should be taken       | implementation in the production environment.                                    |\n",
            "| Owner presents change to CAB.CAB reviews and confirms critical elements to       | whenscheduling the change. Efforts should be made to schedule high risk/impact   |                                                                                  |\n",
            "| include proper Description, Impact Analysis,Testing Plan, Roll-Back procedures   | changes outsideof normal organization hours or in test environments if           |                                                                                  |\n",
            "| and any required Technical review by system owners.CAB Approves, Denies, Places  | available.'}]                                                                    |                                                                                  |\n",
            "| on Hold or asks for additional information. Approvals must be documented. Once   |                                                                                  |                                                                                  |\n",
            "| approved, the change is scheduled. An intentional approach should be taken       |                                                                                  |                                                                                  |\n",
            "| whenscheduling the change. All impact to production systems and organization     |                                                                                  |                                                                                  |\n",
            "| productivity should be considered. Efforts should be made to schedule high       |                                                                                  |                                                                                  |\n",
            "| risk/impact changes outsideof normal organization hours or in test environments  |                                                                                  |                                                                                  |\n",
            "| if available.The Change is performed or rolled back. If a roll back occurs, the  |                                                                                  |                                                                                  |\n",
            "| details should be presented to the CAB. Any post Change notes should be          |                                                                                  |                                                                                  |\n",
            "| documented in the Change form, Existing processes, and baselines should be       |                                                                                  |                                                                                  |\n",
            "| updated post change if necessary. Change is closed and Change records retained   |                                                                                  |                                                                                  |\n",
            "| for audit and follow-up per records management retention schedules.              |                                                                                  |                                                                                  |\n",
            "+----------------------------------------------------------------------------------+----------------------------------------------------------------------------------+----------------------------------------------------------------------------------+\n",
            "| A Standard Change is created from preapproved Standard change templates that     | [{'summary_text': 'A Normal Change is one that meets the defined lead time for   | Review the implementation of a formal process and verify that it includes the    |\n",
            "| have satisfied specific criteria (see Appendix A) and been added to the Standard | testing and validation and is assigned a SIA level of no, low, medium, or high.  | submission of change requests, approval of changes, and testing before           |\n",
            "| Change Template Catalog in the Enterprise Ticketing System: the change is        | An Expedited Change does not meet the lead time requirement for a Normal change, | implementation in the production environment.                                    |\n",
            "| repeatable, frequently implemented, is considered low risk and low impact        | but is not an Emergency Change. Emergency changes are authorized by E-CAB and    |                                                                                  |\n",
            "| according to the SIA, and has a proven history of success (completed the Normal  | documented and entered into the Enterprise Ticketing System prior to             |                                                                                  |\n",
            "| change lifecycle process at least 3-5 times with no issues). Standard changes    | implementation.'}]                                                               |                                                                                  |\n",
            "| that are approved by Division Directors and CAB Co-Chairs are added to the       |                                                                                  |                                                                                  |\n",
            "| catalog and considered pre-authorized, following a shorter ChM lifecycle outside |                                                                                  |                                                                                  |\n",
            "| of the CAB approval process (subject to dual authorization). CRs can request new |                                                                                  |                                                                                  |\n",
            "| Standard change templates or use an existing template from the catalog to create |                                                                                  |                                                                                  |\n",
            "| a new Standard change request.A Normal Change is one that meets the defined lead |                                                                                  |                                                                                  |\n",
            "| time for testing and validation and is assigned a SIA level of no, low, medium,  |                                                                                  |                                                                                  |\n",
            "| or high. A Normal change is an RFC that is not a Standard, Expedited or          |                                                                                  |                                                                                  |\n",
            "| Emergency change, and is subject to the full ChM review process, including       |                                                                                  |                                                                                  |\n",
            "| review and authorization by the CAB.An Expedited Change does not meet the lead   |                                                                                  |                                                                                  |\n",
            "| time requirement for a Normal change, but is not an Emergency Change. Service is |                                                                                  |                                                                                  |\n",
            "| at risk, although service might not be down, and the RFC needs to be authorized  |                                                                                  |                                                                                  |\n",
            "| because of a client request that has been validated by SME/ technical expert or  |                                                                                  |                                                                                  |\n",
            "| a Director, who has determined that that the change needs to go in without       |                                                                                  |                                                                                  |\n",
            "| waiting for the recommended lead-time. The same ‘Normal’ Change request          |                                                                                  |                                                                                  |\n",
            "| information is provided in the Enterprise Ticketing System to implement the      |                                                                                  |                                                                                  |\n",
            "| change, including the reason for expediting the RFC (SIA, back-out plans,        |                                                                                  |                                                                                  |\n",
            "| scheduled time and downtime required), but lead times are much shorter.          |                                                                                  |                                                                                  |\n",
            "| Authorization by a CAB Co-Chair is required and Expedited Changes are subject to |                                                                                  |                                                                                  |\n",
            "| retroactive review by CAB. Emergency Change is one that must be implemented as   |                                                                                  |                                                                                  |\n",
            "| soon as possible to correct, or prevent, a high priority incident, or that must  |                                                                                  |                                                                                  |\n",
            "| be introduced as soon as possible due to likely negative service impacts or      |                                                                                  |                                                                                  |\n",
            "| situations where the impact to a service is imminent if action is not taken.     |                                                                                  |                                                                                  |\n",
            "| These changes do not follow the complete lifecycle of a Normal change due to the |                                                                                  |                                                                                  |\n",
            "| speed with which they must be implemented and authorized. All emergency changes  |                                                                                  |                                                                                  |\n",
            "| are authorized by E-CAB and documented and entered into the Enterprise Ticketing |                                                                                  |                                                                                  |\n",
            "| System prior to implementation, or as soon as possible after the change has been |                                                                                  |                                                                                  |\n",
            "| implemented depending on the nature of the emergency.Emergency changes are       |                                                                                  |                                                                                  |\n",
            "| subject to a Post Implementation Review (PIR) process by CAB.                    |                                                                                  |                                                                                  |\n",
            "+----------------------------------------------------------------------------------+----------------------------------------------------------------------------------+----------------------------------------------------------------------------------+\n",
            "| Ongoing Minor Change,It is recognised that in order to meet changing needs more  | [{'summary_text': 'Minor changes may be implemented without recourse to formal   | Review whether the company prioritizes and categorizes changes.                  |\n",
            "| effectively, there  may be occasions where managers need to implement relatively | procedures. While formal consultation is not required for minor change, staff    |                                                                                  |\n",
            "| minor changes. These may be implemented without recourse to formal procedures    | will still be consulted about changes that have an impact on them. In major      |                                                                                  |\n",
            "| outlined in this document and associated policies/procedures. While formal       | exercises that represent a potential change to staff terms and conditions, there |                                                                                  |\n",
            "| consultation is not required for minor change, staff will still be consulted     | is a requirement to formally consult. It is good practice to inform the relevant |                                                                                  |\n",
            "| about changes that have an impact on them. Managers will meet with staff either  | trades unions of even minor changes.'}]                                          |                                                                                  |\n",
            "| individually or collectively to explain the reasons for the need to implement    |                                                                                  |                                                                                  |\n",
            "| any minor changes and ask for their views before implementation. Should there be |                                                                                  |                                                                                  |\n",
            "| any concerns about proposed changes staff may wish to request that they be       |                                                                                  |                                                                                  |\n",
            "| accompanied by a trade union representative or colleague and this will be        |                                                                                  |                                                                                  |\n",
            "| accommodated. It is good practice to inform the relevant trades unions of even   |                                                                                  |                                                                                  |\n",
            "| minor changes.In exercises involving minor change, managers should still adopt   |                                                                                  |                                                                                  |\n",
            "| theguidelines outlined in the steps below  to ensureappropriate planning,        |                                                                                  |                                                                                  |\n",
            "| consultation, decision making and implementation albeit at a lower level.Major   |                                                                                  |                                                                                  |\n",
            "| Change,  In major exercises that represent a potential change to staff terms and |                                                                                  |                                                                                  |\n",
            "| conditions, there is a requirement to formally consult.                          |                                                                                  |                                                                                  |\n",
            "+----------------------------------------------------------------------------------+----------------------------------------------------------------------------------+----------------------------------------------------------------------------------+\n",
            "| The Emergency Change can be executed once a minimum of one (1) Service Owner has | [{'summary_text': 'The Emergency Change can be executed once a minimum of one    | Ensure that only authorized employees have the authority to approve and          |\n",
            "| approved, or CIO/Deputy CIO have approved, verbally or via email. 1.4. If no     | (1) Service Owner has approved, or CIO/Deputy CIO have approved. If no verbal or | implement changes.                                                               |\n",
            "| verbal or written approval is received within 30 minutes, the Service Owner will | written approval is received within 30 minutes, the Service Owner will provide   |                                                                                  |\n",
            "| provide approval to proceed. 1.5. An email to the entire organization will be    | approval to proceed. An email to the entire organization will be sent notifying  |                                                                                  |\n",
            "| sent notifying them of any outage or service disruption that will occur as a     | them of any outage or service disruption.'}]                                     |                                                                                  |\n",
            "| result of the Emergency Change window. This will include the service(s) affected |                                                                                  |                                                                                  |\n",
            "| and the potential duration of the interruption. 1.6. The assigned technical SME  |                                                                                  |                                                                                  |\n",
            "| will execute the change as outlined in the emergency change documentation.       |                                                                                  |                                                                                  |\n",
            "+----------------------------------------------------------------------------------+----------------------------------------------------------------------------------+----------------------------------------------------------------------------------+\n",
            "| All employee account creation requests are to be submitted via a Help Desk       | [{'summary_text': 'All employee account creation requests are to be submitted    | Review the access to the systems in accordance with individual roles and data    |\n",
            "| ticket. The request must contain the employee’s full name, company/division,     | via a Help Desk ticket. The request must contain the employee’s full name,       | classification.                                                                  |\n",
            "| department, job title, manager, and any special authorizations, such as access   | company/division, department, job title, manager, and any special                |                                                                                  |\n",
            "| to certain applications. If the request requires any application or special      | authorizations. If the request requires any application or special group access, |                                                                                  |\n",
            "| group access, the Help Desk will forward the ticket to the appropriate Business  | the Help Desk will forward the ticket to the appropriate Business                |                                                                                  |\n",
            "| Administrator. The Business Administrator will approve the request.All vendor’s  | Administrator.'}]                                                                |                                                                                  |\n",
            "| account creation requests are to be submitted via a Help Desk ticket from the    |                                                                                  |                                                                                  |\n",
            "| manager of the department that has the vendor relationship. If the new account   |                                                                                  |                                                                                  |\n",
            "| is related to a new GlobeNet’s employee, the IT department will designate a      |                                                                                  |                                                                                  |\n",
            "| computer system that must fit the work-related processes.A member of the Help    |                                                                                  |                                                                                  |\n",
            "| Desk department will modify, remove or disable access as appropriate.All         |                                                                                  |                                                                                  |\n",
            "| accounts must have an individual employee or group assigned to be responsible    |                                                                                  |                                                                                  |\n",
            "| for account management. This may be a combination of the business unit and       |                                                                                  |                                                                                  |\n",
            "| information technology (IT).An authentication token (e.g., password, key fob,    |                                                                                  |                                                                                  |\n",
            "| biometric) is associated with each user ID, which must be used to authenticate   |                                                                                  |                                                                                  |\n",
            "| the identity of the person or system requesting access.. Access privileges will  |                                                                                  |                                                                                  |\n",
            "| be granted in accordance with the user’s job responsibilities and will be        |                                                                                  |                                                                                  |\n",
            "| limited only to those necessary to accomplish assigned tasks in accordance with  |                                                                                  |                                                                                  |\n",
            "| GlobeNet missions and business functions (least privilege).Users of privileged   |                                                                                  |                                                                                  |\n",
            "| accounts must use a separate, non-privileged account when performing normal      |                                                                                  |                                                                                  |\n",
            "| business transactions.                                                           |                                                                                  |                                                                                  |\n",
            "+----------------------------------------------------------------------------------+----------------------------------------------------------------------------------+----------------------------------------------------------------------------------+\n",
            "| In order to reduce the potential for corruption of computer programs, strict     | [{'summary_text': 'Programs under development or maintenance should not be held  | Review the access to the systems in accordance with individual roles and data    |\n",
            "| control must be maintained over access to program source libraries.Program       | in operational program source libraries. A program librarian should be nominated | classification.                                                                  |\n",
            "| source libraries should not be held in operational systems. A program librarian  | for each application. Maintenance and copying of programs should be subject to   |                                                                                  |\n",
            "| should be nominated for each application.IT support staff should not have        | strict change control procedures. An audit log should be maintained of all       |                                                                                  |\n",
            "| unrestricted access to program source libraries. Programs under development or   | accesses to program sources.'}]                                                  |                                                                                  |\n",
            "| maintenance should not be held in operational program source libraries.The       |                                                                                  |                                                                                  |\n",
            "| updating of program source libraries and the issuing of program sources to       |                                                                                  |                                                                                  |\n",
            "| programmers should only be performed by the nominated librarian upon             |                                                                                  |                                                                                  |\n",
            "| authorization from the IT support manager for theapplication. Program listings   |                                                                                  |                                                                                  |\n",
            "| should be held in a secure environment.  An audit log should be maintained of    |                                                                                  |                                                                                  |\n",
            "| all accesses to program source libraries.Old versions of source programs should  |                                                                                  |                                                                                  |\n",
            "| be archived, with a clear indication of the precise dates and times when they    |                                                                                  |                                                                                  |\n",
            "| were operational,together with all supporting software, job control, data        |                                                                                  |                                                                                  |\n",
            "| definitions and procedures. Maintenance and copying of program source libraries  |                                                                                  |                                                                                  |\n",
            "| should be subject to strict change control procedures.                           |                                                                                  |                                                                                  |\n",
            "+----------------------------------------------------------------------------------+----------------------------------------------------------------------------------+----------------------------------------------------------------------------------+\n",
            "| Unless otherwise specified within this IT Security Policy, NIST 800-63b          | [{'summary_text': 'NIST 800-63b standards will be followed when managing         | Review if the password policy mandates complexity requirements such as minimum   |\n",
            "| standards will be followed when managing passwords. As such, the following       | passwords. Minimum of eight (8) characters in length. English uppercase          | length, inclusion of uppercase and lowercase letters, numbers, and special       |\n",
            "| security requirements shall be adhered to when creating passwords:  Minimum of   | characters (A through Z) English lowercase characters (a through z) Base 10      | characters.                                                                      |\n",
            "| eight (8) characters in length. If unable to follow NIST 800-63b standards,      | digits (0 through 9) 2.2. Non-alphabetic characters (e.g., !, $, #, %) is        |                                                                                  |\n",
            "| which do not require complexity standards, passwords should include the          | recommended.'}]                                                                  |                                                                                  |\n",
            "| following three categories:  English uppercase characters (A through Z). English |                                                                                  |                                                                                  |\n",
            "| lowercase characters (a through z) , Base 10 digits (0 through 9) 2.1.2. NIST    |                                                                                  |                                                                                  |\n",
            "| 800-63b does not required complexity standards, but where possible the use of    |                                                                                  |                                                                                  |\n",
            "| non-alphabetic characters (e.g., !, $, #, %) is recommended.                     |                                                                                  |                                                                                  |\n",
            "+----------------------------------------------------------------------------------+----------------------------------------------------------------------------------+----------------------------------------------------------------------------------+\n",
            "| Passwords history shall be kept for the previous six (6) passwords and passwords | [{'summary_text': 'Passwords history shall be kept for the previous six (6)      | Evaluate the password requirements for password aging, regular password changes, |\n",
            "| shall be unique across the password history.  NIST 800-63b does not required     | passwords and passwords shall be unique across the password history. NIST        | and restrictions on reusing old passwords.                                       |\n",
            "| periodic password resets. However, where NIST 800-63b cannot be applied maximum  | 800-63b does not required periodic password resets. Maximum password age should  |                                                                                  |\n",
            "| password age should be ninety (90) days.  Shall not be the same as or include    | be ninety (90) days. Set first-time passwords to a unique value for each user    |                                                                                  |\n",
            "| the user id. Passwords shall not be visible by default when entered, but in      | and change immediately after the first use.'}]                                   |                                                                                  |\n",
            "| alignment with NIST 800-63b can be visible when typing where possible and        |                                                                                  |                                                                                  |\n",
            "| password “Paste-In” should be allowed. Passwords shall not be easily guessable.  |                                                                                  |                                                                                  |\n",
            "| Set first-time passwords to a unique value for each user and change immediately  |                                                                                  |                                                                                  |\n",
            "| after the first use.                                                             |                                                                                  |                                                                                  |\n",
            "+----------------------------------------------------------------------------------+----------------------------------------------------------------------------------+----------------------------------------------------------------------------------+\n"
          ]
        }
      ],
      "source": [
        "!wget https://raw.githubusercontent.com/MarCaramani/MK_Thesis/master/THESIS/Dataset.json\n",
        "my_dataset_test = load_dataset(\"json\", data_files=\"Dataset.json\", field=\"documents\")\n",
        "column1 = results_dict\n",
        "column2 = my_dataset_test['train']['SUMMARIZATION']\n",
        "\n",
        "import pandas as pd\n",
        "from tabulate import tabulate\n",
        "import textwrap\n",
        "\n",
        "column1 = my_dataset_test['train']['TEXT']\n",
        "column2 = list(results_dict.values())\n",
        "column3 = my_dataset_test['train']['SUMMARIZATION']\n",
        "\n",
        "if len(column1) != len(column2):\n",
        "    raise ValueError(\"Οι στήλες δεν έχουν το ίδιο μήκος!\")\n",
        "\n",
        "max_text_width = 80\n",
        "column1_wrapped = [textwrap.fill(text, width=max_text_width) for text in column1]\n",
        "column2_wrapped = [textwrap.fill(str(text), width=max_text_width) for text in column2]\n",
        "column3_wrapped = [textwrap.fill(text, width=max_text_width) for text in column3]\n",
        "\n",
        "result_df = pd.DataFrame({\n",
        "    'Column1': column1_wrapped,\n",
        "    'Column2': column2_wrapped,\n",
        "    'Column3': column3_wrapped\n",
        "})\n",
        "print(tabulate(result_df, headers='keys', tablefmt='grid', showindex=False))"
      ]
    },
    {
      "cell_type": "code",
      "execution_count": null,
      "metadata": {
        "id": "-ORBTyqODxWR"
      },
      "outputs": [],
      "source": []
    },
    {
      "cell_type": "code",
      "execution_count": null,
      "metadata": {
        "id": "kqXCfIHWDxY6"
      },
      "outputs": [],
      "source": []
    },
    {
      "cell_type": "code",
      "execution_count": null,
      "metadata": {
        "id": "W0DYRohPDxcZ"
      },
      "outputs": [],
      "source": []
    }
  ],
  "metadata": {
    "accelerator": "GPU",
    "colab": {
      "gpuType": "L4",
      "machine_shape": "hm",
      "provenance": [],
      "toc_visible": true
    },
    "kernelspec": {
      "display_name": "Python 3",
      "name": "python3"
    },
    "language_info": {
      "name": "python"
    },
    "widgets": {
      "application/vnd.jupyter.widget-state+json": {
        "a9bc91ea60fe4f15a7c1bd6a0e6c30e9": {
          "model_module": "@jupyter-widgets/controls",
          "model_name": "HBoxModel",
          "model_module_version": "1.5.0",
          "state": {
            "_dom_classes": [],
            "_model_module": "@jupyter-widgets/controls",
            "_model_module_version": "1.5.0",
            "_model_name": "HBoxModel",
            "_view_count": null,
            "_view_module": "@jupyter-widgets/controls",
            "_view_module_version": "1.5.0",
            "_view_name": "HBoxView",
            "box_style": "",
            "children": [
              "IPY_MODEL_a500c045bd314cd4b1df820f0649d8af",
              "IPY_MODEL_1c5a62f544e24be7b10c0d99b2fa4f1a",
              "IPY_MODEL_1983849d96ab4472a8771d35f16d7de5"
            ],
            "layout": "IPY_MODEL_adf2eb02fed142368e87adb1596536a4"
          }
        },
        "a500c045bd314cd4b1df820f0649d8af": {
          "model_module": "@jupyter-widgets/controls",
          "model_name": "HTMLModel",
          "model_module_version": "1.5.0",
          "state": {
            "_dom_classes": [],
            "_model_module": "@jupyter-widgets/controls",
            "_model_module_version": "1.5.0",
            "_model_name": "HTMLModel",
            "_view_count": null,
            "_view_module": "@jupyter-widgets/controls",
            "_view_module_version": "1.5.0",
            "_view_name": "HTMLView",
            "description": "",
            "description_tooltip": null,
            "layout": "IPY_MODEL_3156b3abb57e4bb1baeaf6653d207c1e",
            "placeholder": "​",
            "style": "IPY_MODEL_da7e49f1895540328ff835e9b2a7fcf3",
            "value": "Generating train split: "
          }
        },
        "1c5a62f544e24be7b10c0d99b2fa4f1a": {
          "model_module": "@jupyter-widgets/controls",
          "model_name": "FloatProgressModel",
          "model_module_version": "1.5.0",
          "state": {
            "_dom_classes": [],
            "_model_module": "@jupyter-widgets/controls",
            "_model_module_version": "1.5.0",
            "_model_name": "FloatProgressModel",
            "_view_count": null,
            "_view_module": "@jupyter-widgets/controls",
            "_view_module_version": "1.5.0",
            "_view_name": "ProgressView",
            "bar_style": "success",
            "description": "",
            "description_tooltip": null,
            "layout": "IPY_MODEL_51bbb2ab02784e39a090ceb59cb9f9e1",
            "max": 1,
            "min": 0,
            "orientation": "horizontal",
            "style": "IPY_MODEL_8231d62e44d4423f9d67fedc725bc763",
            "value": 1
          }
        },
        "1983849d96ab4472a8771d35f16d7de5": {
          "model_module": "@jupyter-widgets/controls",
          "model_name": "HTMLModel",
          "model_module_version": "1.5.0",
          "state": {
            "_dom_classes": [],
            "_model_module": "@jupyter-widgets/controls",
            "_model_module_version": "1.5.0",
            "_model_name": "HTMLModel",
            "_view_count": null,
            "_view_module": "@jupyter-widgets/controls",
            "_view_module_version": "1.5.0",
            "_view_name": "HTMLView",
            "description": "",
            "description_tooltip": null,
            "layout": "IPY_MODEL_951329d381b549f7b67e8fe70cb01d32",
            "placeholder": "​",
            "style": "IPY_MODEL_5f87564250f94beab28370c781251728",
            "value": " 25/0 [00:00&lt;00:00, 788.41 examples/s]"
          }
        },
        "adf2eb02fed142368e87adb1596536a4": {
          "model_module": "@jupyter-widgets/base",
          "model_name": "LayoutModel",
          "model_module_version": "1.2.0",
          "state": {
            "_model_module": "@jupyter-widgets/base",
            "_model_module_version": "1.2.0",
            "_model_name": "LayoutModel",
            "_view_count": null,
            "_view_module": "@jupyter-widgets/base",
            "_view_module_version": "1.2.0",
            "_view_name": "LayoutView",
            "align_content": null,
            "align_items": null,
            "align_self": null,
            "border": null,
            "bottom": null,
            "display": null,
            "flex": null,
            "flex_flow": null,
            "grid_area": null,
            "grid_auto_columns": null,
            "grid_auto_flow": null,
            "grid_auto_rows": null,
            "grid_column": null,
            "grid_gap": null,
            "grid_row": null,
            "grid_template_areas": null,
            "grid_template_columns": null,
            "grid_template_rows": null,
            "height": null,
            "justify_content": null,
            "justify_items": null,
            "left": null,
            "margin": null,
            "max_height": null,
            "max_width": null,
            "min_height": null,
            "min_width": null,
            "object_fit": null,
            "object_position": null,
            "order": null,
            "overflow": null,
            "overflow_x": null,
            "overflow_y": null,
            "padding": null,
            "right": null,
            "top": null,
            "visibility": null,
            "width": null
          }
        },
        "3156b3abb57e4bb1baeaf6653d207c1e": {
          "model_module": "@jupyter-widgets/base",
          "model_name": "LayoutModel",
          "model_module_version": "1.2.0",
          "state": {
            "_model_module": "@jupyter-widgets/base",
            "_model_module_version": "1.2.0",
            "_model_name": "LayoutModel",
            "_view_count": null,
            "_view_module": "@jupyter-widgets/base",
            "_view_module_version": "1.2.0",
            "_view_name": "LayoutView",
            "align_content": null,
            "align_items": null,
            "align_self": null,
            "border": null,
            "bottom": null,
            "display": null,
            "flex": null,
            "flex_flow": null,
            "grid_area": null,
            "grid_auto_columns": null,
            "grid_auto_flow": null,
            "grid_auto_rows": null,
            "grid_column": null,
            "grid_gap": null,
            "grid_row": null,
            "grid_template_areas": null,
            "grid_template_columns": null,
            "grid_template_rows": null,
            "height": null,
            "justify_content": null,
            "justify_items": null,
            "left": null,
            "margin": null,
            "max_height": null,
            "max_width": null,
            "min_height": null,
            "min_width": null,
            "object_fit": null,
            "object_position": null,
            "order": null,
            "overflow": null,
            "overflow_x": null,
            "overflow_y": null,
            "padding": null,
            "right": null,
            "top": null,
            "visibility": null,
            "width": null
          }
        },
        "da7e49f1895540328ff835e9b2a7fcf3": {
          "model_module": "@jupyter-widgets/controls",
          "model_name": "DescriptionStyleModel",
          "model_module_version": "1.5.0",
          "state": {
            "_model_module": "@jupyter-widgets/controls",
            "_model_module_version": "1.5.0",
            "_model_name": "DescriptionStyleModel",
            "_view_count": null,
            "_view_module": "@jupyter-widgets/base",
            "_view_module_version": "1.2.0",
            "_view_name": "StyleView",
            "description_width": ""
          }
        },
        "51bbb2ab02784e39a090ceb59cb9f9e1": {
          "model_module": "@jupyter-widgets/base",
          "model_name": "LayoutModel",
          "model_module_version": "1.2.0",
          "state": {
            "_model_module": "@jupyter-widgets/base",
            "_model_module_version": "1.2.0",
            "_model_name": "LayoutModel",
            "_view_count": null,
            "_view_module": "@jupyter-widgets/base",
            "_view_module_version": "1.2.0",
            "_view_name": "LayoutView",
            "align_content": null,
            "align_items": null,
            "align_self": null,
            "border": null,
            "bottom": null,
            "display": null,
            "flex": null,
            "flex_flow": null,
            "grid_area": null,
            "grid_auto_columns": null,
            "grid_auto_flow": null,
            "grid_auto_rows": null,
            "grid_column": null,
            "grid_gap": null,
            "grid_row": null,
            "grid_template_areas": null,
            "grid_template_columns": null,
            "grid_template_rows": null,
            "height": null,
            "justify_content": null,
            "justify_items": null,
            "left": null,
            "margin": null,
            "max_height": null,
            "max_width": null,
            "min_height": null,
            "min_width": null,
            "object_fit": null,
            "object_position": null,
            "order": null,
            "overflow": null,
            "overflow_x": null,
            "overflow_y": null,
            "padding": null,
            "right": null,
            "top": null,
            "visibility": null,
            "width": "20px"
          }
        },
        "8231d62e44d4423f9d67fedc725bc763": {
          "model_module": "@jupyter-widgets/controls",
          "model_name": "ProgressStyleModel",
          "model_module_version": "1.5.0",
          "state": {
            "_model_module": "@jupyter-widgets/controls",
            "_model_module_version": "1.5.0",
            "_model_name": "ProgressStyleModel",
            "_view_count": null,
            "_view_module": "@jupyter-widgets/base",
            "_view_module_version": "1.2.0",
            "_view_name": "StyleView",
            "bar_color": null,
            "description_width": ""
          }
        },
        "951329d381b549f7b67e8fe70cb01d32": {
          "model_module": "@jupyter-widgets/base",
          "model_name": "LayoutModel",
          "model_module_version": "1.2.0",
          "state": {
            "_model_module": "@jupyter-widgets/base",
            "_model_module_version": "1.2.0",
            "_model_name": "LayoutModel",
            "_view_count": null,
            "_view_module": "@jupyter-widgets/base",
            "_view_module_version": "1.2.0",
            "_view_name": "LayoutView",
            "align_content": null,
            "align_items": null,
            "align_self": null,
            "border": null,
            "bottom": null,
            "display": null,
            "flex": null,
            "flex_flow": null,
            "grid_area": null,
            "grid_auto_columns": null,
            "grid_auto_flow": null,
            "grid_auto_rows": null,
            "grid_column": null,
            "grid_gap": null,
            "grid_row": null,
            "grid_template_areas": null,
            "grid_template_columns": null,
            "grid_template_rows": null,
            "height": null,
            "justify_content": null,
            "justify_items": null,
            "left": null,
            "margin": null,
            "max_height": null,
            "max_width": null,
            "min_height": null,
            "min_width": null,
            "object_fit": null,
            "object_position": null,
            "order": null,
            "overflow": null,
            "overflow_x": null,
            "overflow_y": null,
            "padding": null,
            "right": null,
            "top": null,
            "visibility": null,
            "width": null
          }
        },
        "5f87564250f94beab28370c781251728": {
          "model_module": "@jupyter-widgets/controls",
          "model_name": "DescriptionStyleModel",
          "model_module_version": "1.5.0",
          "state": {
            "_model_module": "@jupyter-widgets/controls",
            "_model_module_version": "1.5.0",
            "_model_name": "DescriptionStyleModel",
            "_view_count": null,
            "_view_module": "@jupyter-widgets/base",
            "_view_module_version": "1.2.0",
            "_view_name": "StyleView",
            "description_width": ""
          }
        },
        "3233be315e22491f9b767b4df85a857d": {
          "model_module": "@jupyter-widgets/controls",
          "model_name": "HBoxModel",
          "model_module_version": "1.5.0",
          "state": {
            "_dom_classes": [],
            "_model_module": "@jupyter-widgets/controls",
            "_model_module_version": "1.5.0",
            "_model_name": "HBoxModel",
            "_view_count": null,
            "_view_module": "@jupyter-widgets/controls",
            "_view_module_version": "1.5.0",
            "_view_name": "HBoxView",
            "box_style": "",
            "children": [
              "IPY_MODEL_d7d43929aa55487192b97c3a6ed74422",
              "IPY_MODEL_c858d4ed2dc94b889981af21670cd723",
              "IPY_MODEL_deeed83c54fd4a479f4ff76c3441422f"
            ],
            "layout": "IPY_MODEL_c3d96b31e3a64d899ce0f276684775ef"
          }
        },
        "d7d43929aa55487192b97c3a6ed74422": {
          "model_module": "@jupyter-widgets/controls",
          "model_name": "HTMLModel",
          "model_module_version": "1.5.0",
          "state": {
            "_dom_classes": [],
            "_model_module": "@jupyter-widgets/controls",
            "_model_module_version": "1.5.0",
            "_model_name": "HTMLModel",
            "_view_count": null,
            "_view_module": "@jupyter-widgets/controls",
            "_view_module_version": "1.5.0",
            "_view_name": "HTMLView",
            "description": "",
            "description_tooltip": null,
            "layout": "IPY_MODEL_91f4de1725b843bcbfd34521eba326e3",
            "placeholder": "​",
            "style": "IPY_MODEL_ebe23f1af3fc45c18316058b8d328e9f",
            "value": "Generating train split: "
          }
        },
        "c858d4ed2dc94b889981af21670cd723": {
          "model_module": "@jupyter-widgets/controls",
          "model_name": "FloatProgressModel",
          "model_module_version": "1.5.0",
          "state": {
            "_dom_classes": [],
            "_model_module": "@jupyter-widgets/controls",
            "_model_module_version": "1.5.0",
            "_model_name": "FloatProgressModel",
            "_view_count": null,
            "_view_module": "@jupyter-widgets/controls",
            "_view_module_version": "1.5.0",
            "_view_name": "ProgressView",
            "bar_style": "success",
            "description": "",
            "description_tooltip": null,
            "layout": "IPY_MODEL_a02b24c2b5e74ef9b956ff501bfaa701",
            "max": 1,
            "min": 0,
            "orientation": "horizontal",
            "style": "IPY_MODEL_f274f0236f694288bb7755be2521ea81",
            "value": 1
          }
        },
        "deeed83c54fd4a479f4ff76c3441422f": {
          "model_module": "@jupyter-widgets/controls",
          "model_name": "HTMLModel",
          "model_module_version": "1.5.0",
          "state": {
            "_dom_classes": [],
            "_model_module": "@jupyter-widgets/controls",
            "_model_module_version": "1.5.0",
            "_model_name": "HTMLModel",
            "_view_count": null,
            "_view_module": "@jupyter-widgets/controls",
            "_view_module_version": "1.5.0",
            "_view_name": "HTMLView",
            "description": "",
            "description_tooltip": null,
            "layout": "IPY_MODEL_db9bf9cf048f4e14b48cf649b82d1133",
            "placeholder": "​",
            "style": "IPY_MODEL_40a3469ae10248b7be8d0f6910c993fe",
            "value": " 95/0 [00:00&lt;00:00, 4760.84 examples/s]"
          }
        },
        "c3d96b31e3a64d899ce0f276684775ef": {
          "model_module": "@jupyter-widgets/base",
          "model_name": "LayoutModel",
          "model_module_version": "1.2.0",
          "state": {
            "_model_module": "@jupyter-widgets/base",
            "_model_module_version": "1.2.0",
            "_model_name": "LayoutModel",
            "_view_count": null,
            "_view_module": "@jupyter-widgets/base",
            "_view_module_version": "1.2.0",
            "_view_name": "LayoutView",
            "align_content": null,
            "align_items": null,
            "align_self": null,
            "border": null,
            "bottom": null,
            "display": null,
            "flex": null,
            "flex_flow": null,
            "grid_area": null,
            "grid_auto_columns": null,
            "grid_auto_flow": null,
            "grid_auto_rows": null,
            "grid_column": null,
            "grid_gap": null,
            "grid_row": null,
            "grid_template_areas": null,
            "grid_template_columns": null,
            "grid_template_rows": null,
            "height": null,
            "justify_content": null,
            "justify_items": null,
            "left": null,
            "margin": null,
            "max_height": null,
            "max_width": null,
            "min_height": null,
            "min_width": null,
            "object_fit": null,
            "object_position": null,
            "order": null,
            "overflow": null,
            "overflow_x": null,
            "overflow_y": null,
            "padding": null,
            "right": null,
            "top": null,
            "visibility": null,
            "width": null
          }
        },
        "91f4de1725b843bcbfd34521eba326e3": {
          "model_module": "@jupyter-widgets/base",
          "model_name": "LayoutModel",
          "model_module_version": "1.2.0",
          "state": {
            "_model_module": "@jupyter-widgets/base",
            "_model_module_version": "1.2.0",
            "_model_name": "LayoutModel",
            "_view_count": null,
            "_view_module": "@jupyter-widgets/base",
            "_view_module_version": "1.2.0",
            "_view_name": "LayoutView",
            "align_content": null,
            "align_items": null,
            "align_self": null,
            "border": null,
            "bottom": null,
            "display": null,
            "flex": null,
            "flex_flow": null,
            "grid_area": null,
            "grid_auto_columns": null,
            "grid_auto_flow": null,
            "grid_auto_rows": null,
            "grid_column": null,
            "grid_gap": null,
            "grid_row": null,
            "grid_template_areas": null,
            "grid_template_columns": null,
            "grid_template_rows": null,
            "height": null,
            "justify_content": null,
            "justify_items": null,
            "left": null,
            "margin": null,
            "max_height": null,
            "max_width": null,
            "min_height": null,
            "min_width": null,
            "object_fit": null,
            "object_position": null,
            "order": null,
            "overflow": null,
            "overflow_x": null,
            "overflow_y": null,
            "padding": null,
            "right": null,
            "top": null,
            "visibility": null,
            "width": null
          }
        },
        "ebe23f1af3fc45c18316058b8d328e9f": {
          "model_module": "@jupyter-widgets/controls",
          "model_name": "DescriptionStyleModel",
          "model_module_version": "1.5.0",
          "state": {
            "_model_module": "@jupyter-widgets/controls",
            "_model_module_version": "1.5.0",
            "_model_name": "DescriptionStyleModel",
            "_view_count": null,
            "_view_module": "@jupyter-widgets/base",
            "_view_module_version": "1.2.0",
            "_view_name": "StyleView",
            "description_width": ""
          }
        },
        "a02b24c2b5e74ef9b956ff501bfaa701": {
          "model_module": "@jupyter-widgets/base",
          "model_name": "LayoutModel",
          "model_module_version": "1.2.0",
          "state": {
            "_model_module": "@jupyter-widgets/base",
            "_model_module_version": "1.2.0",
            "_model_name": "LayoutModel",
            "_view_count": null,
            "_view_module": "@jupyter-widgets/base",
            "_view_module_version": "1.2.0",
            "_view_name": "LayoutView",
            "align_content": null,
            "align_items": null,
            "align_self": null,
            "border": null,
            "bottom": null,
            "display": null,
            "flex": null,
            "flex_flow": null,
            "grid_area": null,
            "grid_auto_columns": null,
            "grid_auto_flow": null,
            "grid_auto_rows": null,
            "grid_column": null,
            "grid_gap": null,
            "grid_row": null,
            "grid_template_areas": null,
            "grid_template_columns": null,
            "grid_template_rows": null,
            "height": null,
            "justify_content": null,
            "justify_items": null,
            "left": null,
            "margin": null,
            "max_height": null,
            "max_width": null,
            "min_height": null,
            "min_width": null,
            "object_fit": null,
            "object_position": null,
            "order": null,
            "overflow": null,
            "overflow_x": null,
            "overflow_y": null,
            "padding": null,
            "right": null,
            "top": null,
            "visibility": null,
            "width": "20px"
          }
        },
        "f274f0236f694288bb7755be2521ea81": {
          "model_module": "@jupyter-widgets/controls",
          "model_name": "ProgressStyleModel",
          "model_module_version": "1.5.0",
          "state": {
            "_model_module": "@jupyter-widgets/controls",
            "_model_module_version": "1.5.0",
            "_model_name": "ProgressStyleModel",
            "_view_count": null,
            "_view_module": "@jupyter-widgets/base",
            "_view_module_version": "1.2.0",
            "_view_name": "StyleView",
            "bar_color": null,
            "description_width": ""
          }
        },
        "db9bf9cf048f4e14b48cf649b82d1133": {
          "model_module": "@jupyter-widgets/base",
          "model_name": "LayoutModel",
          "model_module_version": "1.2.0",
          "state": {
            "_model_module": "@jupyter-widgets/base",
            "_model_module_version": "1.2.0",
            "_model_name": "LayoutModel",
            "_view_count": null,
            "_view_module": "@jupyter-widgets/base",
            "_view_module_version": "1.2.0",
            "_view_name": "LayoutView",
            "align_content": null,
            "align_items": null,
            "align_self": null,
            "border": null,
            "bottom": null,
            "display": null,
            "flex": null,
            "flex_flow": null,
            "grid_area": null,
            "grid_auto_columns": null,
            "grid_auto_flow": null,
            "grid_auto_rows": null,
            "grid_column": null,
            "grid_gap": null,
            "grid_row": null,
            "grid_template_areas": null,
            "grid_template_columns": null,
            "grid_template_rows": null,
            "height": null,
            "justify_content": null,
            "justify_items": null,
            "left": null,
            "margin": null,
            "max_height": null,
            "max_width": null,
            "min_height": null,
            "min_width": null,
            "object_fit": null,
            "object_position": null,
            "order": null,
            "overflow": null,
            "overflow_x": null,
            "overflow_y": null,
            "padding": null,
            "right": null,
            "top": null,
            "visibility": null,
            "width": null
          }
        },
        "40a3469ae10248b7be8d0f6910c993fe": {
          "model_module": "@jupyter-widgets/controls",
          "model_name": "DescriptionStyleModel",
          "model_module_version": "1.5.0",
          "state": {
            "_model_module": "@jupyter-widgets/controls",
            "_model_module_version": "1.5.0",
            "_model_name": "DescriptionStyleModel",
            "_view_count": null,
            "_view_module": "@jupyter-widgets/base",
            "_view_module_version": "1.2.0",
            "_view_name": "StyleView",
            "description_width": ""
          }
        },
        "ee2c90b148014104a30acabae4a50cd9": {
          "model_module": "@jupyter-widgets/controls",
          "model_name": "HBoxModel",
          "model_module_version": "1.5.0",
          "state": {
            "_dom_classes": [],
            "_model_module": "@jupyter-widgets/controls",
            "_model_module_version": "1.5.0",
            "_model_name": "HBoxModel",
            "_view_count": null,
            "_view_module": "@jupyter-widgets/controls",
            "_view_module_version": "1.5.0",
            "_view_name": "HBoxView",
            "box_style": "",
            "children": [
              "IPY_MODEL_935e08a5eff04ab1a1317a8151af19f9",
              "IPY_MODEL_0faafc3ea9d7483990f9adc918a43794",
              "IPY_MODEL_ac0f3da06934404b981ff4da736602db"
            ],
            "layout": "IPY_MODEL_10b7ecc42bfc4534bbfac97d95197c1a"
          }
        },
        "935e08a5eff04ab1a1317a8151af19f9": {
          "model_module": "@jupyter-widgets/controls",
          "model_name": "HTMLModel",
          "model_module_version": "1.5.0",
          "state": {
            "_dom_classes": [],
            "_model_module": "@jupyter-widgets/controls",
            "_model_module_version": "1.5.0",
            "_model_name": "HTMLModel",
            "_view_count": null,
            "_view_module": "@jupyter-widgets/controls",
            "_view_module_version": "1.5.0",
            "_view_name": "HTMLView",
            "description": "",
            "description_tooltip": null,
            "layout": "IPY_MODEL_609cd33493c94311b72de288f21f6659",
            "placeholder": "​",
            "style": "IPY_MODEL_4055b0ab5d694ce496af8503d4120363",
            "value": "config.json: 100%"
          }
        },
        "0faafc3ea9d7483990f9adc918a43794": {
          "model_module": "@jupyter-widgets/controls",
          "model_name": "FloatProgressModel",
          "model_module_version": "1.5.0",
          "state": {
            "_dom_classes": [],
            "_model_module": "@jupyter-widgets/controls",
            "_model_module_version": "1.5.0",
            "_model_name": "FloatProgressModel",
            "_view_count": null,
            "_view_module": "@jupyter-widgets/controls",
            "_view_module_version": "1.5.0",
            "_view_name": "ProgressView",
            "bar_style": "success",
            "description": "",
            "description_tooltip": null,
            "layout": "IPY_MODEL_7d2e498b56b44821b78cc7cf6bea7260",
            "max": 1585,
            "min": 0,
            "orientation": "horizontal",
            "style": "IPY_MODEL_dff0202790034685a561fc4e2c976d0a",
            "value": 1585
          }
        },
        "ac0f3da06934404b981ff4da736602db": {
          "model_module": "@jupyter-widgets/controls",
          "model_name": "HTMLModel",
          "model_module_version": "1.5.0",
          "state": {
            "_dom_classes": [],
            "_model_module": "@jupyter-widgets/controls",
            "_model_module_version": "1.5.0",
            "_model_name": "HTMLModel",
            "_view_count": null,
            "_view_module": "@jupyter-widgets/controls",
            "_view_module_version": "1.5.0",
            "_view_name": "HTMLView",
            "description": "",
            "description_tooltip": null,
            "layout": "IPY_MODEL_ab0b0a16f92344a7bdf9d71c28c9369b",
            "placeholder": "​",
            "style": "IPY_MODEL_d0c481d570be40b5a8d7aff9882ab9e5",
            "value": " 1.58k/1.58k [00:00&lt;00:00, 132kB/s]"
          }
        },
        "10b7ecc42bfc4534bbfac97d95197c1a": {
          "model_module": "@jupyter-widgets/base",
          "model_name": "LayoutModel",
          "model_module_version": "1.2.0",
          "state": {
            "_model_module": "@jupyter-widgets/base",
            "_model_module_version": "1.2.0",
            "_model_name": "LayoutModel",
            "_view_count": null,
            "_view_module": "@jupyter-widgets/base",
            "_view_module_version": "1.2.0",
            "_view_name": "LayoutView",
            "align_content": null,
            "align_items": null,
            "align_self": null,
            "border": null,
            "bottom": null,
            "display": null,
            "flex": null,
            "flex_flow": null,
            "grid_area": null,
            "grid_auto_columns": null,
            "grid_auto_flow": null,
            "grid_auto_rows": null,
            "grid_column": null,
            "grid_gap": null,
            "grid_row": null,
            "grid_template_areas": null,
            "grid_template_columns": null,
            "grid_template_rows": null,
            "height": null,
            "justify_content": null,
            "justify_items": null,
            "left": null,
            "margin": null,
            "max_height": null,
            "max_width": null,
            "min_height": null,
            "min_width": null,
            "object_fit": null,
            "object_position": null,
            "order": null,
            "overflow": null,
            "overflow_x": null,
            "overflow_y": null,
            "padding": null,
            "right": null,
            "top": null,
            "visibility": null,
            "width": null
          }
        },
        "609cd33493c94311b72de288f21f6659": {
          "model_module": "@jupyter-widgets/base",
          "model_name": "LayoutModel",
          "model_module_version": "1.2.0",
          "state": {
            "_model_module": "@jupyter-widgets/base",
            "_model_module_version": "1.2.0",
            "_model_name": "LayoutModel",
            "_view_count": null,
            "_view_module": "@jupyter-widgets/base",
            "_view_module_version": "1.2.0",
            "_view_name": "LayoutView",
            "align_content": null,
            "align_items": null,
            "align_self": null,
            "border": null,
            "bottom": null,
            "display": null,
            "flex": null,
            "flex_flow": null,
            "grid_area": null,
            "grid_auto_columns": null,
            "grid_auto_flow": null,
            "grid_auto_rows": null,
            "grid_column": null,
            "grid_gap": null,
            "grid_row": null,
            "grid_template_areas": null,
            "grid_template_columns": null,
            "grid_template_rows": null,
            "height": null,
            "justify_content": null,
            "justify_items": null,
            "left": null,
            "margin": null,
            "max_height": null,
            "max_width": null,
            "min_height": null,
            "min_width": null,
            "object_fit": null,
            "object_position": null,
            "order": null,
            "overflow": null,
            "overflow_x": null,
            "overflow_y": null,
            "padding": null,
            "right": null,
            "top": null,
            "visibility": null,
            "width": null
          }
        },
        "4055b0ab5d694ce496af8503d4120363": {
          "model_module": "@jupyter-widgets/controls",
          "model_name": "DescriptionStyleModel",
          "model_module_version": "1.5.0",
          "state": {
            "_model_module": "@jupyter-widgets/controls",
            "_model_module_version": "1.5.0",
            "_model_name": "DescriptionStyleModel",
            "_view_count": null,
            "_view_module": "@jupyter-widgets/base",
            "_view_module_version": "1.2.0",
            "_view_name": "StyleView",
            "description_width": ""
          }
        },
        "7d2e498b56b44821b78cc7cf6bea7260": {
          "model_module": "@jupyter-widgets/base",
          "model_name": "LayoutModel",
          "model_module_version": "1.2.0",
          "state": {
            "_model_module": "@jupyter-widgets/base",
            "_model_module_version": "1.2.0",
            "_model_name": "LayoutModel",
            "_view_count": null,
            "_view_module": "@jupyter-widgets/base",
            "_view_module_version": "1.2.0",
            "_view_name": "LayoutView",
            "align_content": null,
            "align_items": null,
            "align_self": null,
            "border": null,
            "bottom": null,
            "display": null,
            "flex": null,
            "flex_flow": null,
            "grid_area": null,
            "grid_auto_columns": null,
            "grid_auto_flow": null,
            "grid_auto_rows": null,
            "grid_column": null,
            "grid_gap": null,
            "grid_row": null,
            "grid_template_areas": null,
            "grid_template_columns": null,
            "grid_template_rows": null,
            "height": null,
            "justify_content": null,
            "justify_items": null,
            "left": null,
            "margin": null,
            "max_height": null,
            "max_width": null,
            "min_height": null,
            "min_width": null,
            "object_fit": null,
            "object_position": null,
            "order": null,
            "overflow": null,
            "overflow_x": null,
            "overflow_y": null,
            "padding": null,
            "right": null,
            "top": null,
            "visibility": null,
            "width": null
          }
        },
        "dff0202790034685a561fc4e2c976d0a": {
          "model_module": "@jupyter-widgets/controls",
          "model_name": "ProgressStyleModel",
          "model_module_version": "1.5.0",
          "state": {
            "_model_module": "@jupyter-widgets/controls",
            "_model_module_version": "1.5.0",
            "_model_name": "ProgressStyleModel",
            "_view_count": null,
            "_view_module": "@jupyter-widgets/base",
            "_view_module_version": "1.2.0",
            "_view_name": "StyleView",
            "bar_color": null,
            "description_width": ""
          }
        },
        "ab0b0a16f92344a7bdf9d71c28c9369b": {
          "model_module": "@jupyter-widgets/base",
          "model_name": "LayoutModel",
          "model_module_version": "1.2.0",
          "state": {
            "_model_module": "@jupyter-widgets/base",
            "_model_module_version": "1.2.0",
            "_model_name": "LayoutModel",
            "_view_count": null,
            "_view_module": "@jupyter-widgets/base",
            "_view_module_version": "1.2.0",
            "_view_name": "LayoutView",
            "align_content": null,
            "align_items": null,
            "align_self": null,
            "border": null,
            "bottom": null,
            "display": null,
            "flex": null,
            "flex_flow": null,
            "grid_area": null,
            "grid_auto_columns": null,
            "grid_auto_flow": null,
            "grid_auto_rows": null,
            "grid_column": null,
            "grid_gap": null,
            "grid_row": null,
            "grid_template_areas": null,
            "grid_template_columns": null,
            "grid_template_rows": null,
            "height": null,
            "justify_content": null,
            "justify_items": null,
            "left": null,
            "margin": null,
            "max_height": null,
            "max_width": null,
            "min_height": null,
            "min_width": null,
            "object_fit": null,
            "object_position": null,
            "order": null,
            "overflow": null,
            "overflow_x": null,
            "overflow_y": null,
            "padding": null,
            "right": null,
            "top": null,
            "visibility": null,
            "width": null
          }
        },
        "d0c481d570be40b5a8d7aff9882ab9e5": {
          "model_module": "@jupyter-widgets/controls",
          "model_name": "DescriptionStyleModel",
          "model_module_version": "1.5.0",
          "state": {
            "_model_module": "@jupyter-widgets/controls",
            "_model_module_version": "1.5.0",
            "_model_name": "DescriptionStyleModel",
            "_view_count": null,
            "_view_module": "@jupyter-widgets/base",
            "_view_module_version": "1.2.0",
            "_view_name": "StyleView",
            "description_width": ""
          }
        },
        "b499c4c905244a80bbf187eb091dc654": {
          "model_module": "@jupyter-widgets/controls",
          "model_name": "HBoxModel",
          "model_module_version": "1.5.0",
          "state": {
            "_dom_classes": [],
            "_model_module": "@jupyter-widgets/controls",
            "_model_module_version": "1.5.0",
            "_model_name": "HBoxModel",
            "_view_count": null,
            "_view_module": "@jupyter-widgets/controls",
            "_view_module_version": "1.5.0",
            "_view_name": "HBoxView",
            "box_style": "",
            "children": [
              "IPY_MODEL_11929fd0040840ceb938a91b915182b2",
              "IPY_MODEL_f6230d36c06f4c3381c00ee0a2cb7381",
              "IPY_MODEL_b91a7dbaf6dc4d75a99d0bdd51ae68c8"
            ],
            "layout": "IPY_MODEL_2ddfa2a4d0a1481aad5d43727cd889f8"
          }
        },
        "11929fd0040840ceb938a91b915182b2": {
          "model_module": "@jupyter-widgets/controls",
          "model_name": "HTMLModel",
          "model_module_version": "1.5.0",
          "state": {
            "_dom_classes": [],
            "_model_module": "@jupyter-widgets/controls",
            "_model_module_version": "1.5.0",
            "_model_name": "HTMLModel",
            "_view_count": null,
            "_view_module": "@jupyter-widgets/controls",
            "_view_module_version": "1.5.0",
            "_view_name": "HTMLView",
            "description": "",
            "description_tooltip": null,
            "layout": "IPY_MODEL_060f9092687c4ced81c98b2b1e455674",
            "placeholder": "​",
            "style": "IPY_MODEL_37590fe5014f4bf588e20b7af9fe956c",
            "value": "vocab.json: 100%"
          }
        },
        "f6230d36c06f4c3381c00ee0a2cb7381": {
          "model_module": "@jupyter-widgets/controls",
          "model_name": "FloatProgressModel",
          "model_module_version": "1.5.0",
          "state": {
            "_dom_classes": [],
            "_model_module": "@jupyter-widgets/controls",
            "_model_module_version": "1.5.0",
            "_model_name": "FloatProgressModel",
            "_view_count": null,
            "_view_module": "@jupyter-widgets/controls",
            "_view_module_version": "1.5.0",
            "_view_name": "ProgressView",
            "bar_style": "success",
            "description": "",
            "description_tooltip": null,
            "layout": "IPY_MODEL_04948ad81796434690ed229f66c41161",
            "max": 898823,
            "min": 0,
            "orientation": "horizontal",
            "style": "IPY_MODEL_712bd274729144568bf78e5ed3e48db8",
            "value": 898823
          }
        },
        "b91a7dbaf6dc4d75a99d0bdd51ae68c8": {
          "model_module": "@jupyter-widgets/controls",
          "model_name": "HTMLModel",
          "model_module_version": "1.5.0",
          "state": {
            "_dom_classes": [],
            "_model_module": "@jupyter-widgets/controls",
            "_model_module_version": "1.5.0",
            "_model_name": "HTMLModel",
            "_view_count": null,
            "_view_module": "@jupyter-widgets/controls",
            "_view_module_version": "1.5.0",
            "_view_name": "HTMLView",
            "description": "",
            "description_tooltip": null,
            "layout": "IPY_MODEL_2fac2bc597d64d1ca64b16bbe75673f8",
            "placeholder": "​",
            "style": "IPY_MODEL_e8f592b9807848abb9f16af60ce1581e",
            "value": " 899k/899k [00:00&lt;00:00, 4.51MB/s]"
          }
        },
        "2ddfa2a4d0a1481aad5d43727cd889f8": {
          "model_module": "@jupyter-widgets/base",
          "model_name": "LayoutModel",
          "model_module_version": "1.2.0",
          "state": {
            "_model_module": "@jupyter-widgets/base",
            "_model_module_version": "1.2.0",
            "_model_name": "LayoutModel",
            "_view_count": null,
            "_view_module": "@jupyter-widgets/base",
            "_view_module_version": "1.2.0",
            "_view_name": "LayoutView",
            "align_content": null,
            "align_items": null,
            "align_self": null,
            "border": null,
            "bottom": null,
            "display": null,
            "flex": null,
            "flex_flow": null,
            "grid_area": null,
            "grid_auto_columns": null,
            "grid_auto_flow": null,
            "grid_auto_rows": null,
            "grid_column": null,
            "grid_gap": null,
            "grid_row": null,
            "grid_template_areas": null,
            "grid_template_columns": null,
            "grid_template_rows": null,
            "height": null,
            "justify_content": null,
            "justify_items": null,
            "left": null,
            "margin": null,
            "max_height": null,
            "max_width": null,
            "min_height": null,
            "min_width": null,
            "object_fit": null,
            "object_position": null,
            "order": null,
            "overflow": null,
            "overflow_x": null,
            "overflow_y": null,
            "padding": null,
            "right": null,
            "top": null,
            "visibility": null,
            "width": null
          }
        },
        "060f9092687c4ced81c98b2b1e455674": {
          "model_module": "@jupyter-widgets/base",
          "model_name": "LayoutModel",
          "model_module_version": "1.2.0",
          "state": {
            "_model_module": "@jupyter-widgets/base",
            "_model_module_version": "1.2.0",
            "_model_name": "LayoutModel",
            "_view_count": null,
            "_view_module": "@jupyter-widgets/base",
            "_view_module_version": "1.2.0",
            "_view_name": "LayoutView",
            "align_content": null,
            "align_items": null,
            "align_self": null,
            "border": null,
            "bottom": null,
            "display": null,
            "flex": null,
            "flex_flow": null,
            "grid_area": null,
            "grid_auto_columns": null,
            "grid_auto_flow": null,
            "grid_auto_rows": null,
            "grid_column": null,
            "grid_gap": null,
            "grid_row": null,
            "grid_template_areas": null,
            "grid_template_columns": null,
            "grid_template_rows": null,
            "height": null,
            "justify_content": null,
            "justify_items": null,
            "left": null,
            "margin": null,
            "max_height": null,
            "max_width": null,
            "min_height": null,
            "min_width": null,
            "object_fit": null,
            "object_position": null,
            "order": null,
            "overflow": null,
            "overflow_x": null,
            "overflow_y": null,
            "padding": null,
            "right": null,
            "top": null,
            "visibility": null,
            "width": null
          }
        },
        "37590fe5014f4bf588e20b7af9fe956c": {
          "model_module": "@jupyter-widgets/controls",
          "model_name": "DescriptionStyleModel",
          "model_module_version": "1.5.0",
          "state": {
            "_model_module": "@jupyter-widgets/controls",
            "_model_module_version": "1.5.0",
            "_model_name": "DescriptionStyleModel",
            "_view_count": null,
            "_view_module": "@jupyter-widgets/base",
            "_view_module_version": "1.2.0",
            "_view_name": "StyleView",
            "description_width": ""
          }
        },
        "04948ad81796434690ed229f66c41161": {
          "model_module": "@jupyter-widgets/base",
          "model_name": "LayoutModel",
          "model_module_version": "1.2.0",
          "state": {
            "_model_module": "@jupyter-widgets/base",
            "_model_module_version": "1.2.0",
            "_model_name": "LayoutModel",
            "_view_count": null,
            "_view_module": "@jupyter-widgets/base",
            "_view_module_version": "1.2.0",
            "_view_name": "LayoutView",
            "align_content": null,
            "align_items": null,
            "align_self": null,
            "border": null,
            "bottom": null,
            "display": null,
            "flex": null,
            "flex_flow": null,
            "grid_area": null,
            "grid_auto_columns": null,
            "grid_auto_flow": null,
            "grid_auto_rows": null,
            "grid_column": null,
            "grid_gap": null,
            "grid_row": null,
            "grid_template_areas": null,
            "grid_template_columns": null,
            "grid_template_rows": null,
            "height": null,
            "justify_content": null,
            "justify_items": null,
            "left": null,
            "margin": null,
            "max_height": null,
            "max_width": null,
            "min_height": null,
            "min_width": null,
            "object_fit": null,
            "object_position": null,
            "order": null,
            "overflow": null,
            "overflow_x": null,
            "overflow_y": null,
            "padding": null,
            "right": null,
            "top": null,
            "visibility": null,
            "width": null
          }
        },
        "712bd274729144568bf78e5ed3e48db8": {
          "model_module": "@jupyter-widgets/controls",
          "model_name": "ProgressStyleModel",
          "model_module_version": "1.5.0",
          "state": {
            "_model_module": "@jupyter-widgets/controls",
            "_model_module_version": "1.5.0",
            "_model_name": "ProgressStyleModel",
            "_view_count": null,
            "_view_module": "@jupyter-widgets/base",
            "_view_module_version": "1.2.0",
            "_view_name": "StyleView",
            "bar_color": null,
            "description_width": ""
          }
        },
        "2fac2bc597d64d1ca64b16bbe75673f8": {
          "model_module": "@jupyter-widgets/base",
          "model_name": "LayoutModel",
          "model_module_version": "1.2.0",
          "state": {
            "_model_module": "@jupyter-widgets/base",
            "_model_module_version": "1.2.0",
            "_model_name": "LayoutModel",
            "_view_count": null,
            "_view_module": "@jupyter-widgets/base",
            "_view_module_version": "1.2.0",
            "_view_name": "LayoutView",
            "align_content": null,
            "align_items": null,
            "align_self": null,
            "border": null,
            "bottom": null,
            "display": null,
            "flex": null,
            "flex_flow": null,
            "grid_area": null,
            "grid_auto_columns": null,
            "grid_auto_flow": null,
            "grid_auto_rows": null,
            "grid_column": null,
            "grid_gap": null,
            "grid_row": null,
            "grid_template_areas": null,
            "grid_template_columns": null,
            "grid_template_rows": null,
            "height": null,
            "justify_content": null,
            "justify_items": null,
            "left": null,
            "margin": null,
            "max_height": null,
            "max_width": null,
            "min_height": null,
            "min_width": null,
            "object_fit": null,
            "object_position": null,
            "order": null,
            "overflow": null,
            "overflow_x": null,
            "overflow_y": null,
            "padding": null,
            "right": null,
            "top": null,
            "visibility": null,
            "width": null
          }
        },
        "e8f592b9807848abb9f16af60ce1581e": {
          "model_module": "@jupyter-widgets/controls",
          "model_name": "DescriptionStyleModel",
          "model_module_version": "1.5.0",
          "state": {
            "_model_module": "@jupyter-widgets/controls",
            "_model_module_version": "1.5.0",
            "_model_name": "DescriptionStyleModel",
            "_view_count": null,
            "_view_module": "@jupyter-widgets/base",
            "_view_module_version": "1.2.0",
            "_view_name": "StyleView",
            "description_width": ""
          }
        },
        "f81bc75cf7884e6385bb3bd176b76a54": {
          "model_module": "@jupyter-widgets/controls",
          "model_name": "HBoxModel",
          "model_module_version": "1.5.0",
          "state": {
            "_dom_classes": [],
            "_model_module": "@jupyter-widgets/controls",
            "_model_module_version": "1.5.0",
            "_model_name": "HBoxModel",
            "_view_count": null,
            "_view_module": "@jupyter-widgets/controls",
            "_view_module_version": "1.5.0",
            "_view_name": "HBoxView",
            "box_style": "",
            "children": [
              "IPY_MODEL_bce996e789e342d1b90c2242b7deaa2e",
              "IPY_MODEL_e73c510edf07435e97c4e877546a4b1d",
              "IPY_MODEL_6e2fe4b703d44c218fd272da7587f215"
            ],
            "layout": "IPY_MODEL_876ee46b89f14399aa8b1577e1111e86"
          }
        },
        "bce996e789e342d1b90c2242b7deaa2e": {
          "model_module": "@jupyter-widgets/controls",
          "model_name": "HTMLModel",
          "model_module_version": "1.5.0",
          "state": {
            "_dom_classes": [],
            "_model_module": "@jupyter-widgets/controls",
            "_model_module_version": "1.5.0",
            "_model_name": "HTMLModel",
            "_view_count": null,
            "_view_module": "@jupyter-widgets/controls",
            "_view_module_version": "1.5.0",
            "_view_name": "HTMLView",
            "description": "",
            "description_tooltip": null,
            "layout": "IPY_MODEL_588f847634d4446bbc8dbb1b10ba3b67",
            "placeholder": "​",
            "style": "IPY_MODEL_c3f7409abf0744b98487e2192df7f755",
            "value": "merges.txt: 100%"
          }
        },
        "e73c510edf07435e97c4e877546a4b1d": {
          "model_module": "@jupyter-widgets/controls",
          "model_name": "FloatProgressModel",
          "model_module_version": "1.5.0",
          "state": {
            "_dom_classes": [],
            "_model_module": "@jupyter-widgets/controls",
            "_model_module_version": "1.5.0",
            "_model_name": "FloatProgressModel",
            "_view_count": null,
            "_view_module": "@jupyter-widgets/controls",
            "_view_module_version": "1.5.0",
            "_view_name": "ProgressView",
            "bar_style": "success",
            "description": "",
            "description_tooltip": null,
            "layout": "IPY_MODEL_6e192bffb7604764b62019690429afbf",
            "max": 456318,
            "min": 0,
            "orientation": "horizontal",
            "style": "IPY_MODEL_a2c431e6a52f49999f8b75574fdb3602",
            "value": 456318
          }
        },
        "6e2fe4b703d44c218fd272da7587f215": {
          "model_module": "@jupyter-widgets/controls",
          "model_name": "HTMLModel",
          "model_module_version": "1.5.0",
          "state": {
            "_dom_classes": [],
            "_model_module": "@jupyter-widgets/controls",
            "_model_module_version": "1.5.0",
            "_model_name": "HTMLModel",
            "_view_count": null,
            "_view_module": "@jupyter-widgets/controls",
            "_view_module_version": "1.5.0",
            "_view_name": "HTMLView",
            "description": "",
            "description_tooltip": null,
            "layout": "IPY_MODEL_0a91f4aea0bb41aaa2371366d13be29b",
            "placeholder": "​",
            "style": "IPY_MODEL_701e77fb44c34988b8012533baa43536",
            "value": " 456k/456k [00:00&lt;00:00, 3.45MB/s]"
          }
        },
        "876ee46b89f14399aa8b1577e1111e86": {
          "model_module": "@jupyter-widgets/base",
          "model_name": "LayoutModel",
          "model_module_version": "1.2.0",
          "state": {
            "_model_module": "@jupyter-widgets/base",
            "_model_module_version": "1.2.0",
            "_model_name": "LayoutModel",
            "_view_count": null,
            "_view_module": "@jupyter-widgets/base",
            "_view_module_version": "1.2.0",
            "_view_name": "LayoutView",
            "align_content": null,
            "align_items": null,
            "align_self": null,
            "border": null,
            "bottom": null,
            "display": null,
            "flex": null,
            "flex_flow": null,
            "grid_area": null,
            "grid_auto_columns": null,
            "grid_auto_flow": null,
            "grid_auto_rows": null,
            "grid_column": null,
            "grid_gap": null,
            "grid_row": null,
            "grid_template_areas": null,
            "grid_template_columns": null,
            "grid_template_rows": null,
            "height": null,
            "justify_content": null,
            "justify_items": null,
            "left": null,
            "margin": null,
            "max_height": null,
            "max_width": null,
            "min_height": null,
            "min_width": null,
            "object_fit": null,
            "object_position": null,
            "order": null,
            "overflow": null,
            "overflow_x": null,
            "overflow_y": null,
            "padding": null,
            "right": null,
            "top": null,
            "visibility": null,
            "width": null
          }
        },
        "588f847634d4446bbc8dbb1b10ba3b67": {
          "model_module": "@jupyter-widgets/base",
          "model_name": "LayoutModel",
          "model_module_version": "1.2.0",
          "state": {
            "_model_module": "@jupyter-widgets/base",
            "_model_module_version": "1.2.0",
            "_model_name": "LayoutModel",
            "_view_count": null,
            "_view_module": "@jupyter-widgets/base",
            "_view_module_version": "1.2.0",
            "_view_name": "LayoutView",
            "align_content": null,
            "align_items": null,
            "align_self": null,
            "border": null,
            "bottom": null,
            "display": null,
            "flex": null,
            "flex_flow": null,
            "grid_area": null,
            "grid_auto_columns": null,
            "grid_auto_flow": null,
            "grid_auto_rows": null,
            "grid_column": null,
            "grid_gap": null,
            "grid_row": null,
            "grid_template_areas": null,
            "grid_template_columns": null,
            "grid_template_rows": null,
            "height": null,
            "justify_content": null,
            "justify_items": null,
            "left": null,
            "margin": null,
            "max_height": null,
            "max_width": null,
            "min_height": null,
            "min_width": null,
            "object_fit": null,
            "object_position": null,
            "order": null,
            "overflow": null,
            "overflow_x": null,
            "overflow_y": null,
            "padding": null,
            "right": null,
            "top": null,
            "visibility": null,
            "width": null
          }
        },
        "c3f7409abf0744b98487e2192df7f755": {
          "model_module": "@jupyter-widgets/controls",
          "model_name": "DescriptionStyleModel",
          "model_module_version": "1.5.0",
          "state": {
            "_model_module": "@jupyter-widgets/controls",
            "_model_module_version": "1.5.0",
            "_model_name": "DescriptionStyleModel",
            "_view_count": null,
            "_view_module": "@jupyter-widgets/base",
            "_view_module_version": "1.2.0",
            "_view_name": "StyleView",
            "description_width": ""
          }
        },
        "6e192bffb7604764b62019690429afbf": {
          "model_module": "@jupyter-widgets/base",
          "model_name": "LayoutModel",
          "model_module_version": "1.2.0",
          "state": {
            "_model_module": "@jupyter-widgets/base",
            "_model_module_version": "1.2.0",
            "_model_name": "LayoutModel",
            "_view_count": null,
            "_view_module": "@jupyter-widgets/base",
            "_view_module_version": "1.2.0",
            "_view_name": "LayoutView",
            "align_content": null,
            "align_items": null,
            "align_self": null,
            "border": null,
            "bottom": null,
            "display": null,
            "flex": null,
            "flex_flow": null,
            "grid_area": null,
            "grid_auto_columns": null,
            "grid_auto_flow": null,
            "grid_auto_rows": null,
            "grid_column": null,
            "grid_gap": null,
            "grid_row": null,
            "grid_template_areas": null,
            "grid_template_columns": null,
            "grid_template_rows": null,
            "height": null,
            "justify_content": null,
            "justify_items": null,
            "left": null,
            "margin": null,
            "max_height": null,
            "max_width": null,
            "min_height": null,
            "min_width": null,
            "object_fit": null,
            "object_position": null,
            "order": null,
            "overflow": null,
            "overflow_x": null,
            "overflow_y": null,
            "padding": null,
            "right": null,
            "top": null,
            "visibility": null,
            "width": null
          }
        },
        "a2c431e6a52f49999f8b75574fdb3602": {
          "model_module": "@jupyter-widgets/controls",
          "model_name": "ProgressStyleModel",
          "model_module_version": "1.5.0",
          "state": {
            "_model_module": "@jupyter-widgets/controls",
            "_model_module_version": "1.5.0",
            "_model_name": "ProgressStyleModel",
            "_view_count": null,
            "_view_module": "@jupyter-widgets/base",
            "_view_module_version": "1.2.0",
            "_view_name": "StyleView",
            "bar_color": null,
            "description_width": ""
          }
        },
        "0a91f4aea0bb41aaa2371366d13be29b": {
          "model_module": "@jupyter-widgets/base",
          "model_name": "LayoutModel",
          "model_module_version": "1.2.0",
          "state": {
            "_model_module": "@jupyter-widgets/base",
            "_model_module_version": "1.2.0",
            "_model_name": "LayoutModel",
            "_view_count": null,
            "_view_module": "@jupyter-widgets/base",
            "_view_module_version": "1.2.0",
            "_view_name": "LayoutView",
            "align_content": null,
            "align_items": null,
            "align_self": null,
            "border": null,
            "bottom": null,
            "display": null,
            "flex": null,
            "flex_flow": null,
            "grid_area": null,
            "grid_auto_columns": null,
            "grid_auto_flow": null,
            "grid_auto_rows": null,
            "grid_column": null,
            "grid_gap": null,
            "grid_row": null,
            "grid_template_areas": null,
            "grid_template_columns": null,
            "grid_template_rows": null,
            "height": null,
            "justify_content": null,
            "justify_items": null,
            "left": null,
            "margin": null,
            "max_height": null,
            "max_width": null,
            "min_height": null,
            "min_width": null,
            "object_fit": null,
            "object_position": null,
            "order": null,
            "overflow": null,
            "overflow_x": null,
            "overflow_y": null,
            "padding": null,
            "right": null,
            "top": null,
            "visibility": null,
            "width": null
          }
        },
        "701e77fb44c34988b8012533baa43536": {
          "model_module": "@jupyter-widgets/controls",
          "model_name": "DescriptionStyleModel",
          "model_module_version": "1.5.0",
          "state": {
            "_model_module": "@jupyter-widgets/controls",
            "_model_module_version": "1.5.0",
            "_model_name": "DescriptionStyleModel",
            "_view_count": null,
            "_view_module": "@jupyter-widgets/base",
            "_view_module_version": "1.2.0",
            "_view_name": "StyleView",
            "description_width": ""
          }
        },
        "f4f557edb60a48f4ae62f055b09dc569": {
          "model_module": "@jupyter-widgets/controls",
          "model_name": "HBoxModel",
          "model_module_version": "1.5.0",
          "state": {
            "_dom_classes": [],
            "_model_module": "@jupyter-widgets/controls",
            "_model_module_version": "1.5.0",
            "_model_name": "HBoxModel",
            "_view_count": null,
            "_view_module": "@jupyter-widgets/controls",
            "_view_module_version": "1.5.0",
            "_view_name": "HBoxView",
            "box_style": "",
            "children": [
              "IPY_MODEL_3a92d3a09dba48a08fe943e6c38fd2b5",
              "IPY_MODEL_2fdadef03dff4095a0aba549da1e8fb8",
              "IPY_MODEL_f7301f2594434fb6957354d20d6761af"
            ],
            "layout": "IPY_MODEL_3c7e5818f4be4225b21ee2dd0868fd92"
          }
        },
        "3a92d3a09dba48a08fe943e6c38fd2b5": {
          "model_module": "@jupyter-widgets/controls",
          "model_name": "HTMLModel",
          "model_module_version": "1.5.0",
          "state": {
            "_dom_classes": [],
            "_model_module": "@jupyter-widgets/controls",
            "_model_module_version": "1.5.0",
            "_model_name": "HTMLModel",
            "_view_count": null,
            "_view_module": "@jupyter-widgets/controls",
            "_view_module_version": "1.5.0",
            "_view_name": "HTMLView",
            "description": "",
            "description_tooltip": null,
            "layout": "IPY_MODEL_8fe4651668b1472dab7d6a63559f4f8c",
            "placeholder": "​",
            "style": "IPY_MODEL_cd532e33d7cf4308a96d70230b263c3d",
            "value": "tokenizer.json: 100%"
          }
        },
        "2fdadef03dff4095a0aba549da1e8fb8": {
          "model_module": "@jupyter-widgets/controls",
          "model_name": "FloatProgressModel",
          "model_module_version": "1.5.0",
          "state": {
            "_dom_classes": [],
            "_model_module": "@jupyter-widgets/controls",
            "_model_module_version": "1.5.0",
            "_model_name": "FloatProgressModel",
            "_view_count": null,
            "_view_module": "@jupyter-widgets/controls",
            "_view_module_version": "1.5.0",
            "_view_name": "ProgressView",
            "bar_style": "success",
            "description": "",
            "description_tooltip": null,
            "layout": "IPY_MODEL_0f94da603a874e6aa4d996a4b5d17c29",
            "max": 1355863,
            "min": 0,
            "orientation": "horizontal",
            "style": "IPY_MODEL_c912b82bd7f54256a520112fb5b205c9",
            "value": 1355863
          }
        },
        "f7301f2594434fb6957354d20d6761af": {
          "model_module": "@jupyter-widgets/controls",
          "model_name": "HTMLModel",
          "model_module_version": "1.5.0",
          "state": {
            "_dom_classes": [],
            "_model_module": "@jupyter-widgets/controls",
            "_model_module_version": "1.5.0",
            "_model_name": "HTMLModel",
            "_view_count": null,
            "_view_module": "@jupyter-widgets/controls",
            "_view_module_version": "1.5.0",
            "_view_name": "HTMLView",
            "description": "",
            "description_tooltip": null,
            "layout": "IPY_MODEL_78a97e0769554f9d952353bad91d5334",
            "placeholder": "​",
            "style": "IPY_MODEL_87e6fcb9ac844c8ab2fc67153d1ca69f",
            "value": " 1.36M/1.36M [00:00&lt;00:00, 6.79MB/s]"
          }
        },
        "3c7e5818f4be4225b21ee2dd0868fd92": {
          "model_module": "@jupyter-widgets/base",
          "model_name": "LayoutModel",
          "model_module_version": "1.2.0",
          "state": {
            "_model_module": "@jupyter-widgets/base",
            "_model_module_version": "1.2.0",
            "_model_name": "LayoutModel",
            "_view_count": null,
            "_view_module": "@jupyter-widgets/base",
            "_view_module_version": "1.2.0",
            "_view_name": "LayoutView",
            "align_content": null,
            "align_items": null,
            "align_self": null,
            "border": null,
            "bottom": null,
            "display": null,
            "flex": null,
            "flex_flow": null,
            "grid_area": null,
            "grid_auto_columns": null,
            "grid_auto_flow": null,
            "grid_auto_rows": null,
            "grid_column": null,
            "grid_gap": null,
            "grid_row": null,
            "grid_template_areas": null,
            "grid_template_columns": null,
            "grid_template_rows": null,
            "height": null,
            "justify_content": null,
            "justify_items": null,
            "left": null,
            "margin": null,
            "max_height": null,
            "max_width": null,
            "min_height": null,
            "min_width": null,
            "object_fit": null,
            "object_position": null,
            "order": null,
            "overflow": null,
            "overflow_x": null,
            "overflow_y": null,
            "padding": null,
            "right": null,
            "top": null,
            "visibility": null,
            "width": null
          }
        },
        "8fe4651668b1472dab7d6a63559f4f8c": {
          "model_module": "@jupyter-widgets/base",
          "model_name": "LayoutModel",
          "model_module_version": "1.2.0",
          "state": {
            "_model_module": "@jupyter-widgets/base",
            "_model_module_version": "1.2.0",
            "_model_name": "LayoutModel",
            "_view_count": null,
            "_view_module": "@jupyter-widgets/base",
            "_view_module_version": "1.2.0",
            "_view_name": "LayoutView",
            "align_content": null,
            "align_items": null,
            "align_self": null,
            "border": null,
            "bottom": null,
            "display": null,
            "flex": null,
            "flex_flow": null,
            "grid_area": null,
            "grid_auto_columns": null,
            "grid_auto_flow": null,
            "grid_auto_rows": null,
            "grid_column": null,
            "grid_gap": null,
            "grid_row": null,
            "grid_template_areas": null,
            "grid_template_columns": null,
            "grid_template_rows": null,
            "height": null,
            "justify_content": null,
            "justify_items": null,
            "left": null,
            "margin": null,
            "max_height": null,
            "max_width": null,
            "min_height": null,
            "min_width": null,
            "object_fit": null,
            "object_position": null,
            "order": null,
            "overflow": null,
            "overflow_x": null,
            "overflow_y": null,
            "padding": null,
            "right": null,
            "top": null,
            "visibility": null,
            "width": null
          }
        },
        "cd532e33d7cf4308a96d70230b263c3d": {
          "model_module": "@jupyter-widgets/controls",
          "model_name": "DescriptionStyleModel",
          "model_module_version": "1.5.0",
          "state": {
            "_model_module": "@jupyter-widgets/controls",
            "_model_module_version": "1.5.0",
            "_model_name": "DescriptionStyleModel",
            "_view_count": null,
            "_view_module": "@jupyter-widgets/base",
            "_view_module_version": "1.2.0",
            "_view_name": "StyleView",
            "description_width": ""
          }
        },
        "0f94da603a874e6aa4d996a4b5d17c29": {
          "model_module": "@jupyter-widgets/base",
          "model_name": "LayoutModel",
          "model_module_version": "1.2.0",
          "state": {
            "_model_module": "@jupyter-widgets/base",
            "_model_module_version": "1.2.0",
            "_model_name": "LayoutModel",
            "_view_count": null,
            "_view_module": "@jupyter-widgets/base",
            "_view_module_version": "1.2.0",
            "_view_name": "LayoutView",
            "align_content": null,
            "align_items": null,
            "align_self": null,
            "border": null,
            "bottom": null,
            "display": null,
            "flex": null,
            "flex_flow": null,
            "grid_area": null,
            "grid_auto_columns": null,
            "grid_auto_flow": null,
            "grid_auto_rows": null,
            "grid_column": null,
            "grid_gap": null,
            "grid_row": null,
            "grid_template_areas": null,
            "grid_template_columns": null,
            "grid_template_rows": null,
            "height": null,
            "justify_content": null,
            "justify_items": null,
            "left": null,
            "margin": null,
            "max_height": null,
            "max_width": null,
            "min_height": null,
            "min_width": null,
            "object_fit": null,
            "object_position": null,
            "order": null,
            "overflow": null,
            "overflow_x": null,
            "overflow_y": null,
            "padding": null,
            "right": null,
            "top": null,
            "visibility": null,
            "width": null
          }
        },
        "c912b82bd7f54256a520112fb5b205c9": {
          "model_module": "@jupyter-widgets/controls",
          "model_name": "ProgressStyleModel",
          "model_module_version": "1.5.0",
          "state": {
            "_model_module": "@jupyter-widgets/controls",
            "_model_module_version": "1.5.0",
            "_model_name": "ProgressStyleModel",
            "_view_count": null,
            "_view_module": "@jupyter-widgets/base",
            "_view_module_version": "1.2.0",
            "_view_name": "StyleView",
            "bar_color": null,
            "description_width": ""
          }
        },
        "78a97e0769554f9d952353bad91d5334": {
          "model_module": "@jupyter-widgets/base",
          "model_name": "LayoutModel",
          "model_module_version": "1.2.0",
          "state": {
            "_model_module": "@jupyter-widgets/base",
            "_model_module_version": "1.2.0",
            "_model_name": "LayoutModel",
            "_view_count": null,
            "_view_module": "@jupyter-widgets/base",
            "_view_module_version": "1.2.0",
            "_view_name": "LayoutView",
            "align_content": null,
            "align_items": null,
            "align_self": null,
            "border": null,
            "bottom": null,
            "display": null,
            "flex": null,
            "flex_flow": null,
            "grid_area": null,
            "grid_auto_columns": null,
            "grid_auto_flow": null,
            "grid_auto_rows": null,
            "grid_column": null,
            "grid_gap": null,
            "grid_row": null,
            "grid_template_areas": null,
            "grid_template_columns": null,
            "grid_template_rows": null,
            "height": null,
            "justify_content": null,
            "justify_items": null,
            "left": null,
            "margin": null,
            "max_height": null,
            "max_width": null,
            "min_height": null,
            "min_width": null,
            "object_fit": null,
            "object_position": null,
            "order": null,
            "overflow": null,
            "overflow_x": null,
            "overflow_y": null,
            "padding": null,
            "right": null,
            "top": null,
            "visibility": null,
            "width": null
          }
        },
        "87e6fcb9ac844c8ab2fc67153d1ca69f": {
          "model_module": "@jupyter-widgets/controls",
          "model_name": "DescriptionStyleModel",
          "model_module_version": "1.5.0",
          "state": {
            "_model_module": "@jupyter-widgets/controls",
            "_model_module_version": "1.5.0",
            "_model_name": "DescriptionStyleModel",
            "_view_count": null,
            "_view_module": "@jupyter-widgets/base",
            "_view_module_version": "1.2.0",
            "_view_name": "StyleView",
            "description_width": ""
          }
        },
        "8b1ea384f70b47f795d7d68d58387b68": {
          "model_module": "@jupyter-widgets/controls",
          "model_name": "HBoxModel",
          "model_module_version": "1.5.0",
          "state": {
            "_dom_classes": [],
            "_model_module": "@jupyter-widgets/controls",
            "_model_module_version": "1.5.0",
            "_model_name": "HBoxModel",
            "_view_count": null,
            "_view_module": "@jupyter-widgets/controls",
            "_view_module_version": "1.5.0",
            "_view_name": "HBoxView",
            "box_style": "",
            "children": [
              "IPY_MODEL_e50e75cb9a1b47a5a594fbdaa128ce86",
              "IPY_MODEL_954d94a3ede04508a2aed433ce42a6d2",
              "IPY_MODEL_2468828e3f41465b830c026692eff1e8"
            ],
            "layout": "IPY_MODEL_3ab84651208242e28b1622c45adc528e"
          }
        },
        "e50e75cb9a1b47a5a594fbdaa128ce86": {
          "model_module": "@jupyter-widgets/controls",
          "model_name": "HTMLModel",
          "model_module_version": "1.5.0",
          "state": {
            "_dom_classes": [],
            "_model_module": "@jupyter-widgets/controls",
            "_model_module_version": "1.5.0",
            "_model_name": "HTMLModel",
            "_view_count": null,
            "_view_module": "@jupyter-widgets/controls",
            "_view_module_version": "1.5.0",
            "_view_name": "HTMLView",
            "description": "",
            "description_tooltip": null,
            "layout": "IPY_MODEL_0b7f003c627446ebb10b9f1116f05e64",
            "placeholder": "​",
            "style": "IPY_MODEL_ab98df20e9164005941a6975bf5341ae",
            "value": "Map: 100%"
          }
        },
        "954d94a3ede04508a2aed433ce42a6d2": {
          "model_module": "@jupyter-widgets/controls",
          "model_name": "FloatProgressModel",
          "model_module_version": "1.5.0",
          "state": {
            "_dom_classes": [],
            "_model_module": "@jupyter-widgets/controls",
            "_model_module_version": "1.5.0",
            "_model_name": "FloatProgressModel",
            "_view_count": null,
            "_view_module": "@jupyter-widgets/controls",
            "_view_module_version": "1.5.0",
            "_view_name": "ProgressView",
            "bar_style": "success",
            "description": "",
            "description_tooltip": null,
            "layout": "IPY_MODEL_dc1fc224ed0946a18a0940750d974283",
            "max": 25,
            "min": 0,
            "orientation": "horizontal",
            "style": "IPY_MODEL_aef8898db8174f05acd9e1d6cec39235",
            "value": 25
          }
        },
        "2468828e3f41465b830c026692eff1e8": {
          "model_module": "@jupyter-widgets/controls",
          "model_name": "HTMLModel",
          "model_module_version": "1.5.0",
          "state": {
            "_dom_classes": [],
            "_model_module": "@jupyter-widgets/controls",
            "_model_module_version": "1.5.0",
            "_model_name": "HTMLModel",
            "_view_count": null,
            "_view_module": "@jupyter-widgets/controls",
            "_view_module_version": "1.5.0",
            "_view_name": "HTMLView",
            "description": "",
            "description_tooltip": null,
            "layout": "IPY_MODEL_e5f9019f011345dea65f8e3e24cc698f",
            "placeholder": "​",
            "style": "IPY_MODEL_302db2b8d8754ffeb056b500797e34f1",
            "value": " 25/25 [00:00&lt;00:00, 631.74 examples/s]"
          }
        },
        "3ab84651208242e28b1622c45adc528e": {
          "model_module": "@jupyter-widgets/base",
          "model_name": "LayoutModel",
          "model_module_version": "1.2.0",
          "state": {
            "_model_module": "@jupyter-widgets/base",
            "_model_module_version": "1.2.0",
            "_model_name": "LayoutModel",
            "_view_count": null,
            "_view_module": "@jupyter-widgets/base",
            "_view_module_version": "1.2.0",
            "_view_name": "LayoutView",
            "align_content": null,
            "align_items": null,
            "align_self": null,
            "border": null,
            "bottom": null,
            "display": null,
            "flex": null,
            "flex_flow": null,
            "grid_area": null,
            "grid_auto_columns": null,
            "grid_auto_flow": null,
            "grid_auto_rows": null,
            "grid_column": null,
            "grid_gap": null,
            "grid_row": null,
            "grid_template_areas": null,
            "grid_template_columns": null,
            "grid_template_rows": null,
            "height": null,
            "justify_content": null,
            "justify_items": null,
            "left": null,
            "margin": null,
            "max_height": null,
            "max_width": null,
            "min_height": null,
            "min_width": null,
            "object_fit": null,
            "object_position": null,
            "order": null,
            "overflow": null,
            "overflow_x": null,
            "overflow_y": null,
            "padding": null,
            "right": null,
            "top": null,
            "visibility": null,
            "width": null
          }
        },
        "0b7f003c627446ebb10b9f1116f05e64": {
          "model_module": "@jupyter-widgets/base",
          "model_name": "LayoutModel",
          "model_module_version": "1.2.0",
          "state": {
            "_model_module": "@jupyter-widgets/base",
            "_model_module_version": "1.2.0",
            "_model_name": "LayoutModel",
            "_view_count": null,
            "_view_module": "@jupyter-widgets/base",
            "_view_module_version": "1.2.0",
            "_view_name": "LayoutView",
            "align_content": null,
            "align_items": null,
            "align_self": null,
            "border": null,
            "bottom": null,
            "display": null,
            "flex": null,
            "flex_flow": null,
            "grid_area": null,
            "grid_auto_columns": null,
            "grid_auto_flow": null,
            "grid_auto_rows": null,
            "grid_column": null,
            "grid_gap": null,
            "grid_row": null,
            "grid_template_areas": null,
            "grid_template_columns": null,
            "grid_template_rows": null,
            "height": null,
            "justify_content": null,
            "justify_items": null,
            "left": null,
            "margin": null,
            "max_height": null,
            "max_width": null,
            "min_height": null,
            "min_width": null,
            "object_fit": null,
            "object_position": null,
            "order": null,
            "overflow": null,
            "overflow_x": null,
            "overflow_y": null,
            "padding": null,
            "right": null,
            "top": null,
            "visibility": null,
            "width": null
          }
        },
        "ab98df20e9164005941a6975bf5341ae": {
          "model_module": "@jupyter-widgets/controls",
          "model_name": "DescriptionStyleModel",
          "model_module_version": "1.5.0",
          "state": {
            "_model_module": "@jupyter-widgets/controls",
            "_model_module_version": "1.5.0",
            "_model_name": "DescriptionStyleModel",
            "_view_count": null,
            "_view_module": "@jupyter-widgets/base",
            "_view_module_version": "1.2.0",
            "_view_name": "StyleView",
            "description_width": ""
          }
        },
        "dc1fc224ed0946a18a0940750d974283": {
          "model_module": "@jupyter-widgets/base",
          "model_name": "LayoutModel",
          "model_module_version": "1.2.0",
          "state": {
            "_model_module": "@jupyter-widgets/base",
            "_model_module_version": "1.2.0",
            "_model_name": "LayoutModel",
            "_view_count": null,
            "_view_module": "@jupyter-widgets/base",
            "_view_module_version": "1.2.0",
            "_view_name": "LayoutView",
            "align_content": null,
            "align_items": null,
            "align_self": null,
            "border": null,
            "bottom": null,
            "display": null,
            "flex": null,
            "flex_flow": null,
            "grid_area": null,
            "grid_auto_columns": null,
            "grid_auto_flow": null,
            "grid_auto_rows": null,
            "grid_column": null,
            "grid_gap": null,
            "grid_row": null,
            "grid_template_areas": null,
            "grid_template_columns": null,
            "grid_template_rows": null,
            "height": null,
            "justify_content": null,
            "justify_items": null,
            "left": null,
            "margin": null,
            "max_height": null,
            "max_width": null,
            "min_height": null,
            "min_width": null,
            "object_fit": null,
            "object_position": null,
            "order": null,
            "overflow": null,
            "overflow_x": null,
            "overflow_y": null,
            "padding": null,
            "right": null,
            "top": null,
            "visibility": null,
            "width": null
          }
        },
        "aef8898db8174f05acd9e1d6cec39235": {
          "model_module": "@jupyter-widgets/controls",
          "model_name": "ProgressStyleModel",
          "model_module_version": "1.5.0",
          "state": {
            "_model_module": "@jupyter-widgets/controls",
            "_model_module_version": "1.5.0",
            "_model_name": "ProgressStyleModel",
            "_view_count": null,
            "_view_module": "@jupyter-widgets/base",
            "_view_module_version": "1.2.0",
            "_view_name": "StyleView",
            "bar_color": null,
            "description_width": ""
          }
        },
        "e5f9019f011345dea65f8e3e24cc698f": {
          "model_module": "@jupyter-widgets/base",
          "model_name": "LayoutModel",
          "model_module_version": "1.2.0",
          "state": {
            "_model_module": "@jupyter-widgets/base",
            "_model_module_version": "1.2.0",
            "_model_name": "LayoutModel",
            "_view_count": null,
            "_view_module": "@jupyter-widgets/base",
            "_view_module_version": "1.2.0",
            "_view_name": "LayoutView",
            "align_content": null,
            "align_items": null,
            "align_self": null,
            "border": null,
            "bottom": null,
            "display": null,
            "flex": null,
            "flex_flow": null,
            "grid_area": null,
            "grid_auto_columns": null,
            "grid_auto_flow": null,
            "grid_auto_rows": null,
            "grid_column": null,
            "grid_gap": null,
            "grid_row": null,
            "grid_template_areas": null,
            "grid_template_columns": null,
            "grid_template_rows": null,
            "height": null,
            "justify_content": null,
            "justify_items": null,
            "left": null,
            "margin": null,
            "max_height": null,
            "max_width": null,
            "min_height": null,
            "min_width": null,
            "object_fit": null,
            "object_position": null,
            "order": null,
            "overflow": null,
            "overflow_x": null,
            "overflow_y": null,
            "padding": null,
            "right": null,
            "top": null,
            "visibility": null,
            "width": null
          }
        },
        "302db2b8d8754ffeb056b500797e34f1": {
          "model_module": "@jupyter-widgets/controls",
          "model_name": "DescriptionStyleModel",
          "model_module_version": "1.5.0",
          "state": {
            "_model_module": "@jupyter-widgets/controls",
            "_model_module_version": "1.5.0",
            "_model_name": "DescriptionStyleModel",
            "_view_count": null,
            "_view_module": "@jupyter-widgets/base",
            "_view_module_version": "1.2.0",
            "_view_name": "StyleView",
            "description_width": ""
          }
        },
        "a4fe097db02745efb1114c796b69cd82": {
          "model_module": "@jupyter-widgets/controls",
          "model_name": "HBoxModel",
          "model_module_version": "1.5.0",
          "state": {
            "_dom_classes": [],
            "_model_module": "@jupyter-widgets/controls",
            "_model_module_version": "1.5.0",
            "_model_name": "HBoxModel",
            "_view_count": null,
            "_view_module": "@jupyter-widgets/controls",
            "_view_module_version": "1.5.0",
            "_view_name": "HBoxView",
            "box_style": "",
            "children": [
              "IPY_MODEL_3d2f74bb95cf4403a80d5be16e33ab1e",
              "IPY_MODEL_f1e03d099bcf4d08a2472f529156098a",
              "IPY_MODEL_88890bfb3e5d47d7b0324f5aacb93baa"
            ],
            "layout": "IPY_MODEL_bec36a252a674543b88192c62e9e090f"
          }
        },
        "3d2f74bb95cf4403a80d5be16e33ab1e": {
          "model_module": "@jupyter-widgets/controls",
          "model_name": "HTMLModel",
          "model_module_version": "1.5.0",
          "state": {
            "_dom_classes": [],
            "_model_module": "@jupyter-widgets/controls",
            "_model_module_version": "1.5.0",
            "_model_name": "HTMLModel",
            "_view_count": null,
            "_view_module": "@jupyter-widgets/controls",
            "_view_module_version": "1.5.0",
            "_view_name": "HTMLView",
            "description": "",
            "description_tooltip": null,
            "layout": "IPY_MODEL_d53f72a5c90842a58d650a8023b09261",
            "placeholder": "​",
            "style": "IPY_MODEL_1f297e2b4efd444890633c9dd77fbf7b",
            "value": "Map: 100%"
          }
        },
        "f1e03d099bcf4d08a2472f529156098a": {
          "model_module": "@jupyter-widgets/controls",
          "model_name": "FloatProgressModel",
          "model_module_version": "1.5.0",
          "state": {
            "_dom_classes": [],
            "_model_module": "@jupyter-widgets/controls",
            "_model_module_version": "1.5.0",
            "_model_name": "FloatProgressModel",
            "_view_count": null,
            "_view_module": "@jupyter-widgets/controls",
            "_view_module_version": "1.5.0",
            "_view_name": "ProgressView",
            "bar_style": "success",
            "description": "",
            "description_tooltip": null,
            "layout": "IPY_MODEL_785e98b750ca4654b25d11e6684e422a",
            "max": 95,
            "min": 0,
            "orientation": "horizontal",
            "style": "IPY_MODEL_4d804729bd304b97abb02dd8930193d5",
            "value": 95
          }
        },
        "88890bfb3e5d47d7b0324f5aacb93baa": {
          "model_module": "@jupyter-widgets/controls",
          "model_name": "HTMLModel",
          "model_module_version": "1.5.0",
          "state": {
            "_dom_classes": [],
            "_model_module": "@jupyter-widgets/controls",
            "_model_module_version": "1.5.0",
            "_model_name": "HTMLModel",
            "_view_count": null,
            "_view_module": "@jupyter-widgets/controls",
            "_view_module_version": "1.5.0",
            "_view_name": "HTMLView",
            "description": "",
            "description_tooltip": null,
            "layout": "IPY_MODEL_278be749f33244b4801712b8b3b38ec2",
            "placeholder": "​",
            "style": "IPY_MODEL_f8182f6ac58d4fb19f06dd5d873f8383",
            "value": " 95/95 [00:00&lt;00:00, 1904.24 examples/s]"
          }
        },
        "bec36a252a674543b88192c62e9e090f": {
          "model_module": "@jupyter-widgets/base",
          "model_name": "LayoutModel",
          "model_module_version": "1.2.0",
          "state": {
            "_model_module": "@jupyter-widgets/base",
            "_model_module_version": "1.2.0",
            "_model_name": "LayoutModel",
            "_view_count": null,
            "_view_module": "@jupyter-widgets/base",
            "_view_module_version": "1.2.0",
            "_view_name": "LayoutView",
            "align_content": null,
            "align_items": null,
            "align_self": null,
            "border": null,
            "bottom": null,
            "display": null,
            "flex": null,
            "flex_flow": null,
            "grid_area": null,
            "grid_auto_columns": null,
            "grid_auto_flow": null,
            "grid_auto_rows": null,
            "grid_column": null,
            "grid_gap": null,
            "grid_row": null,
            "grid_template_areas": null,
            "grid_template_columns": null,
            "grid_template_rows": null,
            "height": null,
            "justify_content": null,
            "justify_items": null,
            "left": null,
            "margin": null,
            "max_height": null,
            "max_width": null,
            "min_height": null,
            "min_width": null,
            "object_fit": null,
            "object_position": null,
            "order": null,
            "overflow": null,
            "overflow_x": null,
            "overflow_y": null,
            "padding": null,
            "right": null,
            "top": null,
            "visibility": null,
            "width": null
          }
        },
        "d53f72a5c90842a58d650a8023b09261": {
          "model_module": "@jupyter-widgets/base",
          "model_name": "LayoutModel",
          "model_module_version": "1.2.0",
          "state": {
            "_model_module": "@jupyter-widgets/base",
            "_model_module_version": "1.2.0",
            "_model_name": "LayoutModel",
            "_view_count": null,
            "_view_module": "@jupyter-widgets/base",
            "_view_module_version": "1.2.0",
            "_view_name": "LayoutView",
            "align_content": null,
            "align_items": null,
            "align_self": null,
            "border": null,
            "bottom": null,
            "display": null,
            "flex": null,
            "flex_flow": null,
            "grid_area": null,
            "grid_auto_columns": null,
            "grid_auto_flow": null,
            "grid_auto_rows": null,
            "grid_column": null,
            "grid_gap": null,
            "grid_row": null,
            "grid_template_areas": null,
            "grid_template_columns": null,
            "grid_template_rows": null,
            "height": null,
            "justify_content": null,
            "justify_items": null,
            "left": null,
            "margin": null,
            "max_height": null,
            "max_width": null,
            "min_height": null,
            "min_width": null,
            "object_fit": null,
            "object_position": null,
            "order": null,
            "overflow": null,
            "overflow_x": null,
            "overflow_y": null,
            "padding": null,
            "right": null,
            "top": null,
            "visibility": null,
            "width": null
          }
        },
        "1f297e2b4efd444890633c9dd77fbf7b": {
          "model_module": "@jupyter-widgets/controls",
          "model_name": "DescriptionStyleModel",
          "model_module_version": "1.5.0",
          "state": {
            "_model_module": "@jupyter-widgets/controls",
            "_model_module_version": "1.5.0",
            "_model_name": "DescriptionStyleModel",
            "_view_count": null,
            "_view_module": "@jupyter-widgets/base",
            "_view_module_version": "1.2.0",
            "_view_name": "StyleView",
            "description_width": ""
          }
        },
        "785e98b750ca4654b25d11e6684e422a": {
          "model_module": "@jupyter-widgets/base",
          "model_name": "LayoutModel",
          "model_module_version": "1.2.0",
          "state": {
            "_model_module": "@jupyter-widgets/base",
            "_model_module_version": "1.2.0",
            "_model_name": "LayoutModel",
            "_view_count": null,
            "_view_module": "@jupyter-widgets/base",
            "_view_module_version": "1.2.0",
            "_view_name": "LayoutView",
            "align_content": null,
            "align_items": null,
            "align_self": null,
            "border": null,
            "bottom": null,
            "display": null,
            "flex": null,
            "flex_flow": null,
            "grid_area": null,
            "grid_auto_columns": null,
            "grid_auto_flow": null,
            "grid_auto_rows": null,
            "grid_column": null,
            "grid_gap": null,
            "grid_row": null,
            "grid_template_areas": null,
            "grid_template_columns": null,
            "grid_template_rows": null,
            "height": null,
            "justify_content": null,
            "justify_items": null,
            "left": null,
            "margin": null,
            "max_height": null,
            "max_width": null,
            "min_height": null,
            "min_width": null,
            "object_fit": null,
            "object_position": null,
            "order": null,
            "overflow": null,
            "overflow_x": null,
            "overflow_y": null,
            "padding": null,
            "right": null,
            "top": null,
            "visibility": null,
            "width": null
          }
        },
        "4d804729bd304b97abb02dd8930193d5": {
          "model_module": "@jupyter-widgets/controls",
          "model_name": "ProgressStyleModel",
          "model_module_version": "1.5.0",
          "state": {
            "_model_module": "@jupyter-widgets/controls",
            "_model_module_version": "1.5.0",
            "_model_name": "ProgressStyleModel",
            "_view_count": null,
            "_view_module": "@jupyter-widgets/base",
            "_view_module_version": "1.2.0",
            "_view_name": "StyleView",
            "bar_color": null,
            "description_width": ""
          }
        },
        "278be749f33244b4801712b8b3b38ec2": {
          "model_module": "@jupyter-widgets/base",
          "model_name": "LayoutModel",
          "model_module_version": "1.2.0",
          "state": {
            "_model_module": "@jupyter-widgets/base",
            "_model_module_version": "1.2.0",
            "_model_name": "LayoutModel",
            "_view_count": null,
            "_view_module": "@jupyter-widgets/base",
            "_view_module_version": "1.2.0",
            "_view_name": "LayoutView",
            "align_content": null,
            "align_items": null,
            "align_self": null,
            "border": null,
            "bottom": null,
            "display": null,
            "flex": null,
            "flex_flow": null,
            "grid_area": null,
            "grid_auto_columns": null,
            "grid_auto_flow": null,
            "grid_auto_rows": null,
            "grid_column": null,
            "grid_gap": null,
            "grid_row": null,
            "grid_template_areas": null,
            "grid_template_columns": null,
            "grid_template_rows": null,
            "height": null,
            "justify_content": null,
            "justify_items": null,
            "left": null,
            "margin": null,
            "max_height": null,
            "max_width": null,
            "min_height": null,
            "min_width": null,
            "object_fit": null,
            "object_position": null,
            "order": null,
            "overflow": null,
            "overflow_x": null,
            "overflow_y": null,
            "padding": null,
            "right": null,
            "top": null,
            "visibility": null,
            "width": null
          }
        },
        "f8182f6ac58d4fb19f06dd5d873f8383": {
          "model_module": "@jupyter-widgets/controls",
          "model_name": "DescriptionStyleModel",
          "model_module_version": "1.5.0",
          "state": {
            "_model_module": "@jupyter-widgets/controls",
            "_model_module_version": "1.5.0",
            "_model_name": "DescriptionStyleModel",
            "_view_count": null,
            "_view_module": "@jupyter-widgets/base",
            "_view_module_version": "1.2.0",
            "_view_name": "StyleView",
            "description_width": ""
          }
        },
        "71b9f5956cfc4aabba2dfbc09f8076c4": {
          "model_module": "@jupyter-widgets/controls",
          "model_name": "HBoxModel",
          "model_module_version": "1.5.0",
          "state": {
            "_dom_classes": [],
            "_model_module": "@jupyter-widgets/controls",
            "_model_module_version": "1.5.0",
            "_model_name": "HBoxModel",
            "_view_count": null,
            "_view_module": "@jupyter-widgets/controls",
            "_view_module_version": "1.5.0",
            "_view_name": "HBoxView",
            "box_style": "",
            "children": [
              "IPY_MODEL_d8cfde76142b4cdcbabba7e89290b06b",
              "IPY_MODEL_f3ce278e54c4488ab78ffd30e9882691",
              "IPY_MODEL_c4a33045db454ee9a9033994b74007aa"
            ],
            "layout": "IPY_MODEL_d1317e6bf5664822a974ff889e193b11"
          }
        },
        "d8cfde76142b4cdcbabba7e89290b06b": {
          "model_module": "@jupyter-widgets/controls",
          "model_name": "HTMLModel",
          "model_module_version": "1.5.0",
          "state": {
            "_dom_classes": [],
            "_model_module": "@jupyter-widgets/controls",
            "_model_module_version": "1.5.0",
            "_model_name": "HTMLModel",
            "_view_count": null,
            "_view_module": "@jupyter-widgets/controls",
            "_view_module_version": "1.5.0",
            "_view_name": "HTMLView",
            "description": "",
            "description_tooltip": null,
            "layout": "IPY_MODEL_11bea58d27474ceb9f5b34087901ab92",
            "placeholder": "​",
            "style": "IPY_MODEL_ebdcfd4f347742998f90cff9f62ab04a",
            "value": "model.safetensors: 100%"
          }
        },
        "f3ce278e54c4488ab78ffd30e9882691": {
          "model_module": "@jupyter-widgets/controls",
          "model_name": "FloatProgressModel",
          "model_module_version": "1.5.0",
          "state": {
            "_dom_classes": [],
            "_model_module": "@jupyter-widgets/controls",
            "_model_module_version": "1.5.0",
            "_model_name": "FloatProgressModel",
            "_view_count": null,
            "_view_module": "@jupyter-widgets/controls",
            "_view_module_version": "1.5.0",
            "_view_name": "ProgressView",
            "bar_style": "success",
            "description": "",
            "description_tooltip": null,
            "layout": "IPY_MODEL_8fc714944ac449f9b08069862392b845",
            "max": 1625222120,
            "min": 0,
            "orientation": "horizontal",
            "style": "IPY_MODEL_17160bc3cc7049689ff7eb24551e883e",
            "value": 1625222120
          }
        },
        "c4a33045db454ee9a9033994b74007aa": {
          "model_module": "@jupyter-widgets/controls",
          "model_name": "HTMLModel",
          "model_module_version": "1.5.0",
          "state": {
            "_dom_classes": [],
            "_model_module": "@jupyter-widgets/controls",
            "_model_module_version": "1.5.0",
            "_model_name": "HTMLModel",
            "_view_count": null,
            "_view_module": "@jupyter-widgets/controls",
            "_view_module_version": "1.5.0",
            "_view_name": "HTMLView",
            "description": "",
            "description_tooltip": null,
            "layout": "IPY_MODEL_65002b1ea426478281dd63f6d289a3fa",
            "placeholder": "​",
            "style": "IPY_MODEL_d80104765b8647e0a94a2948e57eb0d8",
            "value": " 1.63G/1.63G [00:05&lt;00:00, 306MB/s]"
          }
        },
        "d1317e6bf5664822a974ff889e193b11": {
          "model_module": "@jupyter-widgets/base",
          "model_name": "LayoutModel",
          "model_module_version": "1.2.0",
          "state": {
            "_model_module": "@jupyter-widgets/base",
            "_model_module_version": "1.2.0",
            "_model_name": "LayoutModel",
            "_view_count": null,
            "_view_module": "@jupyter-widgets/base",
            "_view_module_version": "1.2.0",
            "_view_name": "LayoutView",
            "align_content": null,
            "align_items": null,
            "align_self": null,
            "border": null,
            "bottom": null,
            "display": null,
            "flex": null,
            "flex_flow": null,
            "grid_area": null,
            "grid_auto_columns": null,
            "grid_auto_flow": null,
            "grid_auto_rows": null,
            "grid_column": null,
            "grid_gap": null,
            "grid_row": null,
            "grid_template_areas": null,
            "grid_template_columns": null,
            "grid_template_rows": null,
            "height": null,
            "justify_content": null,
            "justify_items": null,
            "left": null,
            "margin": null,
            "max_height": null,
            "max_width": null,
            "min_height": null,
            "min_width": null,
            "object_fit": null,
            "object_position": null,
            "order": null,
            "overflow": null,
            "overflow_x": null,
            "overflow_y": null,
            "padding": null,
            "right": null,
            "top": null,
            "visibility": null,
            "width": null
          }
        },
        "11bea58d27474ceb9f5b34087901ab92": {
          "model_module": "@jupyter-widgets/base",
          "model_name": "LayoutModel",
          "model_module_version": "1.2.0",
          "state": {
            "_model_module": "@jupyter-widgets/base",
            "_model_module_version": "1.2.0",
            "_model_name": "LayoutModel",
            "_view_count": null,
            "_view_module": "@jupyter-widgets/base",
            "_view_module_version": "1.2.0",
            "_view_name": "LayoutView",
            "align_content": null,
            "align_items": null,
            "align_self": null,
            "border": null,
            "bottom": null,
            "display": null,
            "flex": null,
            "flex_flow": null,
            "grid_area": null,
            "grid_auto_columns": null,
            "grid_auto_flow": null,
            "grid_auto_rows": null,
            "grid_column": null,
            "grid_gap": null,
            "grid_row": null,
            "grid_template_areas": null,
            "grid_template_columns": null,
            "grid_template_rows": null,
            "height": null,
            "justify_content": null,
            "justify_items": null,
            "left": null,
            "margin": null,
            "max_height": null,
            "max_width": null,
            "min_height": null,
            "min_width": null,
            "object_fit": null,
            "object_position": null,
            "order": null,
            "overflow": null,
            "overflow_x": null,
            "overflow_y": null,
            "padding": null,
            "right": null,
            "top": null,
            "visibility": null,
            "width": null
          }
        },
        "ebdcfd4f347742998f90cff9f62ab04a": {
          "model_module": "@jupyter-widgets/controls",
          "model_name": "DescriptionStyleModel",
          "model_module_version": "1.5.0",
          "state": {
            "_model_module": "@jupyter-widgets/controls",
            "_model_module_version": "1.5.0",
            "_model_name": "DescriptionStyleModel",
            "_view_count": null,
            "_view_module": "@jupyter-widgets/base",
            "_view_module_version": "1.2.0",
            "_view_name": "StyleView",
            "description_width": ""
          }
        },
        "8fc714944ac449f9b08069862392b845": {
          "model_module": "@jupyter-widgets/base",
          "model_name": "LayoutModel",
          "model_module_version": "1.2.0",
          "state": {
            "_model_module": "@jupyter-widgets/base",
            "_model_module_version": "1.2.0",
            "_model_name": "LayoutModel",
            "_view_count": null,
            "_view_module": "@jupyter-widgets/base",
            "_view_module_version": "1.2.0",
            "_view_name": "LayoutView",
            "align_content": null,
            "align_items": null,
            "align_self": null,
            "border": null,
            "bottom": null,
            "display": null,
            "flex": null,
            "flex_flow": null,
            "grid_area": null,
            "grid_auto_columns": null,
            "grid_auto_flow": null,
            "grid_auto_rows": null,
            "grid_column": null,
            "grid_gap": null,
            "grid_row": null,
            "grid_template_areas": null,
            "grid_template_columns": null,
            "grid_template_rows": null,
            "height": null,
            "justify_content": null,
            "justify_items": null,
            "left": null,
            "margin": null,
            "max_height": null,
            "max_width": null,
            "min_height": null,
            "min_width": null,
            "object_fit": null,
            "object_position": null,
            "order": null,
            "overflow": null,
            "overflow_x": null,
            "overflow_y": null,
            "padding": null,
            "right": null,
            "top": null,
            "visibility": null,
            "width": null
          }
        },
        "17160bc3cc7049689ff7eb24551e883e": {
          "model_module": "@jupyter-widgets/controls",
          "model_name": "ProgressStyleModel",
          "model_module_version": "1.5.0",
          "state": {
            "_model_module": "@jupyter-widgets/controls",
            "_model_module_version": "1.5.0",
            "_model_name": "ProgressStyleModel",
            "_view_count": null,
            "_view_module": "@jupyter-widgets/base",
            "_view_module_version": "1.2.0",
            "_view_name": "StyleView",
            "bar_color": null,
            "description_width": ""
          }
        },
        "65002b1ea426478281dd63f6d289a3fa": {
          "model_module": "@jupyter-widgets/base",
          "model_name": "LayoutModel",
          "model_module_version": "1.2.0",
          "state": {
            "_model_module": "@jupyter-widgets/base",
            "_model_module_version": "1.2.0",
            "_model_name": "LayoutModel",
            "_view_count": null,
            "_view_module": "@jupyter-widgets/base",
            "_view_module_version": "1.2.0",
            "_view_name": "LayoutView",
            "align_content": null,
            "align_items": null,
            "align_self": null,
            "border": null,
            "bottom": null,
            "display": null,
            "flex": null,
            "flex_flow": null,
            "grid_area": null,
            "grid_auto_columns": null,
            "grid_auto_flow": null,
            "grid_auto_rows": null,
            "grid_column": null,
            "grid_gap": null,
            "grid_row": null,
            "grid_template_areas": null,
            "grid_template_columns": null,
            "grid_template_rows": null,
            "height": null,
            "justify_content": null,
            "justify_items": null,
            "left": null,
            "margin": null,
            "max_height": null,
            "max_width": null,
            "min_height": null,
            "min_width": null,
            "object_fit": null,
            "object_position": null,
            "order": null,
            "overflow": null,
            "overflow_x": null,
            "overflow_y": null,
            "padding": null,
            "right": null,
            "top": null,
            "visibility": null,
            "width": null
          }
        },
        "d80104765b8647e0a94a2948e57eb0d8": {
          "model_module": "@jupyter-widgets/controls",
          "model_name": "DescriptionStyleModel",
          "model_module_version": "1.5.0",
          "state": {
            "_model_module": "@jupyter-widgets/controls",
            "_model_module_version": "1.5.0",
            "_model_name": "DescriptionStyleModel",
            "_view_count": null,
            "_view_module": "@jupyter-widgets/base",
            "_view_module_version": "1.2.0",
            "_view_name": "StyleView",
            "description_width": ""
          }
        },
        "e8d8111c7863430e87728b579e7ee222": {
          "model_module": "@jupyter-widgets/controls",
          "model_name": "HBoxModel",
          "model_module_version": "1.5.0",
          "state": {
            "_dom_classes": [],
            "_model_module": "@jupyter-widgets/controls",
            "_model_module_version": "1.5.0",
            "_model_name": "HBoxModel",
            "_view_count": null,
            "_view_module": "@jupyter-widgets/controls",
            "_view_module_version": "1.5.0",
            "_view_name": "HBoxView",
            "box_style": "",
            "children": [
              "IPY_MODEL_37d41c5e34d04784bc96181791ca1fa9",
              "IPY_MODEL_045ca5df2ec3421d8d97df2a1d5cf547",
              "IPY_MODEL_4b324ff5a35b4cf6bd9d6e89162ef71f"
            ],
            "layout": "IPY_MODEL_385ac7f39f9a414899adb99ce123c207"
          }
        },
        "37d41c5e34d04784bc96181791ca1fa9": {
          "model_module": "@jupyter-widgets/controls",
          "model_name": "HTMLModel",
          "model_module_version": "1.5.0",
          "state": {
            "_dom_classes": [],
            "_model_module": "@jupyter-widgets/controls",
            "_model_module_version": "1.5.0",
            "_model_name": "HTMLModel",
            "_view_count": null,
            "_view_module": "@jupyter-widgets/controls",
            "_view_module_version": "1.5.0",
            "_view_name": "HTMLView",
            "description": "",
            "description_tooltip": null,
            "layout": "IPY_MODEL_6bf36a911a154660bc2f7f40142c7e69",
            "placeholder": "​",
            "style": "IPY_MODEL_397748cf507b479d980f1ab9ce6e89d4",
            "value": "generation_config.json: 100%"
          }
        },
        "045ca5df2ec3421d8d97df2a1d5cf547": {
          "model_module": "@jupyter-widgets/controls",
          "model_name": "FloatProgressModel",
          "model_module_version": "1.5.0",
          "state": {
            "_dom_classes": [],
            "_model_module": "@jupyter-widgets/controls",
            "_model_module_version": "1.5.0",
            "_model_name": "FloatProgressModel",
            "_view_count": null,
            "_view_module": "@jupyter-widgets/controls",
            "_view_module_version": "1.5.0",
            "_view_name": "ProgressView",
            "bar_style": "success",
            "description": "",
            "description_tooltip": null,
            "layout": "IPY_MODEL_377e0fcde1dd4ea7b710d0d3530445bc",
            "max": 363,
            "min": 0,
            "orientation": "horizontal",
            "style": "IPY_MODEL_ca23b7d14f8e4337a22f1c9d2f59527f",
            "value": 363
          }
        },
        "4b324ff5a35b4cf6bd9d6e89162ef71f": {
          "model_module": "@jupyter-widgets/controls",
          "model_name": "HTMLModel",
          "model_module_version": "1.5.0",
          "state": {
            "_dom_classes": [],
            "_model_module": "@jupyter-widgets/controls",
            "_model_module_version": "1.5.0",
            "_model_name": "HTMLModel",
            "_view_count": null,
            "_view_module": "@jupyter-widgets/controls",
            "_view_module_version": "1.5.0",
            "_view_name": "HTMLView",
            "description": "",
            "description_tooltip": null,
            "layout": "IPY_MODEL_6af05b5fb58e4473a79dd6579f6a7af1",
            "placeholder": "​",
            "style": "IPY_MODEL_801c3d06cdd042dfa2d2ae15b6817d80",
            "value": " 363/363 [00:00&lt;00:00, 34.2kB/s]"
          }
        },
        "385ac7f39f9a414899adb99ce123c207": {
          "model_module": "@jupyter-widgets/base",
          "model_name": "LayoutModel",
          "model_module_version": "1.2.0",
          "state": {
            "_model_module": "@jupyter-widgets/base",
            "_model_module_version": "1.2.0",
            "_model_name": "LayoutModel",
            "_view_count": null,
            "_view_module": "@jupyter-widgets/base",
            "_view_module_version": "1.2.0",
            "_view_name": "LayoutView",
            "align_content": null,
            "align_items": null,
            "align_self": null,
            "border": null,
            "bottom": null,
            "display": null,
            "flex": null,
            "flex_flow": null,
            "grid_area": null,
            "grid_auto_columns": null,
            "grid_auto_flow": null,
            "grid_auto_rows": null,
            "grid_column": null,
            "grid_gap": null,
            "grid_row": null,
            "grid_template_areas": null,
            "grid_template_columns": null,
            "grid_template_rows": null,
            "height": null,
            "justify_content": null,
            "justify_items": null,
            "left": null,
            "margin": null,
            "max_height": null,
            "max_width": null,
            "min_height": null,
            "min_width": null,
            "object_fit": null,
            "object_position": null,
            "order": null,
            "overflow": null,
            "overflow_x": null,
            "overflow_y": null,
            "padding": null,
            "right": null,
            "top": null,
            "visibility": null,
            "width": null
          }
        },
        "6bf36a911a154660bc2f7f40142c7e69": {
          "model_module": "@jupyter-widgets/base",
          "model_name": "LayoutModel",
          "model_module_version": "1.2.0",
          "state": {
            "_model_module": "@jupyter-widgets/base",
            "_model_module_version": "1.2.0",
            "_model_name": "LayoutModel",
            "_view_count": null,
            "_view_module": "@jupyter-widgets/base",
            "_view_module_version": "1.2.0",
            "_view_name": "LayoutView",
            "align_content": null,
            "align_items": null,
            "align_self": null,
            "border": null,
            "bottom": null,
            "display": null,
            "flex": null,
            "flex_flow": null,
            "grid_area": null,
            "grid_auto_columns": null,
            "grid_auto_flow": null,
            "grid_auto_rows": null,
            "grid_column": null,
            "grid_gap": null,
            "grid_row": null,
            "grid_template_areas": null,
            "grid_template_columns": null,
            "grid_template_rows": null,
            "height": null,
            "justify_content": null,
            "justify_items": null,
            "left": null,
            "margin": null,
            "max_height": null,
            "max_width": null,
            "min_height": null,
            "min_width": null,
            "object_fit": null,
            "object_position": null,
            "order": null,
            "overflow": null,
            "overflow_x": null,
            "overflow_y": null,
            "padding": null,
            "right": null,
            "top": null,
            "visibility": null,
            "width": null
          }
        },
        "397748cf507b479d980f1ab9ce6e89d4": {
          "model_module": "@jupyter-widgets/controls",
          "model_name": "DescriptionStyleModel",
          "model_module_version": "1.5.0",
          "state": {
            "_model_module": "@jupyter-widgets/controls",
            "_model_module_version": "1.5.0",
            "_model_name": "DescriptionStyleModel",
            "_view_count": null,
            "_view_module": "@jupyter-widgets/base",
            "_view_module_version": "1.2.0",
            "_view_name": "StyleView",
            "description_width": ""
          }
        },
        "377e0fcde1dd4ea7b710d0d3530445bc": {
          "model_module": "@jupyter-widgets/base",
          "model_name": "LayoutModel",
          "model_module_version": "1.2.0",
          "state": {
            "_model_module": "@jupyter-widgets/base",
            "_model_module_version": "1.2.0",
            "_model_name": "LayoutModel",
            "_view_count": null,
            "_view_module": "@jupyter-widgets/base",
            "_view_module_version": "1.2.0",
            "_view_name": "LayoutView",
            "align_content": null,
            "align_items": null,
            "align_self": null,
            "border": null,
            "bottom": null,
            "display": null,
            "flex": null,
            "flex_flow": null,
            "grid_area": null,
            "grid_auto_columns": null,
            "grid_auto_flow": null,
            "grid_auto_rows": null,
            "grid_column": null,
            "grid_gap": null,
            "grid_row": null,
            "grid_template_areas": null,
            "grid_template_columns": null,
            "grid_template_rows": null,
            "height": null,
            "justify_content": null,
            "justify_items": null,
            "left": null,
            "margin": null,
            "max_height": null,
            "max_width": null,
            "min_height": null,
            "min_width": null,
            "object_fit": null,
            "object_position": null,
            "order": null,
            "overflow": null,
            "overflow_x": null,
            "overflow_y": null,
            "padding": null,
            "right": null,
            "top": null,
            "visibility": null,
            "width": null
          }
        },
        "ca23b7d14f8e4337a22f1c9d2f59527f": {
          "model_module": "@jupyter-widgets/controls",
          "model_name": "ProgressStyleModel",
          "model_module_version": "1.5.0",
          "state": {
            "_model_module": "@jupyter-widgets/controls",
            "_model_module_version": "1.5.0",
            "_model_name": "ProgressStyleModel",
            "_view_count": null,
            "_view_module": "@jupyter-widgets/base",
            "_view_module_version": "1.2.0",
            "_view_name": "StyleView",
            "bar_color": null,
            "description_width": ""
          }
        },
        "6af05b5fb58e4473a79dd6579f6a7af1": {
          "model_module": "@jupyter-widgets/base",
          "model_name": "LayoutModel",
          "model_module_version": "1.2.0",
          "state": {
            "_model_module": "@jupyter-widgets/base",
            "_model_module_version": "1.2.0",
            "_model_name": "LayoutModel",
            "_view_count": null,
            "_view_module": "@jupyter-widgets/base",
            "_view_module_version": "1.2.0",
            "_view_name": "LayoutView",
            "align_content": null,
            "align_items": null,
            "align_self": null,
            "border": null,
            "bottom": null,
            "display": null,
            "flex": null,
            "flex_flow": null,
            "grid_area": null,
            "grid_auto_columns": null,
            "grid_auto_flow": null,
            "grid_auto_rows": null,
            "grid_column": null,
            "grid_gap": null,
            "grid_row": null,
            "grid_template_areas": null,
            "grid_template_columns": null,
            "grid_template_rows": null,
            "height": null,
            "justify_content": null,
            "justify_items": null,
            "left": null,
            "margin": null,
            "max_height": null,
            "max_width": null,
            "min_height": null,
            "min_width": null,
            "object_fit": null,
            "object_position": null,
            "order": null,
            "overflow": null,
            "overflow_x": null,
            "overflow_y": null,
            "padding": null,
            "right": null,
            "top": null,
            "visibility": null,
            "width": null
          }
        },
        "801c3d06cdd042dfa2d2ae15b6817d80": {
          "model_module": "@jupyter-widgets/controls",
          "model_name": "DescriptionStyleModel",
          "model_module_version": "1.5.0",
          "state": {
            "_model_module": "@jupyter-widgets/controls",
            "_model_module_version": "1.5.0",
            "_model_name": "DescriptionStyleModel",
            "_view_count": null,
            "_view_module": "@jupyter-widgets/base",
            "_view_module_version": "1.2.0",
            "_view_name": "StyleView",
            "description_width": ""
          }
        }
      }
    }
  },
  "nbformat": 4,
  "nbformat_minor": 0
}